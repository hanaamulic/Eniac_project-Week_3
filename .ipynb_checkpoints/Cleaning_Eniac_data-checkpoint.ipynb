{
 "cells": [
  {
   "cell_type": "markdown",
   "id": "dfb00a1a-e187-499b-8533-a057e548612a",
   "metadata": {},
   "source": [
    "# Eniac data cleaning"
   ]
  },
  {
   "cell_type": "code",
   "execution_count": 1,
   "id": "83e32e64-2317-4258-ab12-06cd4d874857",
   "metadata": {},
   "outputs": [],
   "source": [
    "import pandas as pd\n",
    "from functools import wraps\n",
    "import datetime as dt\n",
    "from Functions_module import *"
   ]
  },
  {
   "cell_type": "code",
   "execution_count": 2,
   "id": "d1f0bff5-0a30-4f98-87ae-b59bce9c57a4",
   "metadata": {},
   "outputs": [],
   "source": [
    "orderlines = pd.read_csv('data/eniac/orderlines.csv')\n",
    "products = pd.read_csv('data/eniac/products.csv')\n",
    "orders = pd.read_csv('data/eniac/orders.csv')"
   ]
  },
  {
   "cell_type": "markdown",
   "id": "34854a2e-e6f9-4da0-bac8-6541410e08f9",
   "metadata": {
    "tags": []
   },
   "source": [
    "## Products info"
   ]
  },
  {
   "cell_type": "code",
   "execution_count": 3,
   "id": "c189e065-1cf6-4451-b11f-b6f86c2e1897",
   "metadata": {
    "tags": []
   },
   "outputs": [
    {
     "name": "stdout",
     "output_type": "stream",
     "text": [
      "Missing values:\n",
      "sku             0\n",
      "name            0\n",
      "desc            7\n",
      "price          46\n",
      "promo_price     0\n",
      "in_stock        0\n",
      "type           50\n",
      "dtype: int64\n",
      "Duplicated rows:  8746\n",
      "<class 'pandas.core.frame.DataFrame'>\n",
      "RangeIndex: 19326 entries, 0 to 19325\n",
      "Data columns (total 7 columns):\n",
      " #   Column       Non-Null Count  Dtype \n",
      "---  ------       --------------  ----- \n",
      " 0   sku          19326 non-null  object\n",
      " 1   name         19326 non-null  object\n",
      " 2   desc         19319 non-null  object\n",
      " 3   price        19280 non-null  object\n",
      " 4   promo_price  19326 non-null  object\n",
      " 5   in_stock     19326 non-null  int64 \n",
      " 6   type         19276 non-null  object\n",
      "dtypes: int64(1), object(6)\n",
      "memory usage: 1.0+ MB\n"
     ]
    }
   ],
   "source": [
    "check_table(products)"
   ]
  },
  {
   "cell_type": "markdown",
   "id": "85762f71-4b0a-4422-9ad5-2fcccbadf892",
   "metadata": {},
   "source": [
    "### Dropping columns"
   ]
  },
  {
   "cell_type": "markdown",
   "id": "05a6628b-fd88-4159-8673-b2b357e352eb",
   "metadata": {},
   "source": [
    "I have decided that for my future analisys I don't need columns 'in_stock' and 'type'. I am passing list of colums as an argument"
   ]
  },
  {
   "cell_type": "code",
   "execution_count": 4,
   "id": "2ac53796-b1fc-46bd-ba72-4e72e65607ea",
   "metadata": {},
   "outputs": [],
   "source": [
    "columns_to_drop = ['in_stock','type']"
   ]
  },
  {
   "cell_type": "markdown",
   "id": "25bfcbf8-ffcd-4c86-9314-aa0ed1d61b6e",
   "metadata": {},
   "source": [
    "### Dealing with NaN values"
   ]
  },
  {
   "cell_type": "markdown",
   "id": "95e373b2-c971-452e-ae29-c1458799a763",
   "metadata": {
    "tags": []
   },
   "source": [
    "I have decided to exclude all rows that have NaN value in 'price' and 'desc' column since there are very few of them. I have forwarded function called select_nonNan_rows to pipeline."
   ]
  },
  {
   "cell_type": "code",
   "execution_count": 5,
   "id": "9e1610dc-ff3f-4b79-91e8-9e47d1f09fff",
   "metadata": {},
   "outputs": [],
   "source": [
    "columns_where_NaNs_are = ['price','desc']"
   ]
  },
  {
   "cell_type": "markdown",
   "id": "3129bd15-61a4-4d31-b5aa-63fc8ff008ec",
   "metadata": {},
   "source": [
    "### Losing duplicates"
   ]
  },
  {
   "cell_type": "code",
   "execution_count": 6,
   "id": "e87b2416-5f15-4d59-ad7a-2a08648403bf",
   "metadata": {},
   "outputs": [],
   "source": [
    "columns_arg_for_duplicates_drop = ['sku']"
   ]
  },
  {
   "cell_type": "markdown",
   "id": "5c265c93-4613-48c0-b713-2257e9c112ca",
   "metadata": {},
   "source": [
    "### Changing types "
   ]
  },
  {
   "cell_type": "markdown",
   "id": "626f95c3-6cb6-4dfa-883c-c4da8f9e667b",
   "metadata": {
    "tags": []
   },
   "source": [
    "I have to change types of 'price' and 'promo_price' from object to float"
   ]
  },
  {
   "cell_type": "markdown",
   "id": "23ac69c3-8ae5-4fea-90f5-44e1f5619399",
   "metadata": {},
   "source": [
    "It seems like price and promo price had some problems with decimals, decimal spaces...so I have created clean_promo_price and clean_price functions that clean those. After that I was able to change types to float."
   ]
  },
  {
   "cell_type": "markdown",
   "id": "8ea791d6-9b05-4e7f-90a6-e053ff18941d",
   "metadata": {},
   "source": [
    "## Pipeline"
   ]
  },
  {
   "cell_type": "code",
   "execution_count": 8,
   "id": "e86077ad-192b-41c3-b2ce-29cef1a305d7",
   "metadata": {},
   "outputs": [
    {
     "name": "stdout",
     "output_type": "stream",
     "text": [
      "just ran step start_pipeline shape=(19326, 7) took 0:00:00.002992s\n",
      "just ran step drop_columns shape=(19326, 5) took 0:00:00.003989s\n",
      "just ran step select_notNan_rows shape=(19273, 5) took 0:00:00.014963s\n",
      "just ran step drop_duplicates_custom shape=(10527, 5) took 0:00:00.013963s\n",
      "just ran step clean_prices shape=(10527, 5) took 0:00:00.080903s\n"
     ]
    }
   ],
   "source": [
    "p = (products\n",
    "     .pipe(start_pipeline)\n",
    "     .pipe(drop_columns,columns_to_drop)\n",
    "     .pipe(select_notNan_rows,columns_where_NaNs_are)\n",
    "     .pipe(drop_duplicates_custom,columns_arg_for_duplicates_drop)\n",
    "     .pipe(clean_prices,['price','promo_price'])\n",
    ")"
   ]
  },
  {
   "cell_type": "code",
   "execution_count": null,
   "id": "9e23c4f8-e553-4777-9f64-a1f1e1ab7099",
   "metadata": {},
   "outputs": [],
   "source": [
    "check_table(p)"
   ]
  },
  {
   "cell_type": "code",
   "execution_count": 10,
   "id": "f0a27d3e-337a-4f08-b811-bc4f9832e9ee",
   "metadata": {},
   "outputs": [
    {
     "data": {
      "text/html": [
       "<div>\n",
       "<style scoped>\n",
       "    .dataframe tbody tr th:only-of-type {\n",
       "        vertical-align: middle;\n",
       "    }\n",
       "\n",
       "    .dataframe tbody tr th {\n",
       "        vertical-align: top;\n",
       "    }\n",
       "\n",
       "    .dataframe thead th {\n",
       "        text-align: right;\n",
       "    }\n",
       "</style>\n",
       "<table border=\"1\" class=\"dataframe\">\n",
       "  <thead>\n",
       "    <tr style=\"text-align: right;\">\n",
       "      <th></th>\n",
       "      <th>sku</th>\n",
       "      <th>name</th>\n",
       "      <th>desc</th>\n",
       "      <th>price</th>\n",
       "      <th>promo_price</th>\n",
       "    </tr>\n",
       "  </thead>\n",
       "  <tbody>\n",
       "    <tr>\n",
       "      <th>11364</th>\n",
       "      <td>APP1218</td>\n",
       "      <td>Apple iPad Smart Cover Case Pro 129 \"White</td>\n",
       "      <td>Smart cover with different positions for iPad ...</td>\n",
       "      <td>69.0000</td>\n",
       "      <td>58.0001</td>\n",
       "    </tr>\n",
       "    <tr>\n",
       "      <th>11578</th>\n",
       "      <td>PAC1286</td>\n",
       "      <td>QNAP TS-451 Pack | 4GB RAM | Seagate Desktop 16TB</td>\n",
       "      <td>QNAP TS-451 Pack + 4GB memory RAM + 16TB (4x4T...</td>\n",
       "      <td>1070.9569</td>\n",
       "      <td>982.9895</td>\n",
       "    </tr>\n",
       "    <tr>\n",
       "      <th>109</th>\n",
       "      <td>PAC0508</td>\n",
       "      <td>Apple MacBook Pro 133 '' 25GHz | 16GB RAM | 1T...</td>\n",
       "      <td>Apple MacBook Pro Fusion Drive 16GB 2 internal...</td>\n",
       "      <td>1919.0000</td>\n",
       "      <td>1699.9895</td>\n",
       "    </tr>\n",
       "    <tr>\n",
       "      <th>2499</th>\n",
       "      <td>ADO0079</td>\n",
       "      <td>Adobe Dreamweaver CC Update -Design Web-</td>\n",
       "      <td>Adobe Dreamweaver software update for Mac and PC.</td>\n",
       "      <td>290.2500</td>\n",
       "      <td>289.9886</td>\n",
       "    </tr>\n",
       "    <tr>\n",
       "      <th>17427</th>\n",
       "      <td>AP20321</td>\n",
       "      <td>Like new - Apple iPhone 7 32GB Gold</td>\n",
       "      <td>Apple iPhone 32GB 7 plus free gold reconditioned</td>\n",
       "      <td>639.0000</td>\n",
       "      <td>519.0053</td>\n",
       "    </tr>\n",
       "    <tr>\n",
       "      <th>13727</th>\n",
       "      <td>PAR0068</td>\n",
       "      <td>Mando Parrot FLYPAD</td>\n",
       "      <td>Mando compatible with minidrones includes supp...</td>\n",
       "      <td>39.0000</td>\n",
       "      <td>36.9897</td>\n",
       "    </tr>\n",
       "    <tr>\n",
       "      <th>17313</th>\n",
       "      <td>LAC0237</td>\n",
       "      <td>LaCie d2 Quadra 6TB External Hard Drive USB 3....</td>\n",
       "      <td>6TB external hard drive with USB 3.0 eSATA and...</td>\n",
       "      <td>309.0000</td>\n",
       "      <td>249.9945</td>\n",
       "    </tr>\n",
       "    <tr>\n",
       "      <th>15625</th>\n",
       "      <td>APP1965</td>\n",
       "      <td>Apple iPhone 7 Plus (PRODUCT) Red 256GB</td>\n",
       "      <td>New iPhone 7 plus special edition red free 256GB</td>\n",
       "      <td>1130.3300</td>\n",
       "      <td>1079.0006</td>\n",
       "    </tr>\n",
       "    <tr>\n",
       "      <th>1222</th>\n",
       "      <td>GRT0338</td>\n",
       "      <td>Griffin Trainer Armband iPhone 6 / 6S Black</td>\n",
       "      <td>Bracelet iPhone 6 / 6S sports waterproof.</td>\n",
       "      <td>19.9900</td>\n",
       "      <td>14.9895</td>\n",
       "    </tr>\n",
       "    <tr>\n",
       "      <th>18463</th>\n",
       "      <td>APP2694</td>\n",
       "      <td>Apple iMac Pro 27 \"10-core Intel Xeon 3GHz W |...</td>\n",
       "      <td>Pro iMac 27 inch screen Retina 5K and Intel Xe...</td>\n",
       "      <td>12699.0000</td>\n",
       "      <td>11937.0045</td>\n",
       "    </tr>\n",
       "    <tr>\n",
       "      <th>12262</th>\n",
       "      <td>APP1572</td>\n",
       "      <td>Apple Lightning to USB Cable 2m-C</td>\n",
       "      <td>Cable lightning to USB-C 2 m for iPhone iPad a...</td>\n",
       "      <td>39.0000</td>\n",
       "      <td>37.0006</td>\n",
       "    </tr>\n",
       "    <tr>\n",
       "      <th>12626</th>\n",
       "      <td>BEL0252-A</td>\n",
       "      <td>(Open) Belkin Leather Tassel Lightning to USB ...</td>\n",
       "      <td>Tassel Leather MacBook Lightning to USB for iP...</td>\n",
       "      <td>29.9900</td>\n",
       "      <td>20.9521</td>\n",
       "    </tr>\n",
       "    <tr>\n",
       "      <th>15789</th>\n",
       "      <td>PLA0030</td>\n",
       "      <td>Plantronics BackBeat Fit Wireless Headphones Gray</td>\n",
       "      <td>secure wireless headset sport waterproof desig...</td>\n",
       "      <td>129.9900</td>\n",
       "      <td>99.9900</td>\n",
       "    </tr>\n",
       "    <tr>\n",
       "      <th>49</th>\n",
       "      <td>TWS0027</td>\n",
       "      <td>Twelve South BookBook Case MacBook Air / Pro 1...</td>\n",
       "      <td>Funda Macbook Air / Pro 13 inch vintage leathe...</td>\n",
       "      <td>79.9900</td>\n",
       "      <td>74.9898</td>\n",
       "    </tr>\n",
       "    <tr>\n",
       "      <th>18720</th>\n",
       "      <td>DEV0008-A</td>\n",
       "      <td>Open - Devolo dLAN 1200+ WiFi ac PLC (9447)</td>\n",
       "      <td>Powerline adapter refitted with integrated soc...</td>\n",
       "      <td>129.9900</td>\n",
       "      <td>108.3175</td>\n",
       "    </tr>\n",
       "    <tr>\n",
       "      <th>2963</th>\n",
       "      <td>DLL0011</td>\n",
       "      <td>Dell P2714H Monitor 27 \"IPS DP 1.2 pivotably</td>\n",
       "      <td>Monitor 27 adjustable inch high vision.</td>\n",
       "      <td>359.3700</td>\n",
       "      <td>298.9898</td>\n",
       "    </tr>\n",
       "    <tr>\n",
       "      <th>8301</th>\n",
       "      <td>PAC1585</td>\n",
       "      <td>Apple iMac 21.5 \"Core i7 3.3GHz 4K Retina | 16...</td>\n",
       "      <td>Desktop computer iMac 21.5-inch 3.3GHz Core i7...</td>\n",
       "      <td>3649.0000</td>\n",
       "      <td>2749.9900</td>\n",
       "    </tr>\n",
       "    <tr>\n",
       "      <th>16141</th>\n",
       "      <td>APP1532</td>\n",
       "      <td>Apple iPad Silicone Cover Case Pro 97 \"Light Pink</td>\n",
       "      <td>Silicone light cover and soft touch for iPad P...</td>\n",
       "      <td>79.0000</td>\n",
       "      <td>49.9899</td>\n",
       "    </tr>\n",
       "    <tr>\n",
       "      <th>2571</th>\n",
       "      <td>JBL0101</td>\n",
       "      <td>JBL GO Bluetooth Speaker Amarillo</td>\n",
       "      <td>Compact Bluetooth Handsfree for iPhone iPad an...</td>\n",
       "      <td>29.9900</td>\n",
       "      <td>27.9900</td>\n",
       "    </tr>\n",
       "    <tr>\n",
       "      <th>13410</th>\n",
       "      <td>APP1690</td>\n",
       "      <td>Apple Leather Case iPhone Case 8/7 Black</td>\n",
       "      <td>ultrathin leather case and microfiber premium ...</td>\n",
       "      <td>55.0000</td>\n",
       "      <td>46.0006</td>\n",
       "    </tr>\n",
       "  </tbody>\n",
       "</table>\n",
       "</div>"
      ],
      "text/plain": [
       "             sku                                               name  \\\n",
       "11364    APP1218         Apple iPad Smart Cover Case Pro 129 \"White   \n",
       "11578    PAC1286  QNAP TS-451 Pack | 4GB RAM | Seagate Desktop 16TB   \n",
       "109      PAC0508  Apple MacBook Pro 133 '' 25GHz | 16GB RAM | 1T...   \n",
       "2499     ADO0079           Adobe Dreamweaver CC Update -Design Web-   \n",
       "17427    AP20321                Like new - Apple iPhone 7 32GB Gold   \n",
       "13727    PAR0068                                Mando Parrot FLYPAD   \n",
       "17313    LAC0237  LaCie d2 Quadra 6TB External Hard Drive USB 3....   \n",
       "15625    APP1965            Apple iPhone 7 Plus (PRODUCT) Red 256GB   \n",
       "1222     GRT0338        Griffin Trainer Armband iPhone 6 / 6S Black   \n",
       "18463    APP2694  Apple iMac Pro 27 \"10-core Intel Xeon 3GHz W |...   \n",
       "12262    APP1572                  Apple Lightning to USB Cable 2m-C   \n",
       "12626  BEL0252-A  (Open) Belkin Leather Tassel Lightning to USB ...   \n",
       "15789    PLA0030  Plantronics BackBeat Fit Wireless Headphones Gray   \n",
       "49       TWS0027  Twelve South BookBook Case MacBook Air / Pro 1...   \n",
       "18720  DEV0008-A        Open - Devolo dLAN 1200+ WiFi ac PLC (9447)   \n",
       "2963     DLL0011       Dell P2714H Monitor 27 \"IPS DP 1.2 pivotably   \n",
       "8301     PAC1585  Apple iMac 21.5 \"Core i7 3.3GHz 4K Retina | 16...   \n",
       "16141    APP1532  Apple iPad Silicone Cover Case Pro 97 \"Light Pink   \n",
       "2571     JBL0101                  JBL GO Bluetooth Speaker Amarillo   \n",
       "13410    APP1690           Apple Leather Case iPhone Case 8/7 Black   \n",
       "\n",
       "                                                    desc       price  \\\n",
       "11364  Smart cover with different positions for iPad ...     69.0000   \n",
       "11578  QNAP TS-451 Pack + 4GB memory RAM + 16TB (4x4T...   1070.9569   \n",
       "109    Apple MacBook Pro Fusion Drive 16GB 2 internal...   1919.0000   \n",
       "2499   Adobe Dreamweaver software update for Mac and PC.    290.2500   \n",
       "17427   Apple iPhone 32GB 7 plus free gold reconditioned    639.0000   \n",
       "13727  Mando compatible with minidrones includes supp...     39.0000   \n",
       "17313  6TB external hard drive with USB 3.0 eSATA and...    309.0000   \n",
       "15625   New iPhone 7 plus special edition red free 256GB   1130.3300   \n",
       "1222           Bracelet iPhone 6 / 6S sports waterproof.     19.9900   \n",
       "18463  Pro iMac 27 inch screen Retina 5K and Intel Xe...  12699.0000   \n",
       "12262  Cable lightning to USB-C 2 m for iPhone iPad a...     39.0000   \n",
       "12626  Tassel Leather MacBook Lightning to USB for iP...     29.9900   \n",
       "15789  secure wireless headset sport waterproof desig...    129.9900   \n",
       "49     Funda Macbook Air / Pro 13 inch vintage leathe...     79.9900   \n",
       "18720  Powerline adapter refitted with integrated soc...    129.9900   \n",
       "2963             Monitor 27 adjustable inch high vision.    359.3700   \n",
       "8301   Desktop computer iMac 21.5-inch 3.3GHz Core i7...   3649.0000   \n",
       "16141  Silicone light cover and soft touch for iPad P...     79.0000   \n",
       "2571   Compact Bluetooth Handsfree for iPhone iPad an...     29.9900   \n",
       "13410  ultrathin leather case and microfiber premium ...     55.0000   \n",
       "\n",
       "       promo_price  \n",
       "11364      58.0001  \n",
       "11578     982.9895  \n",
       "109      1699.9895  \n",
       "2499      289.9886  \n",
       "17427     519.0053  \n",
       "13727      36.9897  \n",
       "17313     249.9945  \n",
       "15625    1079.0006  \n",
       "1222       14.9895  \n",
       "18463   11937.0045  \n",
       "12262      37.0006  \n",
       "12626      20.9521  \n",
       "15789      99.9900  \n",
       "49         74.9898  \n",
       "18720     108.3175  \n",
       "2963      298.9898  \n",
       "8301     2749.9900  \n",
       "16141      49.9899  \n",
       "2571       27.9900  \n",
       "13410      46.0006  "
      ]
     },
     "execution_count": 10,
     "metadata": {},
     "output_type": "execute_result"
    }
   ],
   "source": [
    "p.sample(20)"
   ]
  }
 ],
 "metadata": {
  "kernelspec": {
   "display_name": "Python 3",
   "language": "python",
   "name": "python3"
  },
  "language_info": {
   "codemirror_mode": {
    "name": "ipython",
    "version": 3
   },
   "file_extension": ".py",
   "mimetype": "text/x-python",
   "name": "python",
   "nbconvert_exporter": "python",
   "pygments_lexer": "ipython3",
   "version": "3.8.8"
  }
 },
 "nbformat": 4,
 "nbformat_minor": 5
}
