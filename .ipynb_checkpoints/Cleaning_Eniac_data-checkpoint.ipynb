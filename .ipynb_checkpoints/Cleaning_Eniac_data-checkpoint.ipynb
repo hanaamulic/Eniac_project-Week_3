{
 "cells": [
  {
   "cell_type": "markdown",
   "id": "dfb00a1a-e187-499b-8533-a057e548612a",
   "metadata": {},
   "source": [
    "# Eniac data cleaning"
   ]
  },
  {
   "cell_type": "code",
   "execution_count": 1,
   "id": "83e32e64-2317-4258-ab12-06cd4d874857",
   "metadata": {},
   "outputs": [],
   "source": [
    "import pandas as pd\n",
    "from functools import wraps\n",
    "import datetime as dt"
   ]
  },
  {
   "cell_type": "code",
   "execution_count": 2,
   "id": "d1f0bff5-0a30-4f98-87ae-b59bce9c57a4",
   "metadata": {},
   "outputs": [],
   "source": [
    "orderlines = pd.read_csv('data/eniac/orderlines.csv')\n",
    "products = pd.read_csv('data/eniac/products.csv')\n",
    "orders = pd.read_csv('data/eniac/orders.csv')"
   ]
  },
  {
   "cell_type": "code",
   "execution_count": 3,
   "id": "5b5a36ee-58e5-40e1-8213-48dba3575a57",
   "metadata": {},
   "outputs": [],
   "source": [
    "# Function that makes logs in the pipeline\n",
    "def log_step(func):\n",
    "    @wraps(func)\n",
    "    def wrapper(*args, **kwargs):\n",
    "        tic = dt.datetime.now()\n",
    "        result = func(*args, **kwargs)\n",
    "        time_taken = str(dt.datetime.now() - tic)\n",
    "        print(f\"just ran step {func.__name__} shape={result.shape} took {time_taken}s\")\n",
    "        return result\n",
    "    return wrapper"
   ]
  },
  {
   "cell_type": "code",
   "execution_count": 4,
   "id": "a99545c9-f324-4095-89b6-d66503f006ad",
   "metadata": {},
   "outputs": [],
   "source": [
    "# Function that returns copy of DataFrame\n",
    "@log_step\n",
    "def start_pipeline(df):\n",
    "    return df.copy()"
   ]
  },
  {
   "cell_type": "markdown",
   "id": "34854a2e-e6f9-4da0-bac8-6541410e08f9",
   "metadata": {
    "tags": []
   },
   "source": [
    "## Products info"
   ]
  },
  {
   "cell_type": "code",
   "execution_count": 5,
   "id": "44a17215-9601-4c0c-a14f-ccd1250e9fa3",
   "metadata": {},
   "outputs": [],
   "source": [
    "#Function that returns number of missing values\n",
    "def check_missing_values(data): \n",
    "    print('Missing values:' + '\\n' + str(data.isna().sum()))\n",
    "\n",
    "#Function that returns number of duplicated rows\n",
    "def check_duplicates(data): \n",
    "    print('Duplicated rows: ', data.duplicated().sum())\n",
    "\n",
    "def check_table(df):\n",
    "    check_missing_values(df)\n",
    "    check_duplicates(df)\n",
    "    df.info()"
   ]
  },
  {
   "cell_type": "code",
   "execution_count": 6,
   "id": "c189e065-1cf6-4451-b11f-b6f86c2e1897",
   "metadata": {
    "tags": []
   },
   "outputs": [
    {
     "name": "stdout",
     "output_type": "stream",
     "text": [
      "Missing values:\n",
      "sku             0\n",
      "name            0\n",
      "desc            7\n",
      "price          46\n",
      "promo_price     0\n",
      "in_stock        0\n",
      "type           50\n",
      "dtype: int64\n",
      "Duplicated rows:  8746\n",
      "<class 'pandas.core.frame.DataFrame'>\n",
      "RangeIndex: 19326 entries, 0 to 19325\n",
      "Data columns (total 7 columns):\n",
      " #   Column       Non-Null Count  Dtype \n",
      "---  ------       --------------  ----- \n",
      " 0   sku          19326 non-null  object\n",
      " 1   name         19326 non-null  object\n",
      " 2   desc         19319 non-null  object\n",
      " 3   price        19280 non-null  object\n",
      " 4   promo_price  19326 non-null  object\n",
      " 5   in_stock     19326 non-null  int64 \n",
      " 6   type         19276 non-null  object\n",
      "dtypes: int64(1), object(6)\n",
      "memory usage: 1.0+ MB\n"
     ]
    }
   ],
   "source": [
    "check_table(products)"
   ]
  },
  {
   "cell_type": "markdown",
   "id": "85762f71-4b0a-4422-9ad5-2fcccbadf892",
   "metadata": {},
   "source": [
    "### Dropping columns"
   ]
  },
  {
   "cell_type": "markdown",
   "id": "05a6628b-fd88-4159-8673-b2b357e352eb",
   "metadata": {},
   "source": [
    "I have decided that for my future analisys I don't need columns 'in_stock' and 'type'. I am passing list of colums as an argument"
   ]
  },
  {
   "cell_type": "code",
   "execution_count": 7,
   "id": "ae0d6062-f191-4d0e-8ef4-9829fe18d122",
   "metadata": {},
   "outputs": [],
   "source": [
    "# Function that drops columns from a list of columns\n",
    "@log_step\n",
    "def drop_columns(df, columns):\n",
    "    return df.drop(columns,axis=1)"
   ]
  },
  {
   "cell_type": "code",
   "execution_count": 8,
   "id": "2ac53796-b1fc-46bd-ba72-4e72e65607ea",
   "metadata": {},
   "outputs": [],
   "source": [
    "columns_to_drop = ['in_stock','type']"
   ]
  },
  {
   "cell_type": "markdown",
   "id": "25bfcbf8-ffcd-4c86-9314-aa0ed1d61b6e",
   "metadata": {},
   "source": [
    "### Dealing with NaN values"
   ]
  },
  {
   "cell_type": "markdown",
   "id": "95e373b2-c971-452e-ae29-c1458799a763",
   "metadata": {
    "tags": []
   },
   "source": [
    "I have decided to exclude all rows that have NaN value in 'price' and 'desc' column since there are very few of them. I have forwarded function called select_nonNan_rows to pipeline."
   ]
  },
  {
   "cell_type": "code",
   "execution_count": 9,
   "id": "e6925d77-be5e-414f-b052-96310a374023",
   "metadata": {},
   "outputs": [],
   "source": [
    "@log_step\n",
    "#Function that returns rows with notNaN values in 'column'\n",
    "def select_notNan_rows(df,columns):\n",
    "    for col in columns:\n",
    "        df = df[df[col].notna()]\n",
    "    return df"
   ]
  },
  {
   "cell_type": "code",
   "execution_count": 10,
   "id": "9e1610dc-ff3f-4b79-91e8-9e47d1f09fff",
   "metadata": {},
   "outputs": [],
   "source": [
    "columns_where_NaNs_are = ['price','desc']"
   ]
  },
  {
   "cell_type": "markdown",
   "id": "3129bd15-61a4-4d31-b5aa-63fc8ff008ec",
   "metadata": {},
   "source": [
    "### Losing duplicates"
   ]
  },
  {
   "cell_type": "markdown",
   "id": "8a5ffb69-97ac-4b19-b6c4-336bf36f7ccc",
   "metadata": {},
   "source": [
    "I have decided to lose all rows that have duplicate 'sku' value."
   ]
  },
  {
   "cell_type": "code",
   "execution_count": 11,
   "id": "329c47dc-6acf-408e-8ce0-9518af4fa3e7",
   "metadata": {},
   "outputs": [],
   "source": [
    "@log_step\n",
    "#Function that drops duplicates\n",
    "def drop_duplicates_custom(df,columns=[]):\n",
    "    if(len(columns) > 0):\n",
    "        return df.drop_duplicates(columns)\n",
    "    else:\n",
    "        return df.drop_duplicates()"
   ]
  },
  {
   "cell_type": "code",
   "execution_count": 12,
   "id": "e87b2416-5f15-4d59-ad7a-2a08648403bf",
   "metadata": {},
   "outputs": [],
   "source": [
    "columns_arg_for_duplicates_drop = ['sku']"
   ]
  },
  {
   "cell_type": "markdown",
   "id": "5c265c93-4613-48c0-b713-2257e9c112ca",
   "metadata": {},
   "source": [
    "### Changing types "
   ]
  },
  {
   "cell_type": "markdown",
   "id": "626f95c3-6cb6-4dfa-883c-c4da8f9e667b",
   "metadata": {
    "tags": []
   },
   "source": [
    "I have to change types of 'price' and 'promo_price' from object to float"
   ]
  },
  {
   "cell_type": "markdown",
   "id": "23ac69c3-8ae5-4fea-90f5-44e1f5619399",
   "metadata": {},
   "source": [
    "It seems like price and promo price had some problems with decimals, decimal spaces...so I have created clean_prices function that clean those. After that I was able to change types to float."
   ]
  },
  {
   "cell_type": "code",
   "execution_count": 13,
   "id": "2c9bdfb3-aca7-45f1-b92a-d3a2520a5695",
   "metadata": {},
   "outputs": [],
   "source": [
    "#Function for cleaning price and promo_price columns\n",
    "@log_step\n",
    "def clean_prices(p,columns):\n",
    "    for col in columns:\n",
    "        p[col] = p[col].apply(lambda x : x +'.00' if x.count('.') == 0 else x)\n",
    "        p[col] = p[col].apply(lambda x: x  + '0' if x[-2]=='.' else x)\n",
    "        p[col] = p[col].apply(lambda x: str(float(x.replace('.',''))/1000) if ( (x[-4]=='.') & (x.count('.')==2)) else x)\n",
    "        p[col] = p[col].apply(lambda x: str(float(x.replace('.',''))/10000) if ( (x[-4]=='.') & (x.count('.')==1)) else x)\n",
    "        p[col] = p[col].astype(float)\n",
    "        p[col].round(decimals = '2')\n",
    "    return p"
   ]
  },
  {
   "cell_type": "markdown",
   "id": "8ea791d6-9b05-4e7f-90a6-e053ff18941d",
   "metadata": {},
   "source": [
    "## Pipeline"
   ]
  },
  {
   "cell_type": "code",
   "execution_count": 14,
   "id": "e86077ad-192b-41c3-b2ce-29cef1a305d7",
   "metadata": {},
   "outputs": [
    {
     "name": "stdout",
     "output_type": "stream",
     "text": [
      "just ran step start_pipeline shape=(19326, 7) took 0:00:00.001996s\n",
      "just ran step drop_columns shape=(19326, 5) took 0:00:00.001995s\n",
      "just ran step select_notNan_rows shape=(19273, 5) took 0:00:00.007982s\n",
      "just ran step drop_duplicates_custom shape=(10527, 5) took 0:00:00.004983s\n",
      "just ran step clean_prices shape=(10527, 5) took 0:00:00.052858s\n"
     ]
    }
   ],
   "source": [
    "p = (products\n",
    "     .pipe(start_pipeline)\n",
    "     .pipe(drop_columns,columns_to_drop)\n",
    "     .pipe(select_notNan_rows,columns_where_NaNs_are)\n",
    "     .pipe(drop_duplicates_custom,columns_arg_for_duplicates_drop)\n",
    "     .pipe(clean_prices,['price','promo_price'])\n",
    ")"
   ]
  },
  {
   "cell_type": "code",
   "execution_count": 15,
   "id": "9e23c4f8-e553-4777-9f64-a1f1e1ab7099",
   "metadata": {},
   "outputs": [
    {
     "name": "stdout",
     "output_type": "stream",
     "text": [
      "Missing values:\n",
      "sku            0\n",
      "name           0\n",
      "desc           0\n",
      "price          0\n",
      "promo_price    0\n",
      "dtype: int64\n",
      "Duplicated rows:  0\n",
      "<class 'pandas.core.frame.DataFrame'>\n",
      "Int64Index: 10527 entries, 0 to 19325\n",
      "Data columns (total 5 columns):\n",
      " #   Column       Non-Null Count  Dtype  \n",
      "---  ------       --------------  -----  \n",
      " 0   sku          10527 non-null  object \n",
      " 1   name         10527 non-null  object \n",
      " 2   desc         10527 non-null  object \n",
      " 3   price        10527 non-null  float64\n",
      " 4   promo_price  10527 non-null  float64\n",
      "dtypes: float64(2), object(3)\n",
      "memory usage: 493.5+ KB\n"
     ]
    }
   ],
   "source": [
    "check_table(p)"
   ]
  },
  {
   "cell_type": "code",
   "execution_count": 16,
   "id": "f0a27d3e-337a-4f08-b811-bc4f9832e9ee",
   "metadata": {},
   "outputs": [
    {
     "data": {
      "text/html": [
       "<div>\n",
       "<style scoped>\n",
       "    .dataframe tbody tr th:only-of-type {\n",
       "        vertical-align: middle;\n",
       "    }\n",
       "\n",
       "    .dataframe tbody tr th {\n",
       "        vertical-align: top;\n",
       "    }\n",
       "\n",
       "    .dataframe thead th {\n",
       "        text-align: right;\n",
       "    }\n",
       "</style>\n",
       "<table border=\"1\" class=\"dataframe\">\n",
       "  <thead>\n",
       "    <tr style=\"text-align: right;\">\n",
       "      <th></th>\n",
       "      <th>sku</th>\n",
       "      <th>name</th>\n",
       "      <th>desc</th>\n",
       "      <th>price</th>\n",
       "      <th>promo_price</th>\n",
       "    </tr>\n",
       "  </thead>\n",
       "  <tbody>\n",
       "    <tr>\n",
       "      <th>772</th>\n",
       "      <td>APP0647</td>\n",
       "      <td>Apple Smart Case iPad Air Case Black</td>\n",
       "      <td>Smart leather case for your iPad Air.</td>\n",
       "      <td>89.0000</td>\n",
       "      <td>79.9931</td>\n",
       "    </tr>\n",
       "    <tr>\n",
       "      <th>388</th>\n",
       "      <td>REP0073</td>\n",
       "      <td>Repair Touch Screen iPad (1st generation)</td>\n",
       "      <td>Repair service including parts and labor for iPad</td>\n",
       "      <td>99.9900</td>\n",
       "      <td>99.9896</td>\n",
       "    </tr>\n",
       "    <tr>\n",
       "      <th>17107</th>\n",
       "      <td>OWC0227</td>\n",
       "      <td>OWC Mercury Helios PCIe Thunderbolt Box 3</td>\n",
       "      <td>Thunderbolt expansion box 3 for half-length PC...</td>\n",
       "      <td>392.9700</td>\n",
       "      <td>289.9898</td>\n",
       "    </tr>\n",
       "    <tr>\n",
       "      <th>17872</th>\n",
       "      <td>PAC2363</td>\n",
       "      <td>Synology DS218 + NAS Server | 2GB RAM | 12TB (...</td>\n",
       "      <td>NAS storage server integrated with special foc...</td>\n",
       "      <td>904.9700</td>\n",
       "      <td>713.1788</td>\n",
       "    </tr>\n",
       "    <tr>\n",
       "      <th>16230</th>\n",
       "      <td>PAC2143</td>\n",
       "      <td>Apple iMac 27 \"Core i5 3.8GHz Retina 5K | 16GB...</td>\n",
       "      <td>IMac desktop computer 27 inch Retina 5K RAM 16...</td>\n",
       "      <td>2839.0000</td>\n",
       "      <td>2599.0045</td>\n",
       "    </tr>\n",
       "    <tr>\n",
       "      <th>13955</th>\n",
       "      <td>APP1869</td>\n",
       "      <td>Apple MacBook Pro 13 \"with Touch Bar GHz Core ...</td>\n",
       "      <td>New MacBook Pro 13 inch Touch Bar 29 GHz Core ...</td>\n",
       "      <td>2679.0000</td>\n",
       "      <td>2551.5851</td>\n",
       "    </tr>\n",
       "    <tr>\n",
       "      <th>13252</th>\n",
       "      <td>KAN0054</td>\n",
       "      <td>Kanex Multi-Sync Gray Aluminum Bluetooth Keyboard</td>\n",
       "      <td>Bluetooth keyboard with simultaneous connectiv...</td>\n",
       "      <td>129.9500</td>\n",
       "      <td>119.9897</td>\n",
       "    </tr>\n",
       "    <tr>\n",
       "      <th>16447</th>\n",
       "      <td>APP2283</td>\n",
       "      <td>Apple MacBook Pro 13 \"Core i5 Touch Bar 31GHz ...</td>\n",
       "      <td>New MacBook Pro 13-inch Core i5 Touch Bar 31 G...</td>\n",
       "      <td>2489.0000</td>\n",
       "      <td>2340.0045</td>\n",
       "    </tr>\n",
       "    <tr>\n",
       "      <th>10859</th>\n",
       "      <td>MOX0028</td>\n",
       "      <td>Moxie Simulation of Interior iPhone Case SE / ...</td>\n",
       "      <td>Cover for iPhone SE / 5s / 5.</td>\n",
       "      <td>19.9900</td>\n",
       "      <td>9.9898</td>\n",
       "    </tr>\n",
       "    <tr>\n",
       "      <th>18516</th>\n",
       "      <td>GTE0112</td>\n",
       "      <td>G-Technology 2TB G-DRIVE mobile USB 3.0 v3</td>\n",
       "      <td>External hard drive with aluminum housing 5400...</td>\n",
       "      <td>106.9900</td>\n",
       "      <td>94.9947</td>\n",
       "    </tr>\n",
       "    <tr>\n",
       "      <th>13633</th>\n",
       "      <td>MAC0118-A</td>\n",
       "      <td>(Open) Macally Mini DisplayPort to DVI / HDMI ...</td>\n",
       "      <td>Adapter Mini Display Port 3 in 1 1080p and 4K ...</td>\n",
       "      <td>39.9500</td>\n",
       "      <td>24.3095</td>\n",
       "    </tr>\n",
       "    <tr>\n",
       "      <th>11576</th>\n",
       "      <td>PAC1284</td>\n",
       "      <td>QNAP TS-451 Pack | 4GB RAM | 8TB Seagate Desktop</td>\n",
       "      <td>QNAP TS-451 Pack + 4GB memory RAM + 8TB (4x2TB...</td>\n",
       "      <td>902.9600</td>\n",
       "      <td>750.9901</td>\n",
       "    </tr>\n",
       "    <tr>\n",
       "      <th>18698</th>\n",
       "      <td>OTT0170-A</td>\n",
       "      <td>Open - Otterbox Clearly Protected Gel Case iPh...</td>\n",
       "      <td>Reconditioned transparent sleeve one-piece and...</td>\n",
       "      <td>19.9900</td>\n",
       "      <td>12.9906</td>\n",
       "    </tr>\n",
       "    <tr>\n",
       "      <th>1722</th>\n",
       "      <td>SYN0102</td>\n",
       "      <td>Synology DS1515 + NAS server Mac and PC</td>\n",
       "      <td>NAS server Mac and PC 5-bay SATA.</td>\n",
       "      <td>786.9900</td>\n",
       "      <td>779.9902</td>\n",
       "    </tr>\n",
       "    <tr>\n",
       "      <th>15181</th>\n",
       "      <td>JBL0127</td>\n",
       "      <td>JBL E25BT Bluetooth Headset Black</td>\n",
       "      <td>lightweight wireless headset with Bluetooth 4....</td>\n",
       "      <td>69.9900</td>\n",
       "      <td>64.9899</td>\n",
       "    </tr>\n",
       "    <tr>\n",
       "      <th>16848</th>\n",
       "      <td>GLY0026</td>\n",
       "      <td>Glyph Atom SSD SSD RAID 2TB USB-C (3.1Gen2) Gr...</td>\n",
       "      <td>2TB SSD with USB-C connection (compatible Thun...</td>\n",
       "      <td>889.9900</td>\n",
       "      <td>839.9844</td>\n",
       "    </tr>\n",
       "    <tr>\n",
       "      <th>2546</th>\n",
       "      <td>BTC0015</td>\n",
       "      <td>Boostcase Hybrid Case &amp; 2000mAh External Batte...</td>\n",
       "      <td>Protective housing with built-in iPhone 6 batt...</td>\n",
       "      <td>79.9900</td>\n",
       "      <td>27.9897</td>\n",
       "    </tr>\n",
       "    <tr>\n",
       "      <th>1132</th>\n",
       "      <td>LAN0012</td>\n",
       "      <td>LandingZone Docking Station Dock MacBook Pro R...</td>\n",
       "      <td>station and dock with multiple ports for MacBo...</td>\n",
       "      <td>239.9914</td>\n",
       "      <td>239.9914</td>\n",
       "    </tr>\n",
       "    <tr>\n",
       "      <th>1550</th>\n",
       "      <td>PAC1828</td>\n",
       "      <td>Synology DS1515 + 8GB RAM + 40TB (5x8TB) WD Red</td>\n",
       "      <td>Synology DS1815 + NAS memory 8GB hard drive WD...</td>\n",
       "      <td>3035.9200</td>\n",
       "      <td>2357.9621</td>\n",
       "    </tr>\n",
       "    <tr>\n",
       "      <th>10983</th>\n",
       "      <td>JMO0084</td>\n",
       "      <td>Just Mobile Tenc Case iPhone 6 / 6S Plus Matte...</td>\n",
       "      <td>Polycarbonate shell with self-Heald for iPhone...</td>\n",
       "      <td>29.9900</td>\n",
       "      <td>26.9903</td>\n",
       "    </tr>\n",
       "  </tbody>\n",
       "</table>\n",
       "</div>"
      ],
      "text/plain": [
       "             sku                                               name  \\\n",
       "772      APP0647               Apple Smart Case iPad Air Case Black   \n",
       "388      REP0073          Repair Touch Screen iPad (1st generation)   \n",
       "17107    OWC0227          OWC Mercury Helios PCIe Thunderbolt Box 3   \n",
       "17872    PAC2363  Synology DS218 + NAS Server | 2GB RAM | 12TB (...   \n",
       "16230    PAC2143  Apple iMac 27 \"Core i5 3.8GHz Retina 5K | 16GB...   \n",
       "13955    APP1869  Apple MacBook Pro 13 \"with Touch Bar GHz Core ...   \n",
       "13252    KAN0054  Kanex Multi-Sync Gray Aluminum Bluetooth Keyboard   \n",
       "16447    APP2283  Apple MacBook Pro 13 \"Core i5 Touch Bar 31GHz ...   \n",
       "10859    MOX0028  Moxie Simulation of Interior iPhone Case SE / ...   \n",
       "18516    GTE0112         G-Technology 2TB G-DRIVE mobile USB 3.0 v3   \n",
       "13633  MAC0118-A  (Open) Macally Mini DisplayPort to DVI / HDMI ...   \n",
       "11576    PAC1284   QNAP TS-451 Pack | 4GB RAM | 8TB Seagate Desktop   \n",
       "18698  OTT0170-A  Open - Otterbox Clearly Protected Gel Case iPh...   \n",
       "1722     SYN0102            Synology DS1515 + NAS server Mac and PC   \n",
       "15181    JBL0127                  JBL E25BT Bluetooth Headset Black   \n",
       "16848    GLY0026  Glyph Atom SSD SSD RAID 2TB USB-C (3.1Gen2) Gr...   \n",
       "2546     BTC0015  Boostcase Hybrid Case & 2000mAh External Batte...   \n",
       "1132     LAN0012  LandingZone Docking Station Dock MacBook Pro R...   \n",
       "1550     PAC1828    Synology DS1515 + 8GB RAM + 40TB (5x8TB) WD Red   \n",
       "10983    JMO0084  Just Mobile Tenc Case iPhone 6 / 6S Plus Matte...   \n",
       "\n",
       "                                                    desc      price  \\\n",
       "772                Smart leather case for your iPad Air.    89.0000   \n",
       "388    Repair service including parts and labor for iPad    99.9900   \n",
       "17107  Thunderbolt expansion box 3 for half-length PC...   392.9700   \n",
       "17872  NAS storage server integrated with special foc...   904.9700   \n",
       "16230  IMac desktop computer 27 inch Retina 5K RAM 16...  2839.0000   \n",
       "13955  New MacBook Pro 13 inch Touch Bar 29 GHz Core ...  2679.0000   \n",
       "13252  Bluetooth keyboard with simultaneous connectiv...   129.9500   \n",
       "16447  New MacBook Pro 13-inch Core i5 Touch Bar 31 G...  2489.0000   \n",
       "10859                      Cover for iPhone SE / 5s / 5.    19.9900   \n",
       "18516  External hard drive with aluminum housing 5400...   106.9900   \n",
       "13633  Adapter Mini Display Port 3 in 1 1080p and 4K ...    39.9500   \n",
       "11576  QNAP TS-451 Pack + 4GB memory RAM + 8TB (4x2TB...   902.9600   \n",
       "18698  Reconditioned transparent sleeve one-piece and...    19.9900   \n",
       "1722                   NAS server Mac and PC 5-bay SATA.   786.9900   \n",
       "15181  lightweight wireless headset with Bluetooth 4....    69.9900   \n",
       "16848  2TB SSD with USB-C connection (compatible Thun...   889.9900   \n",
       "2546   Protective housing with built-in iPhone 6 batt...    79.9900   \n",
       "1132   station and dock with multiple ports for MacBo...   239.9914   \n",
       "1550   Synology DS1815 + NAS memory 8GB hard drive WD...  3035.9200   \n",
       "10983  Polycarbonate shell with self-Heald for iPhone...    29.9900   \n",
       "\n",
       "       promo_price  \n",
       "772        79.9931  \n",
       "388        99.9896  \n",
       "17107     289.9898  \n",
       "17872     713.1788  \n",
       "16230    2599.0045  \n",
       "13955    2551.5851  \n",
       "13252     119.9897  \n",
       "16447    2340.0045  \n",
       "10859       9.9898  \n",
       "18516      94.9947  \n",
       "13633      24.3095  \n",
       "11576     750.9901  \n",
       "18698      12.9906  \n",
       "1722      779.9902  \n",
       "15181      64.9899  \n",
       "16848     839.9844  \n",
       "2546       27.9897  \n",
       "1132      239.9914  \n",
       "1550     2357.9621  \n",
       "10983      26.9903  "
      ]
     },
     "execution_count": 16,
     "metadata": {},
     "output_type": "execute_result"
    }
   ],
   "source": [
    "p.sample(20)"
   ]
  }
 ],
 "metadata": {
  "kernelspec": {
   "display_name": "Python 3",
   "language": "python",
   "name": "python3"
  },
  "language_info": {
   "codemirror_mode": {
    "name": "ipython",
    "version": 3
   },
   "file_extension": ".py",
   "mimetype": "text/x-python",
   "name": "python",
   "nbconvert_exporter": "python",
   "pygments_lexer": "ipython3",
   "version": "3.8.8"
  }
 },
 "nbformat": 4,
 "nbformat_minor": 5
}
