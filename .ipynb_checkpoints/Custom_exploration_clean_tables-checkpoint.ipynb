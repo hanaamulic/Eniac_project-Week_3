{
 "cells": [
  {
   "cell_type": "markdown",
   "id": "bfb0bd69-4290-49dc-9f9d-d68cad097b20",
   "metadata": {
    "tags": []
   },
   "source": [
    "# Custom exploration of Eniac's database"
   ]
  },
  {
   "cell_type": "code",
   "execution_count": 26,
   "id": "b48b330d-102e-473a-8aa4-3b7a6db485c6",
   "metadata": {},
   "outputs": [],
   "source": [
    "import pandas as pd\n",
    "import matplotlib.pyplot as plt\n",
    "import seaborn as sns\n",
    "from Functions_module import check_table"
   ]
  },
  {
   "cell_type": "code",
   "execution_count": 3,
   "id": "5d47c7d4-85ea-494a-a335-a4443644c3dc",
   "metadata": {},
   "outputs": [],
   "source": [
    "orderlines_old = pd.read_csv('data/eniac/orderlines.csv')\n",
    "products_old = pd.read_csv('data/eniac/products.csv')\n",
    "orders_old = pd.read_csv('data/eniac/orders.csv')"
   ]
  },
  {
   "cell_type": "code",
   "execution_count": 4,
   "id": "51c74073-0501-415f-ab9e-cd4324fde5ab",
   "metadata": {},
   "outputs": [],
   "source": [
    "orderlines = pd.read_csv('data/eniac/orderlines_clean.csv')\n",
    "products = pd.read_csv('data/eniac/products_clean.csv')\n",
    "orders = pd.read_csv('data/eniac/orders_clean.csv')"
   ]
  },
  {
   "cell_type": "code",
   "execution_count": 20,
   "id": "1b56904f-68d0-49e2-9ce9-89541d0ee7fc",
   "metadata": {},
   "outputs": [],
   "source": [
    "orders['created_date'] = pd.to_datetime(orders['created_date'])\n",
    "orderlines['date'] = pd.to_datetime(orderlines['date'])"
   ]
  },
  {
   "cell_type": "markdown",
   "id": "8527c5d6-9695-48e9-84c6-f9aa6f3dde36",
   "metadata": {},
   "source": [
    "# Orderlines info"
   ]
  },
  {
   "cell_type": "code",
   "execution_count": 5,
   "id": "97732a12-198d-426a-8baf-9dc1cd61abc7",
   "metadata": {},
   "outputs": [],
   "source": [
    "# check_table(orderlines)"
   ]
  },
  {
   "cell_type": "code",
   "execution_count": 6,
   "id": "b26fbc84-7338-40d1-8ac2-053282ec1b56",
   "metadata": {},
   "outputs": [],
   "source": [
    "# check_table(orderlines_old)"
   ]
  },
  {
   "cell_type": "markdown",
   "id": "198ec26e-78a1-4d43-a3af-f8482e6c5c24",
   "metadata": {
    "tags": []
   },
   "source": [
    "# Products info"
   ]
  },
  {
   "cell_type": "code",
   "execution_count": 7,
   "id": "0d75e8aa-ef3a-49a7-8d48-bbb382af56e7",
   "metadata": {
    "tags": []
   },
   "outputs": [],
   "source": [
    "# check_table(products)"
   ]
  },
  {
   "cell_type": "code",
   "execution_count": 8,
   "id": "4d7ccafe-786c-4a12-8505-c898946acf1b",
   "metadata": {},
   "outputs": [],
   "source": [
    "# check_table(products_old)"
   ]
  },
  {
   "cell_type": "markdown",
   "id": "fb771269-cb84-4e2d-9cf4-bc13ba6f1087",
   "metadata": {},
   "source": [
    "## Orders info"
   ]
  },
  {
   "cell_type": "code",
   "execution_count": 9,
   "id": "e02ea159-84b9-40e9-a988-3a5d446974df",
   "metadata": {},
   "outputs": [],
   "source": [
    "# check_table(orders)"
   ]
  },
  {
   "cell_type": "code",
   "execution_count": 10,
   "id": "73fd2512-bf6e-4dd1-9a97-ff419d0f4433",
   "metadata": {},
   "outputs": [],
   "source": [
    "# check_table(orders_old)"
   ]
  },
  {
   "cell_type": "markdown",
   "id": "6e71ff38-fa0e-4707-80f2-82c19babb331",
   "metadata": {},
   "source": [
    "## How many orders are there?"
   ]
  },
  {
   "cell_type": "code",
   "execution_count": 19,
   "id": "7cc12eab-dcf3-4a05-81cb-442a0d6168ae",
   "metadata": {},
   "outputs": [
    {
     "data": {
      "text/plain": [
       "226424"
      ]
     },
     "execution_count": 19,
     "metadata": {},
     "output_type": "execute_result"
    }
   ],
   "source": [
    "orders.order_id.nunique()"
   ]
  },
  {
   "cell_type": "markdown",
   "id": "b3310ddc-c251-4963-90a8-1dc3a9f82a74",
   "metadata": {},
   "source": [
    "## How many products are there?"
   ]
  },
  {
   "cell_type": "code",
   "execution_count": 21,
   "id": "3d0a6661-9f94-4d06-9c7e-ae64d2032f86",
   "metadata": {},
   "outputs": [
    {
     "data": {
      "text/plain": [
       "10527"
      ]
     },
     "execution_count": 21,
     "metadata": {},
     "output_type": "execute_result"
    }
   ],
   "source": [
    "products.sku.nunique()"
   ]
  },
  {
   "cell_type": "markdown",
   "id": "6c77ce50-279c-49c4-9aeb-7030a035b8b5",
   "metadata": {},
   "source": [
    "## What period of time do these orders comprise?"
   ]
  },
  {
   "cell_type": "code",
   "execution_count": 14,
   "id": "7bd1b15d-07ac-4539-b14a-0f54d608a603",
   "metadata": {},
   "outputs": [
    {
     "data": {
      "text/plain": [
       "min    2017-01-01 00:07:19\n",
       "max    2018-03-14 13:58:36\n",
       "Name: created_date, dtype: object"
      ]
     },
     "execution_count": 14,
     "metadata": {},
     "output_type": "execute_result"
    }
   ],
   "source": [
    "orders.created_date.agg(['min', 'max'])"
   ]
  },
  {
   "cell_type": "markdown",
   "id": "e8e335ee-0e5d-42c0-9d15-dc9d1f0858c4",
   "metadata": {},
   "source": [
    "## How many orders are Completed?"
   ]
  },
  {
   "cell_type": "code",
   "execution_count": 40,
   "id": "ff668034-f75b-47e6-90ec-b9bc3ce5344b",
   "metadata": {},
   "outputs": [],
   "source": [
    "completed_orders = orders.loc[orders.state == 'Completed']"
   ]
  },
  {
   "cell_type": "code",
   "execution_count": 41,
   "id": "3cc2c874-847d-4dad-a4b8-3a25cea9c776",
   "metadata": {},
   "outputs": [
    {
     "data": {
      "text/html": [
       "<div>\n",
       "<style scoped>\n",
       "    .dataframe tbody tr th:only-of-type {\n",
       "        vertical-align: middle;\n",
       "    }\n",
       "\n",
       "    .dataframe tbody tr th {\n",
       "        vertical-align: top;\n",
       "    }\n",
       "\n",
       "    .dataframe thead th {\n",
       "        text-align: right;\n",
       "    }\n",
       "</style>\n",
       "<table border=\"1\" class=\"dataframe\">\n",
       "  <thead>\n",
       "    <tr style=\"text-align: right;\">\n",
       "      <th></th>\n",
       "      <th>order_id</th>\n",
       "      <th>created_date</th>\n",
       "      <th>total_paid</th>\n",
       "      <th>state</th>\n",
       "    </tr>\n",
       "  </thead>\n",
       "  <tbody>\n",
       "    <tr>\n",
       "      <th>1</th>\n",
       "      <td>241423</td>\n",
       "      <td>2017-11-06 13:10:02</td>\n",
       "      <td>136.15</td>\n",
       "      <td>Completed</td>\n",
       "    </tr>\n",
       "    <tr>\n",
       "      <th>2</th>\n",
       "      <td>242832</td>\n",
       "      <td>2017-12-31 17:40:03</td>\n",
       "      <td>15.76</td>\n",
       "      <td>Completed</td>\n",
       "    </tr>\n",
       "    <tr>\n",
       "      <th>3</th>\n",
       "      <td>243330</td>\n",
       "      <td>2017-02-16 10:59:38</td>\n",
       "      <td>84.98</td>\n",
       "      <td>Completed</td>\n",
       "    </tr>\n",
       "    <tr>\n",
       "      <th>5</th>\n",
       "      <td>245275</td>\n",
       "      <td>2017-06-28 11:35:37</td>\n",
       "      <td>149.00</td>\n",
       "      <td>Completed</td>\n",
       "    </tr>\n",
       "    <tr>\n",
       "      <th>6</th>\n",
       "      <td>245595</td>\n",
       "      <td>2017-01-21 12:52:47</td>\n",
       "      <td>112.97</td>\n",
       "      <td>Completed</td>\n",
       "    </tr>\n",
       "    <tr>\n",
       "      <th>...</th>\n",
       "      <td>...</td>\n",
       "      <td>...</td>\n",
       "      <td>...</td>\n",
       "      <td>...</td>\n",
       "    </tr>\n",
       "    <tr>\n",
       "      <th>226064</th>\n",
       "      <td>527042</td>\n",
       "      <td>2018-03-14 11:47:50</td>\n",
       "      <td>18.98</td>\n",
       "      <td>Completed</td>\n",
       "    </tr>\n",
       "    <tr>\n",
       "      <th>226092</th>\n",
       "      <td>527070</td>\n",
       "      <td>2018-03-14 11:50:48</td>\n",
       "      <td>24.97</td>\n",
       "      <td>Completed</td>\n",
       "    </tr>\n",
       "    <tr>\n",
       "      <th>226096</th>\n",
       "      <td>527074</td>\n",
       "      <td>2018-03-14 11:51:42</td>\n",
       "      <td>24.97</td>\n",
       "      <td>Completed</td>\n",
       "    </tr>\n",
       "    <tr>\n",
       "      <th>226118</th>\n",
       "      <td>527096</td>\n",
       "      <td>2018-03-14 11:58:40</td>\n",
       "      <td>34.96</td>\n",
       "      <td>Completed</td>\n",
       "    </tr>\n",
       "    <tr>\n",
       "      <th>226134</th>\n",
       "      <td>527112</td>\n",
       "      <td>2018-03-14 12:03:52</td>\n",
       "      <td>14.98</td>\n",
       "      <td>Completed</td>\n",
       "    </tr>\n",
       "  </tbody>\n",
       "</table>\n",
       "<p>46292 rows × 4 columns</p>\n",
       "</div>"
      ],
      "text/plain": [
       "        order_id        created_date  total_paid      state\n",
       "1         241423 2017-11-06 13:10:02      136.15  Completed\n",
       "2         242832 2017-12-31 17:40:03       15.76  Completed\n",
       "3         243330 2017-02-16 10:59:38       84.98  Completed\n",
       "5         245275 2017-06-28 11:35:37      149.00  Completed\n",
       "6         245595 2017-01-21 12:52:47      112.97  Completed\n",
       "...          ...                 ...         ...        ...\n",
       "226064    527042 2018-03-14 11:47:50       18.98  Completed\n",
       "226092    527070 2018-03-14 11:50:48       24.97  Completed\n",
       "226096    527074 2018-03-14 11:51:42       24.97  Completed\n",
       "226118    527096 2018-03-14 11:58:40       34.96  Completed\n",
       "226134    527112 2018-03-14 12:03:52       14.98  Completed\n",
       "\n",
       "[46292 rows x 4 columns]"
      ]
     },
     "execution_count": 41,
     "metadata": {},
     "output_type": "execute_result"
    }
   ],
   "source": [
    "completed_orders"
   ]
  },
  {
   "cell_type": "code",
   "execution_count": 17,
   "id": "f17a3272-b30a-45e1-87ea-919092db514b",
   "metadata": {},
   "outputs": [
    {
     "data": {
      "text/plain": [
       "Completed    0.204448\n",
       "Name: state, dtype: float64"
      ]
     },
     "execution_count": 17,
     "metadata": {},
     "output_type": "execute_result"
    }
   ],
   "source": [
    "orders.loc[orders.state == 'Completed'].state.value_counts() / orders.order_id.count()"
   ]
  },
  {
   "cell_type": "markdown",
   "id": "7a1f3cba-46b9-4350-a86a-eb9b75467fc2",
   "metadata": {},
   "source": [
    "Completed orders make 20% of all orders"
   ]
  },
  {
   "cell_type": "code",
   "execution_count": 32,
   "id": "5b87e8ed-6f18-4e8d-934e-4755d38628d1",
   "metadata": {},
   "outputs": [],
   "source": [
    "orders_by_state=(\n",
    "    orders\n",
    "    .groupby('state')\n",
    "    .count()\n",
    "    .reset_index()\n",
    ")"
   ]
  },
  {
   "cell_type": "code",
   "execution_count": 33,
   "id": "8cad963a-0ae5-43e8-a3a2-fd4c77c07408",
   "metadata": {},
   "outputs": [
    {
     "data": {
      "text/html": [
       "<div>\n",
       "<style scoped>\n",
       "    .dataframe tbody tr th:only-of-type {\n",
       "        vertical-align: middle;\n",
       "    }\n",
       "\n",
       "    .dataframe tbody tr th {\n",
       "        vertical-align: top;\n",
       "    }\n",
       "\n",
       "    .dataframe thead th {\n",
       "        text-align: right;\n",
       "    }\n",
       "</style>\n",
       "<table border=\"1\" class=\"dataframe\">\n",
       "  <thead>\n",
       "    <tr style=\"text-align: right;\">\n",
       "      <th></th>\n",
       "      <th>state</th>\n",
       "      <th>order_id</th>\n",
       "      <th>created_date</th>\n",
       "      <th>total_paid</th>\n",
       "    </tr>\n",
       "  </thead>\n",
       "  <tbody>\n",
       "    <tr>\n",
       "      <th>0</th>\n",
       "      <td>Cancelled</td>\n",
       "      <td>7208</td>\n",
       "      <td>7208</td>\n",
       "      <td>7208</td>\n",
       "    </tr>\n",
       "    <tr>\n",
       "      <th>1</th>\n",
       "      <td>Completed</td>\n",
       "      <td>46292</td>\n",
       "      <td>46292</td>\n",
       "      <td>46292</td>\n",
       "    </tr>\n",
       "    <tr>\n",
       "      <th>2</th>\n",
       "      <td>Pending</td>\n",
       "      <td>14292</td>\n",
       "      <td>14292</td>\n",
       "      <td>14292</td>\n",
       "    </tr>\n",
       "    <tr>\n",
       "      <th>3</th>\n",
       "      <td>Place Order</td>\n",
       "      <td>40869</td>\n",
       "      <td>40869</td>\n",
       "      <td>40869</td>\n",
       "    </tr>\n",
       "    <tr>\n",
       "      <th>4</th>\n",
       "      <td>Shopping Basket</td>\n",
       "      <td>117763</td>\n",
       "      <td>117763</td>\n",
       "      <td>117763</td>\n",
       "    </tr>\n",
       "  </tbody>\n",
       "</table>\n",
       "</div>"
      ],
      "text/plain": [
       "             state  order_id  created_date  total_paid\n",
       "0        Cancelled      7208          7208        7208\n",
       "1        Completed     46292         46292       46292\n",
       "2          Pending     14292         14292       14292\n",
       "3      Place Order     40869         40869       40869\n",
       "4  Shopping Basket    117763        117763      117763"
      ]
     },
     "execution_count": 33,
     "metadata": {},
     "output_type": "execute_result"
    }
   ],
   "source": [
    "orders_by_state"
   ]
  },
  {
   "cell_type": "code",
   "execution_count": 37,
   "id": "8ad4ec8c-21cd-4695-8793-23d11e70e262",
   "metadata": {},
   "outputs": [
    {
     "data": {
      "image/png": "[encoded data removed]",
      "text/plain": [
       "<Figure size 864x576 with 1 Axes>"
      ]
     },
     "metadata": {},
     "output_type": "display_data"
    }
   ],
   "source": [
    "plt.subplots(figsize=(12, 8))\n",
    "colors = sns.color_palette('pastel')[0:6]\n",
    "plt.pie(orders_by_state.order_id, labels = orders_by_state.state, colors = colors, autopct='%.0f%%')\n",
    "plt.show()"
   ]
  },
  {
   "cell_type": "markdown",
   "id": "ecf274de-8a7f-4906-9ee6-7adc97a4c6d7",
   "metadata": {},
   "source": [
    "## How should revenue be computed?"
   ]
  },
  {
   "cell_type": "markdown",
   "id": "dcbf3d8b-95ba-487f-8d37-bb50ca5a33dc",
   "metadata": {},
   "source": [
    "Revenue for entire database"
   ]
  },
  {
   "cell_type": "code",
   "execution_count": 42,
   "id": "9386bf1b-8792-460b-aa8e-d1b18987bc64",
   "metadata": {},
   "outputs": [
    {
     "data": {
      "text/plain": [
       "15814563.919999996"
      ]
     },
     "execution_count": 42,
     "metadata": {},
     "output_type": "execute_result"
    }
   ],
   "source": [
    "completed_orders.total_paid.sum()"
   ]
  },
  {
   "cell_type": "markdown",
   "id": "515ce42b-4db0-4161-a5ad-d5076e7b72b2",
   "metadata": {},
   "source": [
    "Revenue for each year:"
   ]
  },
  {
   "cell_type": "code",
   "execution_count": 44,
   "id": "0de5df76-1dd4-4514-b0b8-3bf7978307cc",
   "metadata": {},
   "outputs": [
    {
     "data": {
      "text/plain": [
       "year\n",
       "2017    12339632.82\n",
       "2018     3474931.10\n",
       "Name: total_paid, dtype: float64"
      ]
     },
     "execution_count": 44,
     "metadata": {},
     "output_type": "execute_result"
    }
   ],
   "source": [
    "completed_orders.assign(year = orders.created_date.dt.strftime('%Y')).groupby('year')['total_paid'].agg('sum')"
   ]
  }
 ],
 "metadata": {
  "kernelspec": {
   "display_name": "Python 3",
   "language": "python",
   "name": "python3"
  },
  "language_info": {
   "codemirror_mode": {
    "name": "ipython",
    "version": 3
   },
   "file_extension": ".py",
   "mimetype": "text/x-python",
   "name": "python",
   "nbconvert_exporter": "python",
   "pygments_lexer": "ipython3",
   "version": "3.8.8"
  }
 },
 "nbformat": 4,
 "nbformat_minor": 5
}
