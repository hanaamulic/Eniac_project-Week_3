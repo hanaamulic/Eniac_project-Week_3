{
 "cells": [
  {
   "cell_type": "markdown",
   "id": "dfb00a1a-e187-499b-8533-a057e548612a",
   "metadata": {},
   "source": [
    "# Cleaning Eniac data - Products"
   ]
  },
  {
   "cell_type": "code",
   "execution_count": 2,
   "id": "83e32e64-2317-4258-ab12-06cd4d874857",
   "metadata": {},
   "outputs": [],
   "source": [
    "import pandas as pd\n",
    "from functools import wraps\n",
    "import datetime as dt"
   ]
  },
  {
   "cell_type": "code",
   "execution_count": 3,
   "id": "d1f0bff5-0a30-4f98-87ae-b59bce9c57a4",
   "metadata": {},
   "outputs": [],
   "source": [
    "orderlines = pd.read_csv('data/eniac/orderlines.csv')\n",
    "products = pd.read_csv('data/eniac/products.csv')\n",
    "orders = pd.read_csv('data/eniac/orders.csv')"
   ]
  },
  {
   "cell_type": "code",
   "execution_count": 4,
   "id": "5b5a36ee-58e5-40e1-8213-48dba3575a57",
   "metadata": {
    "jupyter": {
     "source_hidden": true
    },
    "tags": []
   },
   "outputs": [],
   "source": [
    "# Function that makes logs in the pipeline\n",
    "def log_step(func):\n",
    "    @wraps(func)\n",
    "    def wrapper(*args, **kwargs):\n",
    "        tic = dt.datetime.now()\n",
    "        result = func(*args, **kwargs)\n",
    "        time_taken = str(dt.datetime.now() - tic)\n",
    "        print(f\"just ran step {func.__name__} shape={result.shape} took {time_taken}s\")\n",
    "        return result\n",
    "    return wrapper"
   ]
  },
  {
   "cell_type": "code",
   "execution_count": 5,
   "id": "a99545c9-f324-4095-89b6-d66503f006ad",
   "metadata": {
    "tags": []
   },
   "outputs": [],
   "source": [
    "# Function that returns copy of DataFrame\n",
    "@log_step\n",
    "def start_pipeline(df):\n",
    "    return df.copy()"
   ]
  },
  {
   "cell_type": "markdown",
   "id": "34854a2e-e6f9-4da0-bac8-6541410e08f9",
   "metadata": {
    "tags": []
   },
   "source": [
    "## Products info"
   ]
  },
  {
   "cell_type": "code",
   "execution_count": 6,
   "id": "44a17215-9601-4c0c-a14f-ccd1250e9fa3",
   "metadata": {},
   "outputs": [],
   "source": [
    "#Function that returns number of missing values\n",
    "def check_missing_values(data): \n",
    "    print('Missing values:' + '\\n' + str(data.isna().sum()))\n",
    "\n",
    "#Function that returns number of duplicated rows\n",
    "def check_duplicates(data): \n",
    "    print('Duplicated rows: ', data.duplicated().sum())\n",
    "\n",
    "def check_table(df):\n",
    "    check_missing_values(df)\n",
    "    check_duplicates(df)\n",
    "    df.info()"
   ]
  },
  {
   "cell_type": "code",
   "execution_count": 7,
   "id": "c189e065-1cf6-4451-b11f-b6f86c2e1897",
   "metadata": {
    "tags": []
   },
   "outputs": [
    {
     "name": "stdout",
     "output_type": "stream",
     "text": [
      "Missing values:\n",
      "sku             0\n",
      "name            0\n",
      "desc            7\n",
      "price          46\n",
      "promo_price     0\n",
      "in_stock        0\n",
      "type           50\n",
      "dtype: int64\n",
      "Duplicated rows:  8746\n",
      "<class 'pandas.core.frame.DataFrame'>\n",
      "RangeIndex: 19326 entries, 0 to 19325\n",
      "Data columns (total 7 columns):\n",
      " #   Column       Non-Null Count  Dtype \n",
      "---  ------       --------------  ----- \n",
      " 0   sku          19326 non-null  object\n",
      " 1   name         19326 non-null  object\n",
      " 2   desc         19319 non-null  object\n",
      " 3   price        19280 non-null  object\n",
      " 4   promo_price  19326 non-null  object\n",
      " 5   in_stock     19326 non-null  int64 \n",
      " 6   type         19276 non-null  object\n",
      "dtypes: int64(1), object(6)\n",
      "memory usage: 1.0+ MB\n"
     ]
    }
   ],
   "source": [
    "check_table(products)"
   ]
  },
  {
   "cell_type": "markdown",
   "id": "85762f71-4b0a-4422-9ad5-2fcccbadf892",
   "metadata": {},
   "source": [
    "### Dropping columns"
   ]
  },
  {
   "cell_type": "markdown",
   "id": "05a6628b-fd88-4159-8673-b2b357e352eb",
   "metadata": {},
   "source": [
    "I have decided that for my future analisys I don't need columns 'in_stock' and 'type'. I am passing list of colums as an argument"
   ]
  },
  {
   "cell_type": "code",
   "execution_count": 8,
   "id": "ae0d6062-f191-4d0e-8ef4-9829fe18d122",
   "metadata": {},
   "outputs": [],
   "source": [
    "# Function that drops columns from a list of columns\n",
    "@log_step\n",
    "def drop_columns(df, columns):\n",
    "    return df.drop(columns,axis=1)"
   ]
  },
  {
   "cell_type": "code",
   "execution_count": 9,
   "id": "2ac53796-b1fc-46bd-ba72-4e72e65607ea",
   "metadata": {},
   "outputs": [],
   "source": [
    "columns_to_drop = ['in_stock','type']"
   ]
  },
  {
   "cell_type": "markdown",
   "id": "25bfcbf8-ffcd-4c86-9314-aa0ed1d61b6e",
   "metadata": {
    "tags": []
   },
   "source": [
    "### Dealing with NaN values"
   ]
  },
  {
   "cell_type": "markdown",
   "id": "95e373b2-c971-452e-ae29-c1458799a763",
   "metadata": {
    "tags": []
   },
   "source": [
    "I have decided to exclude all rows that have NaN value in 'price' and 'desc' column since there are very few of them. I have forwarded function called select_nonNan_rows to pipeline."
   ]
  },
  {
   "cell_type": "code",
   "execution_count": 10,
   "id": "e6925d77-be5e-414f-b052-96310a374023",
   "metadata": {},
   "outputs": [],
   "source": [
    "@log_step\n",
    "#Function that returns rows with notNaN values in 'column'\n",
    "def select_notNan_rows(df,columns):\n",
    "    for col in columns:\n",
    "        df = df[df[col].notna()]\n",
    "    return df"
   ]
  },
  {
   "cell_type": "code",
   "execution_count": 11,
   "id": "9e1610dc-ff3f-4b79-91e8-9e47d1f09fff",
   "metadata": {},
   "outputs": [],
   "source": [
    "columns_where_NaNs_are = ['price','desc']"
   ]
  },
  {
   "cell_type": "markdown",
   "id": "3129bd15-61a4-4d31-b5aa-63fc8ff008ec",
   "metadata": {},
   "source": [
    "### Losing duplicates"
   ]
  },
  {
   "cell_type": "markdown",
   "id": "8a5ffb69-97ac-4b19-b6c4-336bf36f7ccc",
   "metadata": {},
   "source": [
    "I have decided to lose all rows that have duplicate 'sku' value."
   ]
  },
  {
   "cell_type": "code",
   "execution_count": 12,
   "id": "329c47dc-6acf-408e-8ce0-9518af4fa3e7",
   "metadata": {},
   "outputs": [],
   "source": [
    "@log_step\n",
    "#Function that drops duplicates\n",
    "def drop_duplicates_custom(df,columns=[]):\n",
    "    if(len(columns) > 0):\n",
    "        return df.drop_duplicates(columns)\n",
    "    else:\n",
    "        return df.drop_duplicates()"
   ]
  },
  {
   "cell_type": "code",
   "execution_count": 13,
   "id": "e87b2416-5f15-4d59-ad7a-2a08648403bf",
   "metadata": {},
   "outputs": [],
   "source": [
    "columns_arg_for_duplicates_drop = ['sku']"
   ]
  },
  {
   "cell_type": "markdown",
   "id": "5c265c93-4613-48c0-b713-2257e9c112ca",
   "metadata": {},
   "source": [
    "### Changing types "
   ]
  },
  {
   "cell_type": "markdown",
   "id": "626f95c3-6cb6-4dfa-883c-c4da8f9e667b",
   "metadata": {
    "tags": []
   },
   "source": [
    "I have to change types of 'price' and 'promo_price' from object to float"
   ]
  },
  {
   "cell_type": "markdown",
   "id": "23ac69c3-8ae5-4fea-90f5-44e1f5619399",
   "metadata": {},
   "source": [
    "It seems like price and promo price had some problems with decimals, decimal spaces...so I have created clean_prices function that clean those. After that I was able to change types to float."
   ]
  },
  {
   "cell_type": "code",
   "execution_count": 14,
   "id": "2c9bdfb3-aca7-45f1-b92a-d3a2520a5695",
   "metadata": {
    "tags": []
   },
   "outputs": [],
   "source": [
    "#Function for cleaning price and promo_price columns\n",
    "@log_step\n",
    "def clean_prices(p,columns):\n",
    "    for col in columns:\n",
    "        p[col] = p[col].apply(lambda x : x +'.00' if x.count('.') == 0 else x)\n",
    "        p[col] = p[col].apply(lambda x: x  + '0' if x[-2]=='.' else x)\n",
    "        p[col] = p[col].apply(lambda x: str(float(x.replace('.',''))/1000) if ( (x[-4]=='.') & (x.count('.')==2)) else x)\n",
    "        p[col] = p[col].apply(lambda x: str(float(x.replace('.',''))/10000) if ( (x[-4]=='.') & (x.count('.')==1)) else x)\n",
    "        p[col] = p[col].astype(float)\n",
    "        p[col] = p[col].round(decimals = 2)\n",
    "    return p"
   ]
  },
  {
   "cell_type": "markdown",
   "id": "8ea791d6-9b05-4e7f-90a6-e053ff18941d",
   "metadata": {},
   "source": [
    "## Pipeline"
   ]
  },
  {
   "cell_type": "code",
   "execution_count": 18,
   "id": "e86077ad-192b-41c3-b2ce-29cef1a305d7",
   "metadata": {},
   "outputs": [
    {
     "name": "stdout",
     "output_type": "stream",
     "text": [
      "just ran step start_pipeline shape=(19326, 7) took 0:00:00.000997s\n",
      "just ran step drop_columns shape=(19326, 5) took 0:00:00.002032s\n",
      "just ran step select_notNan_rows shape=(19273, 5) took 0:00:00.006945s\n",
      "just ran step drop_duplicates_custom shape=(10527, 5) took 0:00:00.004979s\n",
      "just ran step clean_prices shape=(10527, 5) took 0:00:00.043914s\n"
     ]
    }
   ],
   "source": [
    "p = (products\n",
    "     .pipe(start_pipeline)\n",
    "     .pipe(drop_columns,columns_to_drop)\n",
    "     .pipe(select_notNan_rows,columns_where_NaNs_are)\n",
    "     .pipe(drop_duplicates_custom,columns_arg_for_duplicates_drop)\n",
    "     .pipe(clean_prices,['price','promo_price'])\n",
    ")"
   ]
  },
  {
   "cell_type": "markdown",
   "id": "64414dfc-d33e-48be-8ab8-b5612427510e",
   "metadata": {},
   "source": [
    "# Creating new clean csv"
   ]
  },
  {
   "cell_type": "code",
   "execution_count": 19,
   "id": "44a8a198-b4b8-499d-bde3-1e97cc8d8f95",
   "metadata": {},
   "outputs": [],
   "source": [
    "p.to_csv('data/eniac/products_clean.csv',index=False)"
   ]
  },
  {
   "cell_type": "code",
   "execution_count": 215,
   "id": "9e23c4f8-e553-4777-9f64-a1f1e1ab7099",
   "metadata": {},
   "outputs": [
    {
     "name": "stdout",
     "output_type": "stream",
     "text": [
      "Missing values:\n",
      "sku            0\n",
      "name           0\n",
      "desc           0\n",
      "price          0\n",
      "promo_price    0\n",
      "dtype: int64\n",
      "Duplicated rows:  0\n",
      "<class 'pandas.core.frame.DataFrame'>\n",
      "Int64Index: 10527 entries, 0 to 19325\n",
      "Data columns (total 5 columns):\n",
      " #   Column       Non-Null Count  Dtype  \n",
      "---  ------       --------------  -----  \n",
      " 0   sku          10527 non-null  object \n",
      " 1   name         10527 non-null  object \n",
      " 2   desc         10527 non-null  object \n",
      " 3   price        10527 non-null  float64\n",
      " 4   promo_price  10527 non-null  float64\n",
      "dtypes: float64(2), object(3)\n",
      "memory usage: 493.5+ KB\n"
     ]
    }
   ],
   "source": [
    "check_table(p)"
   ]
  },
  {
   "cell_type": "code",
   "execution_count": 216,
   "id": "6b7edd57-7767-4454-a509-044b0b5ec1ff",
   "metadata": {},
   "outputs": [
    {
     "data": {
      "text/html": [
       "<div>\n",
       "<style scoped>\n",
       "    .dataframe tbody tr th:only-of-type {\n",
       "        vertical-align: middle;\n",
       "    }\n",
       "\n",
       "    .dataframe tbody tr th {\n",
       "        vertical-align: top;\n",
       "    }\n",
       "\n",
       "    .dataframe thead th {\n",
       "        text-align: right;\n",
       "    }\n",
       "</style>\n",
       "<table border=\"1\" class=\"dataframe\">\n",
       "  <thead>\n",
       "    <tr style=\"text-align: right;\">\n",
       "      <th></th>\n",
       "      <th>sku</th>\n",
       "      <th>name</th>\n",
       "      <th>desc</th>\n",
       "      <th>price</th>\n",
       "      <th>promo_price</th>\n",
       "      <th>in_stock</th>\n",
       "      <th>type</th>\n",
       "    </tr>\n",
       "  </thead>\n",
       "  <tbody>\n",
       "    <tr>\n",
       "      <th>18679</th>\n",
       "      <td>WAC0220-A</td>\n",
       "      <td>Open - Wacom Intuos Pro Paper L South</td>\n",
       "      <td>Reconditioned large graphics tablet lets you d...</td>\n",
       "      <td>599.9</td>\n",
       "      <td>4.518.267</td>\n",
       "      <td>0</td>\n",
       "      <td>1405</td>\n",
       "    </tr>\n",
       "    <tr>\n",
       "      <th>11278</th>\n",
       "      <td>PHI0061</td>\n",
       "      <td>Philips HUE Bridge 2.0 for lamps and bulbs Hue</td>\n",
       "      <td>Bridge intelligent control of lights and acces...</td>\n",
       "      <td>59.95</td>\n",
       "      <td>498.992</td>\n",
       "      <td>1</td>\n",
       "      <td>11905404</td>\n",
       "    </tr>\n",
       "    <tr>\n",
       "      <th>5339</th>\n",
       "      <td>PAC1050</td>\n",
       "      <td>Apple iMac 27 \"Core i5 3.3GHz Retina 5K | 32GB...</td>\n",
       "      <td>IMac desktop computer 27 inch 5K Retina i5 3.3...</td>\n",
       "      <td>4069</td>\n",
       "      <td>34.809.897</td>\n",
       "      <td>0</td>\n",
       "      <td>5,74E+15</td>\n",
       "    </tr>\n",
       "    <tr>\n",
       "      <th>13863</th>\n",
       "      <td>APP1854</td>\n",
       "      <td>Apple MacBook Pro 13 \"with Touch Bar 33GHz Cor...</td>\n",
       "      <td>New MacBook Pro 13 inch Touch Bar 33 GHz Core ...</td>\n",
       "      <td>3279</td>\n",
       "      <td>29.655.951</td>\n",
       "      <td>0</td>\n",
       "      <td>2158</td>\n",
       "    </tr>\n",
       "    <tr>\n",
       "      <th>2034</th>\n",
       "      <td>MOS0058</td>\n",
       "      <td>PalmGuard Moshi protector Macbook Air 13 \"</td>\n",
       "      <td>Handrests protector Macbook 13 inches.</td>\n",
       "      <td>19.99</td>\n",
       "      <td>199.892</td>\n",
       "      <td>0</td>\n",
       "      <td>13835403</td>\n",
       "    </tr>\n",
       "    <tr>\n",
       "      <th>18443</th>\n",
       "      <td>APP2674</td>\n",
       "      <td>Apple iMac Pro 27 \"10-core Intel Xeon 3GHz W |...</td>\n",
       "      <td>Pro iMac 27 inch screen Retina 5K and Intel Xe...</td>\n",
       "      <td>7179</td>\n",
       "      <td>67.480.042</td>\n",
       "      <td>0</td>\n",
       "      <td>118692158</td>\n",
       "    </tr>\n",
       "    <tr>\n",
       "      <th>10922</th>\n",
       "      <td>PAC1630</td>\n",
       "      <td>QNAP HS-251 + | Seagate 20TB Iron Wolf</td>\n",
       "      <td>QNAP Pack HS-251 + with 20TB (2x10TB) Seagate ...</td>\n",
       "      <td>1198.97</td>\n",
       "      <td>9.051.792</td>\n",
       "      <td>0</td>\n",
       "      <td>12175397</td>\n",
       "    </tr>\n",
       "    <tr>\n",
       "      <th>17547</th>\n",
       "      <td>XDO0047</td>\n",
       "      <td>X-Doria Defense Shield iPhone Case 8/7 Black</td>\n",
       "      <td>Durability that combines polycarbonate and ano...</td>\n",
       "      <td>32.99</td>\n",
       "      <td>259.896</td>\n",
       "      <td>1</td>\n",
       "      <td>11865403</td>\n",
       "    </tr>\n",
       "    <tr>\n",
       "      <th>3296</th>\n",
       "      <td>APP1384</td>\n",
       "      <td>Apple iMac 27 \"Core i7 Retina 5K 4GHz | 8GB | ...</td>\n",
       "      <td>IMac desktop computer 27 inch 8GB RAM 2TB 5K R...</td>\n",
       "      <td>3229</td>\n",
       "      <td>30.745.846</td>\n",
       "      <td>0</td>\n",
       "      <td>5,74E+15</td>\n",
       "    </tr>\n",
       "    <tr>\n",
       "      <th>17544</th>\n",
       "      <td>OWC0253</td>\n",
       "      <td>Mac OWC Memory 2GB DDR2 533MHz DIMM</td>\n",
       "      <td>RAM 1GB iMac G5 / PowerMac G5.</td>\n",
       "      <td>22.99</td>\n",
       "      <td>22.99</td>\n",
       "      <td>1</td>\n",
       "      <td>1364</td>\n",
       "    </tr>\n",
       "    <tr>\n",
       "      <th>16078</th>\n",
       "      <td>AP20186</td>\n",
       "      <td>Like new - Apple iPhone 32GB Rose Gold 6s</td>\n",
       "      <td>Apple iPhone 6s Refurbished 32GB Free Rose Gol...</td>\n",
       "      <td>529</td>\n",
       "      <td>4.690.008</td>\n",
       "      <td>0</td>\n",
       "      <td>24821716</td>\n",
       "    </tr>\n",
       "    <tr>\n",
       "      <th>15528</th>\n",
       "      <td>GRT0447-A</td>\n",
       "      <td>Open - Griffin Survivor iPhone Case 7 Summit P...</td>\n",
       "      <td>hard case with screen protector and clip suppo...</td>\n",
       "      <td>49.99</td>\n",
       "      <td>220.093</td>\n",
       "      <td>0</td>\n",
       "      <td>1298</td>\n",
       "    </tr>\n",
       "    <tr>\n",
       "      <th>7320</th>\n",
       "      <td>PAC1616</td>\n",
       "      <td>Apple iMac 27 \"Core i7 Retina 5K 4GHz | 8GB RA...</td>\n",
       "      <td>IMac desktop computer 27 inch Retina 5K 4GHz C...</td>\n",
       "      <td>4369</td>\n",
       "      <td>34.999.903</td>\n",
       "      <td>0</td>\n",
       "      <td>5,74E+15</td>\n",
       "    </tr>\n",
       "    <tr>\n",
       "      <th>8408</th>\n",
       "      <td>APP1326</td>\n",
       "      <td>Apple iMac 27 \"Core i5 3.2GHz Retina 5K | 8GB ...</td>\n",
       "      <td>IMac desktop computer 27 inch 8GB RAM 512GB Re...</td>\n",
       "      <td>2609</td>\n",
       "      <td>24.855.844</td>\n",
       "      <td>0</td>\n",
       "      <td>1282</td>\n",
       "    </tr>\n",
       "    <tr>\n",
       "      <th>1101</th>\n",
       "      <td>IKM0032</td>\n",
       "      <td>IK Multimedia iRig Microphone Voice iPhone and...</td>\n",
       "      <td>color microphone for iPhone iPad and iPod Touch.</td>\n",
       "      <td>48.79</td>\n",
       "      <td>369.897</td>\n",
       "      <td>0</td>\n",
       "      <td>11905404</td>\n",
       "    </tr>\n",
       "    <tr>\n",
       "      <th>7648</th>\n",
       "      <td>PAC1622</td>\n",
       "      <td>Apple iMac 27 \"Core i5 3.3GHz Retina 5K | 8GB ...</td>\n",
       "      <td>Desktop computer iMac 27-inch 3.3GHz Core i5 5...</td>\n",
       "      <td>4369</td>\n",
       "      <td>34.999.903</td>\n",
       "      <td>0</td>\n",
       "      <td>5,74E+15</td>\n",
       "    </tr>\n",
       "    <tr>\n",
       "      <th>1478</th>\n",
       "      <td>BOO0086</td>\n",
       "      <td>Booq Boa Flow Backpack Graphite MacBook Pro 17...</td>\n",
       "      <td>High-capacity backpack for MacBook Pro 17-inch.</td>\n",
       "      <td>224.99</td>\n",
       "      <td>2.249.874</td>\n",
       "      <td>0</td>\n",
       "      <td>1392</td>\n",
       "    </tr>\n",
       "    <tr>\n",
       "      <th>7285</th>\n",
       "      <td>PAC1616</td>\n",
       "      <td>Apple iMac 27 \"Core i7 Retina 5K 4GHz | 8GB RA...</td>\n",
       "      <td>IMac desktop computer 27 inch Retina 5K 4GHz C...</td>\n",
       "      <td>4369</td>\n",
       "      <td>34.999.903</td>\n",
       "      <td>0</td>\n",
       "      <td>5,74E+15</td>\n",
       "    </tr>\n",
       "    <tr>\n",
       "      <th>4580</th>\n",
       "      <td>PAC1036</td>\n",
       "      <td>Apple iMac 27 \"Core i5 3.3GHz Retina 5K | 16GB...</td>\n",
       "      <td>IMac desktop computer 27 inch 5K Retina i5 3.3...</td>\n",
       "      <td>2989</td>\n",
       "      <td>2630</td>\n",
       "      <td>0</td>\n",
       "      <td>5,74E+15</td>\n",
       "    </tr>\n",
       "    <tr>\n",
       "      <th>10267</th>\n",
       "      <td>PAC1596</td>\n",
       "      <td>Apple iMac 27 \"Core i5 3.2GHz Retina 5K | 16GB...</td>\n",
       "      <td>Desktop computer iMac 27-inch 3.2GHz Core i5 5...</td>\n",
       "      <td>4009</td>\n",
       "      <td>29.539.899</td>\n",
       "      <td>0</td>\n",
       "      <td>5,74E+15</td>\n",
       "    </tr>\n",
       "  </tbody>\n",
       "</table>\n",
       "</div>"
      ],
      "text/plain": [
       "             sku                                               name  \\\n",
       "18679  WAC0220-A              Open - Wacom Intuos Pro Paper L South   \n",
       "11278    PHI0061     Philips HUE Bridge 2.0 for lamps and bulbs Hue   \n",
       "5339     PAC1050  Apple iMac 27 \"Core i5 3.3GHz Retina 5K | 32GB...   \n",
       "13863    APP1854  Apple MacBook Pro 13 \"with Touch Bar 33GHz Cor...   \n",
       "2034     MOS0058         PalmGuard Moshi protector Macbook Air 13 \"   \n",
       "18443    APP2674  Apple iMac Pro 27 \"10-core Intel Xeon 3GHz W |...   \n",
       "10922    PAC1630             QNAP HS-251 + | Seagate 20TB Iron Wolf   \n",
       "17547    XDO0047       X-Doria Defense Shield iPhone Case 8/7 Black   \n",
       "3296     APP1384  Apple iMac 27 \"Core i7 Retina 5K 4GHz | 8GB | ...   \n",
       "17544    OWC0253                Mac OWC Memory 2GB DDR2 533MHz DIMM   \n",
       "16078    AP20186          Like new - Apple iPhone 32GB Rose Gold 6s   \n",
       "15528  GRT0447-A  Open - Griffin Survivor iPhone Case 7 Summit P...   \n",
       "7320     PAC1616  Apple iMac 27 \"Core i7 Retina 5K 4GHz | 8GB RA...   \n",
       "8408     APP1326  Apple iMac 27 \"Core i5 3.2GHz Retina 5K | 8GB ...   \n",
       "1101     IKM0032  IK Multimedia iRig Microphone Voice iPhone and...   \n",
       "7648     PAC1622  Apple iMac 27 \"Core i5 3.3GHz Retina 5K | 8GB ...   \n",
       "1478     BOO0086  Booq Boa Flow Backpack Graphite MacBook Pro 17...   \n",
       "7285     PAC1616  Apple iMac 27 \"Core i7 Retina 5K 4GHz | 8GB RA...   \n",
       "4580     PAC1036  Apple iMac 27 \"Core i5 3.3GHz Retina 5K | 16GB...   \n",
       "10267    PAC1596  Apple iMac 27 \"Core i5 3.2GHz Retina 5K | 16GB...   \n",
       "\n",
       "                                                    desc    price promo_price  \\\n",
       "18679  Reconditioned large graphics tablet lets you d...    599.9   4.518.267   \n",
       "11278  Bridge intelligent control of lights and acces...    59.95     498.992   \n",
       "5339   IMac desktop computer 27 inch 5K Retina i5 3.3...     4069  34.809.897   \n",
       "13863  New MacBook Pro 13 inch Touch Bar 33 GHz Core ...     3279  29.655.951   \n",
       "2034              Handrests protector Macbook 13 inches.    19.99     199.892   \n",
       "18443  Pro iMac 27 inch screen Retina 5K and Intel Xe...     7179  67.480.042   \n",
       "10922  QNAP Pack HS-251 + with 20TB (2x10TB) Seagate ...  1198.97   9.051.792   \n",
       "17547  Durability that combines polycarbonate and ano...    32.99     259.896   \n",
       "3296   IMac desktop computer 27 inch 8GB RAM 2TB 5K R...     3229  30.745.846   \n",
       "17544                     RAM 1GB iMac G5 / PowerMac G5.    22.99       22.99   \n",
       "16078  Apple iPhone 6s Refurbished 32GB Free Rose Gol...      529   4.690.008   \n",
       "15528  hard case with screen protector and clip suppo...    49.99     220.093   \n",
       "7320   IMac desktop computer 27 inch Retina 5K 4GHz C...     4369  34.999.903   \n",
       "8408   IMac desktop computer 27 inch 8GB RAM 512GB Re...     2609  24.855.844   \n",
       "1101    color microphone for iPhone iPad and iPod Touch.    48.79     369.897   \n",
       "7648   Desktop computer iMac 27-inch 3.3GHz Core i5 5...     4369  34.999.903   \n",
       "1478     High-capacity backpack for MacBook Pro 17-inch.   224.99   2.249.874   \n",
       "7285   IMac desktop computer 27 inch Retina 5K 4GHz C...     4369  34.999.903   \n",
       "4580   IMac desktop computer 27 inch 5K Retina i5 3.3...     2989        2630   \n",
       "10267  Desktop computer iMac 27-inch 3.2GHz Core i5 5...     4009  29.539.899   \n",
       "\n",
       "       in_stock       type  \n",
       "18679         0       1405  \n",
       "11278         1   11905404  \n",
       "5339          0   5,74E+15  \n",
       "13863         0       2158  \n",
       "2034          0   13835403  \n",
       "18443         0  118692158  \n",
       "10922         0   12175397  \n",
       "17547         1   11865403  \n",
       "3296          0   5,74E+15  \n",
       "17544         1       1364  \n",
       "16078         0   24821716  \n",
       "15528         0       1298  \n",
       "7320          0   5,74E+15  \n",
       "8408          0       1282  \n",
       "1101          0   11905404  \n",
       "7648          0   5,74E+15  \n",
       "1478          0       1392  \n",
       "7285          0   5,74E+15  \n",
       "4580          0   5,74E+15  \n",
       "10267         0   5,74E+15  "
      ]
     },
     "execution_count": 216,
     "metadata": {},
     "output_type": "execute_result"
    }
   ],
   "source": [
    "products.sample(20)"
   ]
  },
  {
   "cell_type": "code",
   "execution_count": 217,
   "id": "f0a27d3e-337a-4f08-b811-bc4f9832e9ee",
   "metadata": {},
   "outputs": [
    {
     "data": {
      "text/html": [
       "<div>\n",
       "<style scoped>\n",
       "    .dataframe tbody tr th:only-of-type {\n",
       "        vertical-align: middle;\n",
       "    }\n",
       "\n",
       "    .dataframe tbody tr th {\n",
       "        vertical-align: top;\n",
       "    }\n",
       "\n",
       "    .dataframe thead th {\n",
       "        text-align: right;\n",
       "    }\n",
       "</style>\n",
       "<table border=\"1\" class=\"dataframe\">\n",
       "  <thead>\n",
       "    <tr style=\"text-align: right;\">\n",
       "      <th></th>\n",
       "      <th>sku</th>\n",
       "      <th>name</th>\n",
       "      <th>desc</th>\n",
       "      <th>price</th>\n",
       "      <th>promo_price</th>\n",
       "    </tr>\n",
       "  </thead>\n",
       "  <tbody>\n",
       "    <tr>\n",
       "      <th>18883</th>\n",
       "      <td>PAC2286</td>\n",
       "      <td>Second hand - Apple LED Cinema Display 24 \"</td>\n",
       "      <td>Monitor Refurbished Apple Cinema Display 24 inch</td>\n",
       "      <td>899.00</td>\n",
       "      <td>499.00</td>\n",
       "    </tr>\n",
       "    <tr>\n",
       "      <th>18927</th>\n",
       "      <td>TWS0118-A</td>\n",
       "      <td>Open - Twelve South HiRise Duet</td>\n",
       "      <td>Support refitted with Lightning connector and ...</td>\n",
       "      <td>129.99</td>\n",
       "      <td>82.10</td>\n",
       "    </tr>\n",
       "    <tr>\n",
       "      <th>14039</th>\n",
       "      <td>APP1876</td>\n",
       "      <td>Apple MacBook Pro 15 \"Core i7 Touch Bar 29GHz ...</td>\n",
       "      <td>New MacBook Pro 15-inch Core i7 Touch Bar 29Gh...</td>\n",
       "      <td>4039.00</td>\n",
       "      <td>3843.58</td>\n",
       "    </tr>\n",
       "    <tr>\n",
       "      <th>3010</th>\n",
       "      <td>PAR0055</td>\n",
       "      <td>Jumping Parrot Drone Red Night Marshall</td>\n",
       "      <td>Vaulter remote control vehicle s night with LE...</td>\n",
       "      <td>159.90</td>\n",
       "      <td>139.90</td>\n",
       "    </tr>\n",
       "    <tr>\n",
       "      <th>15787</th>\n",
       "      <td>PLA0028</td>\n",
       "      <td>Plantronics BackBeat Fit Fuchsia Wireless Head...</td>\n",
       "      <td>secure wireless headset sport waterproof desig...</td>\n",
       "      <td>129.99</td>\n",
       "      <td>99.99</td>\n",
       "    </tr>\n",
       "    <tr>\n",
       "      <th>13180</th>\n",
       "      <td>PAC1685</td>\n",
       "      <td>Pack QNAP TS-251A NAS Server | 2GB RAM | Seaga...</td>\n",
       "      <td>NAS with 2GB of RAM and 16TB (2x8TB) Seagate I...</td>\n",
       "      <td>1069.67</td>\n",
       "      <td>751.18</td>\n",
       "    </tr>\n",
       "    <tr>\n",
       "      <th>16849</th>\n",
       "      <td>GLY0012</td>\n",
       "      <td>Glyph StudioRAID System 7200rpm HDD RAID 4TB T...</td>\n",
       "      <td>4TB RAID with Thunderbolt connection 2 and 2 H...</td>\n",
       "      <td>517.04</td>\n",
       "      <td>414.99</td>\n",
       "    </tr>\n",
       "    <tr>\n",
       "      <th>14708</th>\n",
       "      <td>QNA0186</td>\n",
       "      <td>QNAP TS-EC880U Xeon E3-1246 R2 Server Nas | 4G...</td>\n",
       "      <td>Nas 8-bay rackmount 4GB RAM with 4 USB 3.0 4 E...</td>\n",
       "      <td>3143.99</td>\n",
       "      <td>3143.99</td>\n",
       "    </tr>\n",
       "    <tr>\n",
       "      <th>18397</th>\n",
       "      <td>FIB0009</td>\n",
       "      <td>Fibaro Water Sensor Flood Sensor HomeKit</td>\n",
       "      <td>multi-function sensor for water leaks compatib...</td>\n",
       "      <td>69.99</td>\n",
       "      <td>69.99</td>\n",
       "    </tr>\n",
       "    <tr>\n",
       "      <th>11755</th>\n",
       "      <td>PAC1733</td>\n",
       "      <td>QNAP TS-128 Server l Nas 8TB (1x8TB) Seagate I...</td>\n",
       "      <td>NAS TS-128 1 8TB hard drive for Mac and PC</td>\n",
       "      <td>478.98</td>\n",
       "      <td>339.58</td>\n",
       "    </tr>\n",
       "    <tr>\n",
       "      <th>16479</th>\n",
       "      <td>APP2287</td>\n",
       "      <td>Apple MacBook Pro 13 \"Core i7 Touch Bar 35GHz ...</td>\n",
       "      <td>New MacBook Pro 13 inch Touch Bar 35 GHz Core ...</td>\n",
       "      <td>3349.00</td>\n",
       "      <td>314.80</td>\n",
       "    </tr>\n",
       "    <tr>\n",
       "      <th>392</th>\n",
       "      <td>REP0084</td>\n",
       "      <td>iPad 2 LCD screen repair</td>\n",
       "      <td>Repair service including parts and labor for i...</td>\n",
       "      <td>129.99</td>\n",
       "      <td>129.99</td>\n",
       "    </tr>\n",
       "    <tr>\n",
       "      <th>11743</th>\n",
       "      <td>PAC1382</td>\n",
       "      <td>Pack QNAP TS-228 | WD 8TB Network</td>\n",
       "      <td>NAS + 8TB (2x4TB) WD Network for Mac and PC.</td>\n",
       "      <td>478.99</td>\n",
       "      <td>394.18</td>\n",
       "    </tr>\n",
       "    <tr>\n",
       "      <th>612</th>\n",
       "      <td>AII0019</td>\n",
       "      <td>Aiino housing MacBook Pro 13 '' Black</td>\n",
       "      <td>MacBook Pro 13-inch casing with matte finish.</td>\n",
       "      <td>39.99</td>\n",
       "      <td>24.99</td>\n",
       "    </tr>\n",
       "    <tr>\n",
       "      <th>12275</th>\n",
       "      <td>MOS0192</td>\n",
       "      <td>Moshi iGlaze Armor iPhone 6 / 6S Rose Gold</td>\n",
       "      <td>Protective Case for iPhone 6 and 6s</td>\n",
       "      <td>45.00</td>\n",
       "      <td>32.99</td>\n",
       "    </tr>\n",
       "    <tr>\n",
       "      <th>10963</th>\n",
       "      <td>LOG0194</td>\n",
       "      <td>Ultimate Ears Boom 2 Bluetooth Portable Speake...</td>\n",
       "      <td>Logitech Bluetooth speaker with Micro waterpro...</td>\n",
       "      <td>209.00</td>\n",
       "      <td>149.99</td>\n",
       "    </tr>\n",
       "    <tr>\n",
       "      <th>11828</th>\n",
       "      <td>APP1504</td>\n",
       "      <td>Apple iPad Pro 9.7 \"Wi-Fi + Cellular 128GB Oro...</td>\n",
       "      <td>9.7-inch Apple iPad Pro Wi-Fi + Cellular 128GB...</td>\n",
       "      <td>939.00</td>\n",
       "      <td>942.81</td>\n",
       "    </tr>\n",
       "    <tr>\n",
       "      <th>15812</th>\n",
       "      <td>ELA0026</td>\n",
       "      <td>Elago Airpod Charging stand Charging Stand White</td>\n",
       "      <td>Silicone holder for positioning and loading th...</td>\n",
       "      <td>19.95</td>\n",
       "      <td>13.99</td>\n",
       "    </tr>\n",
       "    <tr>\n",
       "      <th>14916</th>\n",
       "      <td>PAC1896</td>\n",
       "      <td>Crucial SSD expansion kit MX300 275GB + 16GB 1...</td>\n",
       "      <td>275GB + SSD expansion 16GB 1333Mhz RAM for Mac...</td>\n",
       "      <td>317.36</td>\n",
       "      <td>293.58</td>\n",
       "    </tr>\n",
       "    <tr>\n",
       "      <th>15082</th>\n",
       "      <td>APP0271-A</td>\n",
       "      <td>Open - Apple Wireless Keyboard Keyboard (OEM) Mac</td>\n",
       "      <td>Ultrathin keyboard Apple Bluetooth Spanish (un...</td>\n",
       "      <td>79.00</td>\n",
       "      <td>49.06</td>\n",
       "    </tr>\n",
       "  </tbody>\n",
       "</table>\n",
       "</div>"
      ],
      "text/plain": [
       "             sku                                               name  \\\n",
       "18883    PAC2286        Second hand - Apple LED Cinema Display 24 \"   \n",
       "18927  TWS0118-A                    Open - Twelve South HiRise Duet   \n",
       "14039    APP1876  Apple MacBook Pro 15 \"Core i7 Touch Bar 29GHz ...   \n",
       "3010     PAR0055            Jumping Parrot Drone Red Night Marshall   \n",
       "15787    PLA0028  Plantronics BackBeat Fit Fuchsia Wireless Head...   \n",
       "13180    PAC1685  Pack QNAP TS-251A NAS Server | 2GB RAM | Seaga...   \n",
       "16849    GLY0012  Glyph StudioRAID System 7200rpm HDD RAID 4TB T...   \n",
       "14708    QNA0186  QNAP TS-EC880U Xeon E3-1246 R2 Server Nas | 4G...   \n",
       "18397    FIB0009           Fibaro Water Sensor Flood Sensor HomeKit   \n",
       "11755    PAC1733  QNAP TS-128 Server l Nas 8TB (1x8TB) Seagate I...   \n",
       "16479    APP2287  Apple MacBook Pro 13 \"Core i7 Touch Bar 35GHz ...   \n",
       "392      REP0084                           iPad 2 LCD screen repair   \n",
       "11743    PAC1382                  Pack QNAP TS-228 | WD 8TB Network   \n",
       "612      AII0019              Aiino housing MacBook Pro 13 '' Black   \n",
       "12275    MOS0192         Moshi iGlaze Armor iPhone 6 / 6S Rose Gold   \n",
       "10963    LOG0194  Ultimate Ears Boom 2 Bluetooth Portable Speake...   \n",
       "11828    APP1504  Apple iPad Pro 9.7 \"Wi-Fi + Cellular 128GB Oro...   \n",
       "15812    ELA0026   Elago Airpod Charging stand Charging Stand White   \n",
       "14916    PAC1896  Crucial SSD expansion kit MX300 275GB + 16GB 1...   \n",
       "15082  APP0271-A  Open - Apple Wireless Keyboard Keyboard (OEM) Mac   \n",
       "\n",
       "                                                    desc    price  promo_price  \n",
       "18883   Monitor Refurbished Apple Cinema Display 24 inch   899.00       499.00  \n",
       "18927  Support refitted with Lightning connector and ...   129.99        82.10  \n",
       "14039  New MacBook Pro 15-inch Core i7 Touch Bar 29Gh...  4039.00      3843.58  \n",
       "3010   Vaulter remote control vehicle s night with LE...   159.90       139.90  \n",
       "15787  secure wireless headset sport waterproof desig...   129.99        99.99  \n",
       "13180  NAS with 2GB of RAM and 16TB (2x8TB) Seagate I...  1069.67       751.18  \n",
       "16849  4TB RAID with Thunderbolt connection 2 and 2 H...   517.04       414.99  \n",
       "14708  Nas 8-bay rackmount 4GB RAM with 4 USB 3.0 4 E...  3143.99      3143.99  \n",
       "18397  multi-function sensor for water leaks compatib...    69.99        69.99  \n",
       "11755         NAS TS-128 1 8TB hard drive for Mac and PC   478.98       339.58  \n",
       "16479  New MacBook Pro 13 inch Touch Bar 35 GHz Core ...  3349.00       314.80  \n",
       "392    Repair service including parts and labor for i...   129.99       129.99  \n",
       "11743       NAS + 8TB (2x4TB) WD Network for Mac and PC.   478.99       394.18  \n",
       "612        MacBook Pro 13-inch casing with matte finish.    39.99        24.99  \n",
       "12275                Protective Case for iPhone 6 and 6s    45.00        32.99  \n",
       "10963  Logitech Bluetooth speaker with Micro waterpro...   209.00       149.99  \n",
       "11828  9.7-inch Apple iPad Pro Wi-Fi + Cellular 128GB...   939.00       942.81  \n",
       "15812  Silicone holder for positioning and loading th...    19.95        13.99  \n",
       "14916  275GB + SSD expansion 16GB 1333Mhz RAM for Mac...   317.36       293.58  \n",
       "15082  Ultrathin keyboard Apple Bluetooth Spanish (un...    79.00        49.06  "
      ]
     },
     "execution_count": 217,
     "metadata": {},
     "output_type": "execute_result"
    }
   ],
   "source": [
    "p.sample(20)"
   ]
  },
  {
   "cell_type": "code",
   "execution_count": 218,
   "id": "27e5f280-0056-4b67-9f2c-9db93e7b16a5",
   "metadata": {},
   "outputs": [
    {
     "data": {
      "text/plain": [
       "7452104.829999999"
      ]
     },
     "execution_count": 218,
     "metadata": {},
     "output_type": "execute_result"
    }
   ],
   "source": [
    "p.price.sum()"
   ]
  }
 ],
 "metadata": {
  "kernelspec": {
   "display_name": "Python 3",
   "language": "python",
   "name": "python3"
  },
  "language_info": {
   "codemirror_mode": {
    "name": "ipython",
    "version": 3
   },
   "file_extension": ".py",
   "mimetype": "text/x-python",
   "name": "python",
   "nbconvert_exporter": "python",
   "pygments_lexer": "ipython3",
   "version": "3.8.8"
  }
 },
 "nbformat": 4,
 "nbformat_minor": 5
}
