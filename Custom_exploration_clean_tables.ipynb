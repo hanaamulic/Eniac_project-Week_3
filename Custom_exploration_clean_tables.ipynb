{
 "cells": [
  {
   "cell_type": "markdown",
   "id": "bfb0bd69-4290-49dc-9f9d-d68cad097b20",
   "metadata": {
    "tags": []
   },
   "source": [
    "# Custom exploration of Eniac's database"
   ]
  },
  {
   "cell_type": "code",
   "execution_count": 7,
   "id": "b48b330d-102e-473a-8aa4-3b7a6db485c6",
   "metadata": {},
   "outputs": [],
   "source": [
    "import pandas as pd\n",
    "from Functions_module import check_table"
   ]
  },
  {
   "cell_type": "code",
   "execution_count": 4,
   "id": "5d47c7d4-85ea-494a-a335-a4443644c3dc",
   "metadata": {},
   "outputs": [],
   "source": [
    "orderlines_old = pd.read_csv('data/eniac/orderlines.csv')\n",
    "products_old = pd.read_csv('data/eniac/products.csv')\n",
    "orders_old = pd.read_csv('data/eniac/orders.csv')"
   ]
  },
  {
   "cell_type": "code",
   "execution_count": 5,
   "id": "51c74073-0501-415f-ab9e-cd4324fde5ab",
   "metadata": {},
   "outputs": [],
   "source": [
    "orderlines = pd.read_csv('data/eniac/orderlines_clean.csv')\n",
    "products = pd.read_csv('data/eniac/products_clean.csv')\n",
    "orders = pd.read_csv('data/eniac/orders_clean.csv')"
   ]
  },
  {
   "cell_type": "markdown",
   "id": "8527c5d6-9695-48e9-84c6-f9aa6f3dde36",
   "metadata": {},
   "source": [
    "# Orderlines info"
   ]
  },
  {
   "cell_type": "code",
   "execution_count": 8,
   "id": "97732a12-198d-426a-8baf-9dc1cd61abc7",
   "metadata": {},
   "outputs": [
    {
     "name": "stdout",
     "output_type": "stream",
     "text": [
      "Missing values:\n",
      "Unnamed: 0          0\n",
      "id                  0\n",
      "order_id            0\n",
      "product_quantity    0\n",
      "sku                 0\n",
      "unit_price          0\n",
      "date                0\n",
      "total_sum           0\n",
      "dtype: int64\n",
      "Duplicated rows:  0\n",
      "<class 'pandas.core.frame.DataFrame'>\n",
      "RangeIndex: 292854 entries, 0 to 292853\n",
      "Data columns (total 8 columns):\n",
      " #   Column            Non-Null Count   Dtype  \n",
      "---  ------            --------------   -----  \n",
      " 0   Unnamed: 0        292854 non-null  int64  \n",
      " 1   id                292854 non-null  int64  \n",
      " 2   order_id          292854 non-null  int64  \n",
      " 3   product_quantity  292854 non-null  int64  \n",
      " 4   sku               292854 non-null  object \n",
      " 5   unit_price        292854 non-null  float64\n",
      " 6   date              292854 non-null  object \n",
      " 7   total_sum         292854 non-null  float64\n",
      "dtypes: float64(2), int64(4), object(2)\n",
      "memory usage: 17.9+ MB\n"
     ]
    }
   ],
   "source": [
    "check_table(orderlines)"
   ]
  },
  {
   "cell_type": "code",
   "execution_count": 9,
   "id": "b26fbc84-7338-40d1-8ac2-053282ec1b56",
   "metadata": {},
   "outputs": [
    {
     "name": "stdout",
     "output_type": "stream",
     "text": [
      "Missing values:\n",
      "id                  0\n",
      "id_order            0\n",
      "product_id          0\n",
      "product_quantity    0\n",
      "sku                 0\n",
      "unit_price          0\n",
      "date                0\n",
      "dtype: int64\n",
      "Duplicated rows:  0\n",
      "<class 'pandas.core.frame.DataFrame'>\n",
      "RangeIndex: 293983 entries, 0 to 293982\n",
      "Data columns (total 7 columns):\n",
      " #   Column            Non-Null Count   Dtype \n",
      "---  ------            --------------   ----- \n",
      " 0   id                293983 non-null  int64 \n",
      " 1   id_order          293983 non-null  int64 \n",
      " 2   product_id        293983 non-null  int64 \n",
      " 3   product_quantity  293983 non-null  int64 \n",
      " 4   sku               293983 non-null  object\n",
      " 5   unit_price        293983 non-null  object\n",
      " 6   date              293983 non-null  object\n",
      "dtypes: int64(4), object(3)\n",
      "memory usage: 15.7+ MB\n"
     ]
    }
   ],
   "source": [
    "check_table(orderlines_old)"
   ]
  },
  {
   "cell_type": "markdown",
   "id": "198ec26e-78a1-4d43-a3af-f8482e6c5c24",
   "metadata": {
    "tags": []
   },
   "source": [
    "# Products info"
   ]
  },
  {
   "cell_type": "code",
   "execution_count": 10,
   "id": "0d75e8aa-ef3a-49a7-8d48-bbb382af56e7",
   "metadata": {
    "tags": []
   },
   "outputs": [
    {
     "name": "stdout",
     "output_type": "stream",
     "text": [
      "Missing values:\n",
      "Unnamed: 0     0\n",
      "sku            0\n",
      "name           0\n",
      "desc           0\n",
      "price          0\n",
      "promo_price    0\n",
      "dtype: int64\n",
      "Duplicated rows:  0\n",
      "<class 'pandas.core.frame.DataFrame'>\n",
      "RangeIndex: 10527 entries, 0 to 10526\n",
      "Data columns (total 6 columns):\n",
      " #   Column       Non-Null Count  Dtype  \n",
      "---  ------       --------------  -----  \n",
      " 0   Unnamed: 0   10527 non-null  int64  \n",
      " 1   sku          10527 non-null  object \n",
      " 2   name         10527 non-null  object \n",
      " 3   desc         10527 non-null  object \n",
      " 4   price        10527 non-null  float64\n",
      " 5   promo_price  10527 non-null  float64\n",
      "dtypes: float64(2), int64(1), object(3)\n",
      "memory usage: 493.6+ KB\n"
     ]
    }
   ],
   "source": [
    "check_table(products)"
   ]
  },
  {
   "cell_type": "code",
   "execution_count": 11,
   "id": "4d7ccafe-786c-4a12-8505-c898946acf1b",
   "metadata": {},
   "outputs": [
    {
     "name": "stdout",
     "output_type": "stream",
     "text": [
      "Missing values:\n",
      "sku             0\n",
      "name            0\n",
      "desc            7\n",
      "price          46\n",
      "promo_price     0\n",
      "in_stock        0\n",
      "type           50\n",
      "dtype: int64\n",
      "Duplicated rows:  8746\n",
      "<class 'pandas.core.frame.DataFrame'>\n",
      "RangeIndex: 19326 entries, 0 to 19325\n",
      "Data columns (total 7 columns):\n",
      " #   Column       Non-Null Count  Dtype \n",
      "---  ------       --------------  ----- \n",
      " 0   sku          19326 non-null  object\n",
      " 1   name         19326 non-null  object\n",
      " 2   desc         19319 non-null  object\n",
      " 3   price        19280 non-null  object\n",
      " 4   promo_price  19326 non-null  object\n",
      " 5   in_stock     19326 non-null  int64 \n",
      " 6   type         19276 non-null  object\n",
      "dtypes: int64(1), object(6)\n",
      "memory usage: 1.0+ MB\n"
     ]
    }
   ],
   "source": [
    "check_table(products_old)"
   ]
  },
  {
   "cell_type": "markdown",
   "id": "fb771269-cb84-4e2d-9cf4-bc13ba6f1087",
   "metadata": {},
   "source": [
    "## Orders info"
   ]
  },
  {
   "cell_type": "code",
   "execution_count": 12,
   "id": "e02ea159-84b9-40e9-a988-3a5d446974df",
   "metadata": {},
   "outputs": [
    {
     "name": "stdout",
     "output_type": "stream",
     "text": [
      "Missing values:\n",
      "Unnamed: 0      0\n",
      "Unnamed: 0.1    0\n",
      "order_id        0\n",
      "created_date    0\n",
      "total_paid      0\n",
      "state           0\n",
      "dtype: int64\n",
      "Duplicated rows:  0\n",
      "<class 'pandas.core.frame.DataFrame'>\n",
      "RangeIndex: 226424 entries, 0 to 226423\n",
      "Data columns (total 6 columns):\n",
      " #   Column        Non-Null Count   Dtype  \n",
      "---  ------        --------------   -----  \n",
      " 0   Unnamed: 0    226424 non-null  int64  \n",
      " 1   Unnamed: 0.1  226424 non-null  int64  \n",
      " 2   order_id      226424 non-null  int64  \n",
      " 3   created_date  226424 non-null  object \n",
      " 4   total_paid    226424 non-null  float64\n",
      " 5   state         226424 non-null  object \n",
      "dtypes: float64(1), int64(3), object(2)\n",
      "memory usage: 10.4+ MB\n"
     ]
    }
   ],
   "source": [
    "check_table(orders)"
   ]
  },
  {
   "cell_type": "code",
   "execution_count": 13,
   "id": "73fd2512-bf6e-4dd1-9a97-ff419d0f4433",
   "metadata": {},
   "outputs": [
    {
     "name": "stdout",
     "output_type": "stream",
     "text": [
      "Missing values:\n",
      "order_id        0\n",
      "created_date    0\n",
      "total_paid      5\n",
      "state           0\n",
      "dtype: int64\n",
      "Duplicated rows:  0\n",
      "<class 'pandas.core.frame.DataFrame'>\n",
      "RangeIndex: 226909 entries, 0 to 226908\n",
      "Data columns (total 4 columns):\n",
      " #   Column        Non-Null Count   Dtype  \n",
      "---  ------        --------------   -----  \n",
      " 0   order_id      226909 non-null  int64  \n",
      " 1   created_date  226909 non-null  object \n",
      " 2   total_paid    226904 non-null  float64\n",
      " 3   state         226909 non-null  object \n",
      "dtypes: float64(1), int64(1), object(2)\n",
      "memory usage: 6.9+ MB\n"
     ]
    }
   ],
   "source": [
    "check_table(orders_old)"
   ]
  },
  {
   "cell_type": "markdown",
   "id": "6e71ff38-fa0e-4707-80f2-82c19babb331",
   "metadata": {},
   "source": [
    "## How many orders are there?"
   ]
  },
  {
   "cell_type": "code",
   "execution_count": 8,
   "id": "7cc12eab-dcf3-4a05-81cb-442a0d6168ae",
   "metadata": {},
   "outputs": [
    {
     "data": {
      "text/plain": [
       "204855"
      ]
     },
     "execution_count": 8,
     "metadata": {},
     "output_type": "execute_result"
    }
   ],
   "source": [
    "orderlines.id_order.nunique()"
   ]
  },
  {
   "cell_type": "markdown",
   "id": "b3310ddc-c251-4963-90a8-1dc3a9f82a74",
   "metadata": {},
   "source": [
    "## How many products are there?"
   ]
  },
  {
   "cell_type": "code",
   "execution_count": 11,
   "id": "3d0a6661-9f94-4d06-9c7e-ae64d2032f86",
   "metadata": {},
   "outputs": [
    {
     "data": {
      "text/plain": [
       "10579"
      ]
     },
     "execution_count": 11,
     "metadata": {},
     "output_type": "execute_result"
    }
   ],
   "source": [
    "products.sku.nunique()"
   ]
  },
  {
   "cell_type": "markdown",
   "id": "6c77ce50-279c-49c4-9aeb-7030a035b8b5",
   "metadata": {},
   "source": [
    "## What period of time do these orders comprise?"
   ]
  },
  {
   "cell_type": "code",
   "execution_count": 18,
   "id": "7bd1b15d-07ac-4539-b14a-0f54d608a603",
   "metadata": {},
   "outputs": [
    {
     "data": {
      "text/plain": [
       "min    2017-01-01 00:07:19\n",
       "max    2018-03-14 13:58:36\n",
       "Name: created_date, dtype: object"
      ]
     },
     "execution_count": 18,
     "metadata": {},
     "output_type": "execute_result"
    }
   ],
   "source": [
    "orders.created_date.agg(['min', 'max'])"
   ]
  },
  {
   "cell_type": "markdown",
   "id": "e8e335ee-0e5d-42c0-9d15-dc9d1f0858c4",
   "metadata": {},
   "source": [
    "## How many orders are Completed?"
   ]
  },
  {
   "cell_type": "code",
   "execution_count": 19,
   "id": "e9073309-c1df-4811-ab9d-c0ee931ae5bf",
   "metadata": {},
   "outputs": [
    {
     "data": {
      "text/plain": [
       "array(['Cancelled', 'Completed', 'Pending', 'Shopping Basket',\n",
       "       'Place Order'], dtype=object)"
      ]
     },
     "execution_count": 19,
     "metadata": {},
     "output_type": "execute_result"
    }
   ],
   "source": [
    "orders.state.unique()"
   ]
  },
  {
   "cell_type": "code",
   "execution_count": 23,
   "id": "ff668034-f75b-47e6-90ec-b9bc3ce5344b",
   "metadata": {},
   "outputs": [
    {
     "data": {
      "text/plain": [
       "Completed    46605\n",
       "Name: state, dtype: int64"
      ]
     },
     "execution_count": 23,
     "metadata": {},
     "output_type": "execute_result"
    }
   ],
   "source": [
    "orders.loc[orders.state == 'Completed'].state.value_counts()"
   ]
  },
  {
   "cell_type": "markdown",
   "id": "ecf274de-8a7f-4906-9ee6-7adc97a4c6d7",
   "metadata": {},
   "source": [
    "## How should revenue be computed?"
   ]
  },
  {
   "cell_type": "markdown",
   "id": "6b8b4993-59da-40e9-a99d-df9f824acb1d",
   "metadata": {},
   "source": [
    "First, I have to convert 'unit_price' to Float"
   ]
  },
  {
   "cell_type": "code",
   "execution_count": 43,
   "id": "c20e4583-ba72-4646-99ea-4177bbcc4d58",
   "metadata": {},
   "outputs": [],
   "source": [
    "orderlines['unit_price'] = orderlines['unit_price'].str.rsplit('.',1).apply(lambda x : x[0]+ ',' + x[1])\n",
    "orderlines['unit_price'] = orderlines['unit_price'].str.replace('.','',regex=True)\n",
    "orderlines['unit_price'] = orderlines['unit_price'].str.replace(',','.',regex=True)\n",
    "orderlines['unit_price'] = orderlines['unit_price'].astype(float)"
   ]
  },
  {
   "cell_type": "markdown",
   "id": "dcbf3d8b-95ba-487f-8d37-bb50ca5a33dc",
   "metadata": {},
   "source": [
    "Revenue for entire database"
   ]
  },
  {
   "cell_type": "code",
   "execution_count": 44,
   "id": "9386bf1b-8792-460b-aa8e-d1b18987bc64",
   "metadata": {},
   "outputs": [
    {
     "data": {
      "text/plain": [
       "128776222.02999999"
      ]
     },
     "execution_count": 44,
     "metadata": {},
     "output_type": "execute_result"
    }
   ],
   "source": [
    "orderlines.assign(total_price = orderlines.unit_price * orderlines.product_quantity)['total_price'].sum()"
   ]
  },
  {
   "cell_type": "markdown",
   "id": "ddc143df-09e5-423c-adc7-684a31a565b1",
   "metadata": {},
   "source": [
    "To use date column as datetime:"
   ]
  },
  {
   "cell_type": "code",
   "execution_count": 49,
   "id": "ae38658a-d66d-48e4-9ab9-a8f83b2955cf",
   "metadata": {},
   "outputs": [],
   "source": [
    "orderlines['date'] = pd.to_datetime(orderlines['date'])"
   ]
  },
  {
   "cell_type": "markdown",
   "id": "515ce42b-4db0-4161-a5ad-d5076e7b72b2",
   "metadata": {},
   "source": [
    "Revenue for each year:"
   ]
  },
  {
   "cell_type": "code",
   "execution_count": 52,
   "id": "0de5df76-1dd4-4514-b0b8-3bf7978307cc",
   "metadata": {},
   "outputs": [
    {
     "data": {
      "text/html": [
       "<div>\n",
       "<style scoped>\n",
       "    .dataframe tbody tr th:only-of-type {\n",
       "        vertical-align: middle;\n",
       "    }\n",
       "\n",
       "    .dataframe tbody tr th {\n",
       "        vertical-align: top;\n",
       "    }\n",
       "\n",
       "    .dataframe thead th {\n",
       "        text-align: right;\n",
       "    }\n",
       "</style>\n",
       "<table border=\"1\" class=\"dataframe\">\n",
       "  <thead>\n",
       "    <tr style=\"text-align: right;\">\n",
       "      <th></th>\n",
       "      <th>id</th>\n",
       "      <th>id_order</th>\n",
       "      <th>product_id</th>\n",
       "      <th>product_quantity</th>\n",
       "      <th>unit_price</th>\n",
       "      <th>total_price</th>\n",
       "    </tr>\n",
       "    <tr>\n",
       "      <th>year</th>\n",
       "      <th></th>\n",
       "      <th></th>\n",
       "      <th></th>\n",
       "      <th></th>\n",
       "      <th></th>\n",
       "      <th></th>\n",
       "    </tr>\n",
       "  </thead>\n",
       "  <tbody>\n",
       "    <tr>\n",
       "      <th>2017</th>\n",
       "      <td>292571254920</td>\n",
       "      <td>86093077640</td>\n",
       "      <td>0</td>\n",
       "      <td>248816</td>\n",
       "      <td>83522983.71</td>\n",
       "      <td>90144159.46</td>\n",
       "    </tr>\n",
       "    <tr>\n",
       "      <th>2018</th>\n",
       "      <td>118392903252</td>\n",
       "      <td>37379522639</td>\n",
       "      <td>0</td>\n",
       "      <td>80776</td>\n",
       "      <td>36967475.10</td>\n",
       "      <td>38632062.57</td>\n",
       "    </tr>\n",
       "  </tbody>\n",
       "</table>\n",
       "</div>"
      ],
      "text/plain": [
       "                id     id_order  product_id  product_quantity   unit_price  \\\n",
       "year                                                                         \n",
       "2017  292571254920  86093077640           0            248816  83522983.71   \n",
       "2018  118392903252  37379522639           0             80776  36967475.10   \n",
       "\n",
       "      total_price  \n",
       "year               \n",
       "2017  90144159.46  \n",
       "2018  38632062.57  "
      ]
     },
     "execution_count": 52,
     "metadata": {},
     "output_type": "execute_result"
    }
   ],
   "source": [
    "orderlines.assign(total_price = orderlines.unit_price * orderlines.product_quantity, year = orderlines.date.dt.strftime('%Y')).groupby('year').agg('sum')"
   ]
  },
  {
   "cell_type": "code",
   "execution_count": null,
   "id": "735bd52d-4beb-4e79-93ea-b0bbdc3f9ac1",
   "metadata": {},
   "outputs": [],
   "source": []
  },
  {
   "cell_type": "code",
   "execution_count": 196,
   "id": "23e3674c-6d9c-400b-ab15-39798ffd80a8",
   "metadata": {},
   "outputs": [],
   "source": [
    "new= (\n",
    "products\n",
    "    .assign(length = lambda x: x['price'].str.len())\n",
    ")"
   ]
  },
  {
   "cell_type": "code",
   "execution_count": 197,
   "id": "67b219a8-25cd-4244-9fc3-383413d04b18",
   "metadata": {
    "tags": []
   },
   "outputs": [],
   "source": [
    "new =(\n",
    "new\n",
    "    .query('length >= 5')\n",
    "    .assign(check_dot = lambda x: x['price'].str[-4] == '.')\n",
    "    .query('check_dot == True')\n",
    "    \n",
    ")"
   ]
  },
  {
   "cell_type": "code",
   "execution_count": 194,
   "id": "10aa8f10-4f55-45cf-a357-9d9314fd11cd",
   "metadata": {},
   "outputs": [
    {
     "data": {
      "text/html": [
       "<div>\n",
       "<style scoped>\n",
       "    .dataframe tbody tr th:only-of-type {\n",
       "        vertical-align: middle;\n",
       "    }\n",
       "\n",
       "    .dataframe tbody tr th {\n",
       "        vertical-align: top;\n",
       "    }\n",
       "\n",
       "    .dataframe thead th {\n",
       "        text-align: right;\n",
       "    }\n",
       "</style>\n",
       "<table border=\"1\" class=\"dataframe\">\n",
       "  <thead>\n",
       "    <tr style=\"text-align: right;\">\n",
       "      <th></th>\n",
       "      <th>sku</th>\n",
       "      <th>name</th>\n",
       "      <th>desc</th>\n",
       "      <th>price</th>\n",
       "      <th>promo_price</th>\n",
       "      <th>in_stock</th>\n",
       "      <th>type</th>\n",
       "      <th>length</th>\n",
       "      <th>check_dot</th>\n",
       "    </tr>\n",
       "  </thead>\n",
       "  <tbody>\n",
       "    <tr>\n",
       "      <th>1057</th>\n",
       "      <td>MOP0057</td>\n",
       "      <td>Mophie Space Pack Battery Case (1700mAh) and S...</td>\n",
       "      <td>Housing with battery and 16GB external storage...</td>\n",
       "      <td>1.329.911</td>\n",
       "      <td>1.329.911</td>\n",
       "      <td>0</td>\n",
       "      <td>5,49E+11</td>\n",
       "      <td>9.0</td>\n",
       "      <td>True</td>\n",
       "    </tr>\n",
       "    <tr>\n",
       "      <th>15407</th>\n",
       "      <td>REP0296</td>\n",
       "      <td>iPhone battery repair</td>\n",
       "      <td>Repair service including parts and labor for i...</td>\n",
       "      <td>483.879</td>\n",
       "      <td>483.879</td>\n",
       "      <td>0</td>\n",
       "      <td>1,44E+11</td>\n",
       "      <td>7.0</td>\n",
       "      <td>True</td>\n",
       "    </tr>\n",
       "    <tr>\n",
       "      <th>1459</th>\n",
       "      <td>PAC0562</td>\n",
       "      <td>Kingston V300 SSD expansion kit for Mac mini 1...</td>\n",
       "      <td>SSD upgrade kit for Mac mini 120GB 2011 Late 2...</td>\n",
       "      <td>1.169.795</td>\n",
       "      <td>1.065.841</td>\n",
       "      <td>0</td>\n",
       "      <td>1433</td>\n",
       "      <td>9.0</td>\n",
       "      <td>True</td>\n",
       "    </tr>\n",
       "    <tr>\n",
       "      <th>11933</th>\n",
       "      <td>SAN0097</td>\n",
       "      <td>SanDisk Ultra Fit 128GB USB 3.0 Flash Drive</td>\n",
       "      <td>Ultra compact flash drive USB 3.0 128GB Mac an...</td>\n",
       "      <td>349.932</td>\n",
       "      <td>349.932</td>\n",
       "      <td>0</td>\n",
       "      <td>57445397</td>\n",
       "      <td>7.0</td>\n",
       "      <td>True</td>\n",
       "    </tr>\n",
       "    <tr>\n",
       "      <th>898</th>\n",
       "      <td>REP0156</td>\n",
       "      <td>iPhone 5 GSM antenna repair</td>\n",
       "      <td>Repair service including parts and labor for i...</td>\n",
       "      <td>69.989.909</td>\n",
       "      <td>699.899</td>\n",
       "      <td>0</td>\n",
       "      <td>1,44E+11</td>\n",
       "      <td>10.0</td>\n",
       "      <td>True</td>\n",
       "    </tr>\n",
       "    <tr>\n",
       "      <th>14525</th>\n",
       "      <td>QNA0183</td>\n",
       "      <td>QNAP TVS-871U-RP NAS server i3 4GB RAM</td>\n",
       "      <td>Rail format NAS 8 bays 4 Ethernet ports (10GbE...</td>\n",
       "      <td>21.759.902</td>\n",
       "      <td>21.759.902</td>\n",
       "      <td>0</td>\n",
       "      <td>12175397</td>\n",
       "      <td>10.0</td>\n",
       "      <td>True</td>\n",
       "    </tr>\n",
       "    <tr>\n",
       "      <th>15992</th>\n",
       "      <td>PAC1983</td>\n",
       "      <td>Synology DS1817 + | 16GB RAM | 64TB (8x8TB) Se...</td>\n",
       "      <td>NAS with 16GB of RAM and 64TB for Mac and PC</td>\n",
       "      <td>40.377.892</td>\n",
       "      <td>2.905.746</td>\n",
       "      <td>0</td>\n",
       "      <td>12175397</td>\n",
       "      <td>10.0</td>\n",
       "      <td>True</td>\n",
       "    </tr>\n",
       "    <tr>\n",
       "      <th>12868</th>\n",
       "      <td>PAC2025</td>\n",
       "      <td>Synology DS216 + II | 2GB RAM</td>\n",
       "      <td>NAS with 4K transcoding and direct copy button...</td>\n",
       "      <td>3.739.696</td>\n",
       "      <td>3.861.788</td>\n",
       "      <td>0</td>\n",
       "      <td>12175397</td>\n",
       "      <td>9.0</td>\n",
       "      <td>True</td>\n",
       "    </tr>\n",
       "    <tr>\n",
       "      <th>15646</th>\n",
       "      <td>PIE0017</td>\n",
       "      <td>Piece Original SIM tray iPhone 3G / 3GS Black</td>\n",
       "      <td>original piece of SIM card tray for iPhone 3G ...</td>\n",
       "      <td>69.938</td>\n",
       "      <td>69.938</td>\n",
       "      <td>0</td>\n",
       "      <td>21485407</td>\n",
       "      <td>6.0</td>\n",
       "      <td>True</td>\n",
       "    </tr>\n",
       "    <tr>\n",
       "      <th>15439</th>\n",
       "      <td>REP0382</td>\n",
       "      <td>Home button repair iPad Mini 3</td>\n",
       "      <td>Repair service including parts and labor for i...</td>\n",
       "      <td>6.999.003</td>\n",
       "      <td>69.99</td>\n",
       "      <td>0</td>\n",
       "      <td>1,44E+11</td>\n",
       "      <td>9.0</td>\n",
       "      <td>True</td>\n",
       "    </tr>\n",
       "    <tr>\n",
       "      <th>540</th>\n",
       "      <td>SEV0032</td>\n",
       "      <td>Budget Request repair Apple Mac Pro</td>\n",
       "      <td>Diagnosis to repair Mac Pro.</td>\n",
       "      <td>199.892</td>\n",
       "      <td>199.892</td>\n",
       "      <td>0</td>\n",
       "      <td>1,46E+11</td>\n",
       "      <td>7.0</td>\n",
       "      <td>True</td>\n",
       "    </tr>\n",
       "    <tr>\n",
       "      <th>19044</th>\n",
       "      <td>NOM0016-A</td>\n",
       "      <td>Open - Nomad iPhone Leather Case Cover 7 Brown...</td>\n",
       "      <td>Leather case high quality microfiber interior ...</td>\n",
       "      <td>399.905</td>\n",
       "      <td>273.333</td>\n",
       "      <td>0</td>\n",
       "      <td>11865403</td>\n",
       "      <td>7.0</td>\n",
       "      <td>True</td>\n",
       "    </tr>\n",
       "    <tr>\n",
       "      <th>15979</th>\n",
       "      <td>PAC1970</td>\n",
       "      <td>Synology DS1817 + | 8GB RAM | 48TB (8x6TB) Sea...</td>\n",
       "      <td>NAS with 8GB RAM and 48TB for Mac and PC</td>\n",
       "      <td>33.317.885</td>\n",
       "      <td>25.747.457</td>\n",
       "      <td>0</td>\n",
       "      <td>12175397</td>\n",
       "      <td>10.0</td>\n",
       "      <td>True</td>\n",
       "    </tr>\n",
       "    <tr>\n",
       "      <th>12886</th>\n",
       "      <td>PAC2043</td>\n",
       "      <td>Synology DS216 + II | Seagate 4TB IronWolf for...</td>\n",
       "      <td>Synology DS216 + II with 8GB of RAM and 20TB (...</td>\n",
       "      <td>17.079.496</td>\n",
       "      <td>12.311.786</td>\n",
       "      <td>0</td>\n",
       "      <td>12175397</td>\n",
       "      <td>10.0</td>\n",
       "      <td>True</td>\n",
       "    </tr>\n",
       "    <tr>\n",
       "      <th>14932</th>\n",
       "      <td>PAC1883</td>\n",
       "      <td>Enlargement Kit 2TB SSD Crucial MX300 + RAM + ...</td>\n",
       "      <td>SSD upgrade kit 2TB + RAM + 8GB 1066Mhz Datado...</td>\n",
       "      <td>796.518</td>\n",
       "      <td>6.485.842</td>\n",
       "      <td>0</td>\n",
       "      <td>1433</td>\n",
       "      <td>7.0</td>\n",
       "      <td>True</td>\n",
       "    </tr>\n",
       "    <tr>\n",
       "      <th>538</th>\n",
       "      <td>SEV0030</td>\n",
       "      <td>Apple iMac repair Budget Request</td>\n",
       "      <td>diagnosis to repair iMac.</td>\n",
       "      <td>199.892</td>\n",
       "      <td>199.892</td>\n",
       "      <td>0</td>\n",
       "      <td>1,46E+11</td>\n",
       "      <td>7.0</td>\n",
       "      <td>True</td>\n",
       "    </tr>\n",
       "    <tr>\n",
       "      <th>16828</th>\n",
       "      <td>APP2301</td>\n",
       "      <td>Apple MacBook Pro 13 \"Core i5 Touch Bar 31GHz ...</td>\n",
       "      <td>New MacBook Pro 13 inch Touch Bar 31 GHz Core ...</td>\n",
       "      <td>300.559.402</td>\n",
       "      <td>3.005.594</td>\n",
       "      <td>0</td>\n",
       "      <td>1,02E+12</td>\n",
       "      <td>11.0</td>\n",
       "      <td>True</td>\n",
       "    </tr>\n",
       "    <tr>\n",
       "      <th>11868</th>\n",
       "      <td>WAC0121-A</td>\n",
       "      <td>(Open) Wacom Bamboo Stylus Pack 3 points Solo ...</td>\n",
       "      <td>Replacement tips for Wacom Bamboo Stylus.</td>\n",
       "      <td>49.005</td>\n",
       "      <td>38.167</td>\n",
       "      <td>0</td>\n",
       "      <td>1298</td>\n",
       "      <td>6.0</td>\n",
       "      <td>True</td>\n",
       "    </tr>\n",
       "    <tr>\n",
       "      <th>15518</th>\n",
       "      <td>REP0392</td>\n",
       "      <td>LCD screen repair iPad Air</td>\n",
       "      <td>Repair service including parts and labor for i...</td>\n",
       "      <td>1.499.904</td>\n",
       "      <td>1.499.904</td>\n",
       "      <td>0</td>\n",
       "      <td>1,44E+11</td>\n",
       "      <td>9.0</td>\n",
       "      <td>True</td>\n",
       "    </tr>\n",
       "    <tr>\n",
       "      <th>12316</th>\n",
       "      <td>KIN0127</td>\n",
       "      <td>Kingston 32GB Micro SDHC Class 10 45MB / s</td>\n",
       "      <td>32GB micro SDHC card with adapter</td>\n",
       "      <td>1.099.043</td>\n",
       "      <td>109.904</td>\n",
       "      <td>0</td>\n",
       "      <td>57445397</td>\n",
       "      <td>9.0</td>\n",
       "      <td>True</td>\n",
       "    </tr>\n",
       "  </tbody>\n",
       "</table>\n",
       "</div>"
      ],
      "text/plain": [
       "             sku                                               name  \\\n",
       "1057     MOP0057  Mophie Space Pack Battery Case (1700mAh) and S...   \n",
       "15407    REP0296                              iPhone battery repair   \n",
       "1459     PAC0562  Kingston V300 SSD expansion kit for Mac mini 1...   \n",
       "11933    SAN0097        SanDisk Ultra Fit 128GB USB 3.0 Flash Drive   \n",
       "898      REP0156                        iPhone 5 GSM antenna repair   \n",
       "14525    QNA0183             QNAP TVS-871U-RP NAS server i3 4GB RAM   \n",
       "15992    PAC1983  Synology DS1817 + | 16GB RAM | 64TB (8x8TB) Se...   \n",
       "12868    PAC2025                      Synology DS216 + II | 2GB RAM   \n",
       "15646    PIE0017      Piece Original SIM tray iPhone 3G / 3GS Black   \n",
       "15439    REP0382                     Home button repair iPad Mini 3   \n",
       "540      SEV0032                Budget Request repair Apple Mac Pro   \n",
       "19044  NOM0016-A  Open - Nomad iPhone Leather Case Cover 7 Brown...   \n",
       "15979    PAC1970  Synology DS1817 + | 8GB RAM | 48TB (8x6TB) Sea...   \n",
       "12886    PAC2043  Synology DS216 + II | Seagate 4TB IronWolf for...   \n",
       "14932    PAC1883  Enlargement Kit 2TB SSD Crucial MX300 + RAM + ...   \n",
       "538      SEV0030                   Apple iMac repair Budget Request   \n",
       "16828    APP2301  Apple MacBook Pro 13 \"Core i5 Touch Bar 31GHz ...   \n",
       "11868  WAC0121-A  (Open) Wacom Bamboo Stylus Pack 3 points Solo ...   \n",
       "15518    REP0392                         LCD screen repair iPad Air   \n",
       "12316    KIN0127         Kingston 32GB Micro SDHC Class 10 45MB / s   \n",
       "\n",
       "                                                    desc        price  \\\n",
       "1057   Housing with battery and 16GB external storage...    1.329.911   \n",
       "15407  Repair service including parts and labor for i...      483.879   \n",
       "1459   SSD upgrade kit for Mac mini 120GB 2011 Late 2...    1.169.795   \n",
       "11933  Ultra compact flash drive USB 3.0 128GB Mac an...      349.932   \n",
       "898    Repair service including parts and labor for i...   69.989.909   \n",
       "14525  Rail format NAS 8 bays 4 Ethernet ports (10GbE...   21.759.902   \n",
       "15992       NAS with 16GB of RAM and 64TB for Mac and PC   40.377.892   \n",
       "12868  NAS with 4K transcoding and direct copy button...    3.739.696   \n",
       "15646  original piece of SIM card tray for iPhone 3G ...       69.938   \n",
       "15439  Repair service including parts and labor for i...    6.999.003   \n",
       "540                         Diagnosis to repair Mac Pro.      199.892   \n",
       "19044  Leather case high quality microfiber interior ...      399.905   \n",
       "15979           NAS with 8GB RAM and 48TB for Mac and PC   33.317.885   \n",
       "12886  Synology DS216 + II with 8GB of RAM and 20TB (...   17.079.496   \n",
       "14932  SSD upgrade kit 2TB + RAM + 8GB 1066Mhz Datado...      796.518   \n",
       "538                            diagnosis to repair iMac.      199.892   \n",
       "16828  New MacBook Pro 13 inch Touch Bar 31 GHz Core ...  300.559.402   \n",
       "11868          Replacement tips for Wacom Bamboo Stylus.       49.005   \n",
       "15518  Repair service including parts and labor for i...    1.499.904   \n",
       "12316                  32GB micro SDHC card with adapter    1.099.043   \n",
       "\n",
       "      promo_price  in_stock      type  length  check_dot  \n",
       "1057    1.329.911         0  5,49E+11     9.0       True  \n",
       "15407     483.879         0  1,44E+11     7.0       True  \n",
       "1459    1.065.841         0      1433     9.0       True  \n",
       "11933     349.932         0  57445397     7.0       True  \n",
       "898       699.899         0  1,44E+11    10.0       True  \n",
       "14525  21.759.902         0  12175397    10.0       True  \n",
       "15992   2.905.746         0  12175397    10.0       True  \n",
       "12868   3.861.788         0  12175397     9.0       True  \n",
       "15646      69.938         0  21485407     6.0       True  \n",
       "15439       69.99         0  1,44E+11     9.0       True  \n",
       "540       199.892         0  1,46E+11     7.0       True  \n",
       "19044     273.333         0  11865403     7.0       True  \n",
       "15979  25.747.457         0  12175397    10.0       True  \n",
       "12886  12.311.786         0  12175397    10.0       True  \n",
       "14932   6.485.842         0      1433     7.0       True  \n",
       "538       199.892         0  1,46E+11     7.0       True  \n",
       "16828   3.005.594         0  1,02E+12    11.0       True  \n",
       "11868      38.167         0      1298     6.0       True  \n",
       "15518   1.499.904         0  1,44E+11     9.0       True  \n",
       "12316     109.904         0  57445397     9.0       True  "
      ]
     },
     "execution_count": 194,
     "metadata": {},
     "output_type": "execute_result"
    }
   ],
   "source": [
    "new.sample(20)"
   ]
  }
 ],
 "metadata": {
  "kernelspec": {
   "display_name": "Python 3",
   "language": "python",
   "name": "python3"
  },
  "language_info": {
   "codemirror_mode": {
    "name": "ipython",
    "version": 3
   },
   "file_extension": ".py",
   "mimetype": "text/x-python",
   "name": "python",
   "nbconvert_exporter": "python",
   "pygments_lexer": "ipython3",
   "version": "3.8.8"
  }
 },
 "nbformat": 4,
 "nbformat_minor": 5
}
