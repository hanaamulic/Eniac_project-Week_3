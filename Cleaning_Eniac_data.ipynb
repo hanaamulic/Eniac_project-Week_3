{
 "cells": [
  {
   "cell_type": "markdown",
   "id": "dfb00a1a-e187-499b-8533-a057e548612a",
   "metadata": {},
   "source": [
    "# Eniac data cleaning"
   ]
  },
  {
   "cell_type": "code",
   "execution_count": 1,
   "id": "83e32e64-2317-4258-ab12-06cd4d874857",
   "metadata": {},
   "outputs": [],
   "source": [
    "import pandas as pd\n",
    "from functools import wraps\n",
    "import datetime as dt\n",
    "from Functions_module import *"
   ]
  },
  {
   "cell_type": "code",
   "execution_count": 2,
   "id": "d1f0bff5-0a30-4f98-87ae-b59bce9c57a4",
   "metadata": {},
   "outputs": [],
   "source": [
    "orderlines = pd.read_csv('data/eniac/orderlines.csv')\n",
    "products = pd.read_csv('data/eniac/products.csv')\n",
    "orders = pd.read_csv('data/eniac/orders.csv')"
   ]
  },
  {
   "cell_type": "markdown",
   "id": "34854a2e-e6f9-4da0-bac8-6541410e08f9",
   "metadata": {
    "tags": []
   },
   "source": [
    "## Products info"
   ]
  },
  {
   "cell_type": "code",
   "execution_count": 3,
   "id": "c189e065-1cf6-4451-b11f-b6f86c2e1897",
   "metadata": {
    "tags": []
   },
   "outputs": [
    {
     "name": "stdout",
     "output_type": "stream",
     "text": [
      "Missing values:\n",
      "sku             0\n",
      "name            0\n",
      "desc            7\n",
      "price          46\n",
      "promo_price     0\n",
      "in_stock        0\n",
      "type           50\n",
      "dtype: int64\n",
      "Duplicated rows:  8746\n",
      "<class 'pandas.core.frame.DataFrame'>\n",
      "RangeIndex: 19326 entries, 0 to 19325\n",
      "Data columns (total 7 columns):\n",
      " #   Column       Non-Null Count  Dtype \n",
      "---  ------       --------------  ----- \n",
      " 0   sku          19326 non-null  object\n",
      " 1   name         19326 non-null  object\n",
      " 2   desc         19319 non-null  object\n",
      " 3   price        19280 non-null  object\n",
      " 4   promo_price  19326 non-null  object\n",
      " 5   in_stock     19326 non-null  int64 \n",
      " 6   type         19276 non-null  object\n",
      "dtypes: int64(1), object(6)\n",
      "memory usage: 1.0+ MB\n"
     ]
    }
   ],
   "source": [
    "check_table(products)"
   ]
  },
  {
   "cell_type": "markdown",
   "id": "85762f71-4b0a-4422-9ad5-2fcccbadf892",
   "metadata": {},
   "source": [
    "### Dropping columns"
   ]
  },
  {
   "cell_type": "markdown",
   "id": "05a6628b-fd88-4159-8673-b2b357e352eb",
   "metadata": {},
   "source": [
    "I have decided that for my future analisys I don't need columns 'in_stock' and 'type'. I am passing list of colums as an argument"
   ]
  },
  {
   "cell_type": "code",
   "execution_count": 4,
   "id": "2ac53796-b1fc-46bd-ba72-4e72e65607ea",
   "metadata": {},
   "outputs": [],
   "source": [
    "columns_to_drop = ['in_stock','type']"
   ]
  },
  {
   "cell_type": "markdown",
   "id": "25bfcbf8-ffcd-4c86-9314-aa0ed1d61b6e",
   "metadata": {},
   "source": [
    "### Dealing with NaN values"
   ]
  },
  {
   "cell_type": "markdown",
   "id": "95e373b2-c971-452e-ae29-c1458799a763",
   "metadata": {
    "tags": []
   },
   "source": [
    "I have decided to exclude all rows that have NaN value in 'price' and 'desc' column since there are very few of them. I have forwarded function called select_nonNan_rows to pipeline."
   ]
  },
  {
   "cell_type": "code",
   "execution_count": 5,
   "id": "9e1610dc-ff3f-4b79-91e8-9e47d1f09fff",
   "metadata": {},
   "outputs": [],
   "source": [
    "columns_where_NaNs_are = ['price','desc']"
   ]
  },
  {
   "cell_type": "markdown",
   "id": "3129bd15-61a4-4d31-b5aa-63fc8ff008ec",
   "metadata": {},
   "source": [
    "### Losing duplicates"
   ]
  },
  {
   "cell_type": "markdown",
   "id": "8a5ffb69-97ac-4b19-b6c4-336bf36f7ccc",
   "metadata": {},
   "source": [
    "I have decided to lose all rows that have duplicate 'sku' value."
   ]
  },
  {
   "cell_type": "code",
   "execution_count": 6,
   "id": "e87b2416-5f15-4d59-ad7a-2a08648403bf",
   "metadata": {},
   "outputs": [],
   "source": [
    "columns_arg_for_duplicates_drop = ['sku']"
   ]
  },
  {
   "cell_type": "markdown",
   "id": "5c265c93-4613-48c0-b713-2257e9c112ca",
   "metadata": {},
   "source": [
    "### Changing types "
   ]
  },
  {
   "cell_type": "markdown",
   "id": "626f95c3-6cb6-4dfa-883c-c4da8f9e667b",
   "metadata": {
    "tags": []
   },
   "source": [
    "I have to change types of 'price' and 'promo_price' from object to float"
   ]
  },
  {
   "cell_type": "markdown",
   "id": "23ac69c3-8ae5-4fea-90f5-44e1f5619399",
   "metadata": {},
   "source": [
    "It seems like price and promo price had some problems with decimals, decimal spaces...so I have created clean_promo_price and clean_price functions that clean those. After that I was able to change types to float."
   ]
  },
  {
   "cell_type": "markdown",
   "id": "8ea791d6-9b05-4e7f-90a6-e053ff18941d",
   "metadata": {},
   "source": [
    "## Pipeline"
   ]
  },
  {
   "cell_type": "code",
   "execution_count": 7,
   "id": "e86077ad-192b-41c3-b2ce-29cef1a305d7",
   "metadata": {},
   "outputs": [
    {
     "name": "stdout",
     "output_type": "stream",
     "text": [
      "just ran step start_pipeline shape=(19326, 7) took 0:00:00.002980s\n",
      "just ran step drop_columns shape=(19326, 5) took 0:00:00.005986s\n",
      "just ran step select_notNan_rows shape=(19273, 5) took 0:00:00.013970s\n",
      "just ran step drop_duplicates_custom shape=(10527, 5) took 0:00:00.008977s\n",
      "just ran step clean_prices shape=(10527, 5) took 0:00:00.074923s\n"
     ]
    }
   ],
   "source": [
    "p = (products\n",
    "     .pipe(start_pipeline)\n",
    "     .pipe(drop_columns,columns_to_drop)\n",
    "     .pipe(select_notNan_rows,columns_where_NaNs_are)\n",
    "     .pipe(drop_duplicates_custom,columns_arg_for_duplicates_drop)\n",
    "     .pipe(clean_prices,['price','promo_price'])\n",
    ")"
   ]
  },
  {
   "cell_type": "code",
   "execution_count": 8,
   "id": "9e23c4f8-e553-4777-9f64-a1f1e1ab7099",
   "metadata": {},
   "outputs": [
    {
     "name": "stdout",
     "output_type": "stream",
     "text": [
      "Missing values:\n",
      "sku            0\n",
      "name           0\n",
      "desc           0\n",
      "price          0\n",
      "promo_price    0\n",
      "dtype: int64\n",
      "Duplicated rows:  0\n",
      "<class 'pandas.core.frame.DataFrame'>\n",
      "Int64Index: 10527 entries, 0 to 19325\n",
      "Data columns (total 5 columns):\n",
      " #   Column       Non-Null Count  Dtype  \n",
      "---  ------       --------------  -----  \n",
      " 0   sku          10527 non-null  object \n",
      " 1   name         10527 non-null  object \n",
      " 2   desc         10527 non-null  object \n",
      " 3   price        10527 non-null  float64\n",
      " 4   promo_price  10527 non-null  float64\n",
      "dtypes: float64(2), object(3)\n",
      "memory usage: 493.5+ KB\n"
     ]
    }
   ],
   "source": [
    "check_table(p)"
   ]
  },
  {
   "cell_type": "code",
   "execution_count": 9,
   "id": "f0a27d3e-337a-4f08-b811-bc4f9832e9ee",
   "metadata": {},
   "outputs": [
    {
     "data": {
      "text/html": [
       "<div>\n",
       "<style scoped>\n",
       "    .dataframe tbody tr th:only-of-type {\n",
       "        vertical-align: middle;\n",
       "    }\n",
       "\n",
       "    .dataframe tbody tr th {\n",
       "        vertical-align: top;\n",
       "    }\n",
       "\n",
       "    .dataframe thead th {\n",
       "        text-align: right;\n",
       "    }\n",
       "</style>\n",
       "<table border=\"1\" class=\"dataframe\">\n",
       "  <thead>\n",
       "    <tr style=\"text-align: right;\">\n",
       "      <th></th>\n",
       "      <th>sku</th>\n",
       "      <th>name</th>\n",
       "      <th>desc</th>\n",
       "      <th>price</th>\n",
       "      <th>promo_price</th>\n",
       "    </tr>\n",
       "  </thead>\n",
       "  <tbody>\n",
       "    <tr>\n",
       "      <th>17985</th>\n",
       "      <td>APP2543</td>\n",
       "      <td>Apple iPhone Gold Lightning Dock</td>\n",
       "      <td>Stand with Lightning Dock Connector and iPhone.</td>\n",
       "      <td>59.00</td>\n",
       "      <td>56.0000</td>\n",
       "    </tr>\n",
       "    <tr>\n",
       "      <th>18456</th>\n",
       "      <td>APP2687</td>\n",
       "      <td>Apple iMac Pro 27 \"14-core Intel Xeon W 25GHz ...</td>\n",
       "      <td>Pro iMac 27 inch screen Retina 5K and Intel Xe...</td>\n",
       "      <td>8379.00</td>\n",
       "      <td>787.6005</td>\n",
       "    </tr>\n",
       "    <tr>\n",
       "      <th>14584</th>\n",
       "      <td>SAT0017</td>\n",
       "      <td>Sonic Dual Conical Satechi Mac v2.0 Speakers W...</td>\n",
       "      <td>Speakers matte finish sleek design and volume ...</td>\n",
       "      <td>39.99</td>\n",
       "      <td>24.9901</td>\n",
       "    </tr>\n",
       "    <tr>\n",
       "      <th>2297</th>\n",
       "      <td>TRA0025</td>\n",
       "      <td>Transcend JetDrive expansion SSD 720 960GB Mac...</td>\n",
       "      <td>960GB SSD expansion for Macbook Pro Retina 13-...</td>\n",
       "      <td>815.00</td>\n",
       "      <td>728.5834</td>\n",
       "    </tr>\n",
       "    <tr>\n",
       "      <th>16952</th>\n",
       "      <td>CRU0015-2-A</td>\n",
       "      <td>Open - Crucial Mac Memory 16GB (2x8GB) DDR3 16...</td>\n",
       "      <td>RAM 16GB (2x8GB) 135V MacBook Pro iMac (2012/2...</td>\n",
       "      <td>149.98</td>\n",
       "      <td>148.9897</td>\n",
       "    </tr>\n",
       "    <tr>\n",
       "      <th>13599</th>\n",
       "      <td>WAC0178-A</td>\n",
       "      <td>(Open) Wacom Bamboo Stylus Black Alpha 2</td>\n",
       "      <td>Intelligent digital pen with rubber tip for iP...</td>\n",
       "      <td>14.90</td>\n",
       "      <td>9.2183</td>\n",
       "    </tr>\n",
       "    <tr>\n",
       "      <th>14938</th>\n",
       "      <td>PAC1889</td>\n",
       "      <td>Kit Crucial MX300 525GB SSD expansion for Mac ...</td>\n",
       "      <td>SSD upgrade kit for Mac mini 525GB Mid 2011 to...</td>\n",
       "      <td>213.65</td>\n",
       "      <td>183.5848</td>\n",
       "    </tr>\n",
       "    <tr>\n",
       "      <th>18098</th>\n",
       "      <td>PAC2463</td>\n",
       "      <td>DS218play Synology NAS Server | 6TB (2x3TB) Se...</td>\n",
       "      <td>2-bay NAS server can accommodate 4K Ultra HD f...</td>\n",
       "      <td>520.97</td>\n",
       "      <td>433.1788</td>\n",
       "    </tr>\n",
       "    <tr>\n",
       "      <th>16196</th>\n",
       "      <td>PAC2081</td>\n",
       "      <td>Apple iMac 27 \"Core i7 42GHz 5K Retina | 16GB ...</td>\n",
       "      <td>IMac desktop computer 27 inch Retina 5K RAM 16...</td>\n",
       "      <td>3085.59</td>\n",
       "      <td>2825.0045</td>\n",
       "    </tr>\n",
       "    <tr>\n",
       "      <th>15875</th>\n",
       "      <td>ALL0010</td>\n",
       "      <td>PowerCube Original USB Regleta Allocacoc wall ...</td>\n",
       "      <td>Wall socket cube-shaped with 4 to 250V electri...</td>\n",
       "      <td>18.95</td>\n",
       "      <td>14.9895</td>\n",
       "    </tr>\n",
       "    <tr>\n",
       "      <th>18774</th>\n",
       "      <td>DJI0013-A</td>\n",
       "      <td>Open - DJI OSMO Mobile</td>\n",
       "      <td>Image Stabilizer refurbished laptop Osmo DJI. ...</td>\n",
       "      <td>339.95</td>\n",
       "      <td>239.0004</td>\n",
       "    </tr>\n",
       "    <tr>\n",
       "      <th>11010</th>\n",
       "      <td>PAC1313</td>\n",
       "      <td>Pack QNAP TS-451 + | 8GB RAM | WD 24TB Network</td>\n",
       "      <td>Pack QNAP TS-451 + with 8GB of RAM memory + 24...</td>\n",
       "      <td>1619.99</td>\n",
       "      <td>1350.3685</td>\n",
       "    </tr>\n",
       "    <tr>\n",
       "      <th>1468</th>\n",
       "      <td>PAC0573</td>\n",
       "      <td>Samsung SSD 850 expansion kit 1TB PRO + OWC Mo...</td>\n",
       "      <td>Expansion kit 1TB SSD + Adapter Mount Pro for ...</td>\n",
       "      <td>515.98</td>\n",
       "      <td>44.9584</td>\n",
       "    </tr>\n",
       "    <tr>\n",
       "      <th>19129</th>\n",
       "      <td>HTE0013-A</td>\n",
       "      <td>Open - HyperJuice Battery 80Wh USB-C 4 x QC US...</td>\n",
       "      <td>Reconditioned Adapter 80W charging HyperJuice ...</td>\n",
       "      <td>79.95</td>\n",
       "      <td>58.9079</td>\n",
       "    </tr>\n",
       "    <tr>\n",
       "      <th>18814</th>\n",
       "      <td>KOO0010</td>\n",
       "      <td>Smart LED Bulb colors Koogeek Wi-Fi</td>\n",
       "      <td>Smart LED bulb Koogeek 16M Colors HomeKit Appl...</td>\n",
       "      <td>34.99</td>\n",
       "      <td>31.9900</td>\n",
       "    </tr>\n",
       "    <tr>\n",
       "      <th>19091</th>\n",
       "      <td>BEL0264-A</td>\n",
       "      <td>Open - PowerHouse Base Load Belkin Apple Watch...</td>\n",
       "      <td>Reconditioned support charger and connection L...</td>\n",
       "      <td>99.99</td>\n",
       "      <td>62.2485</td>\n",
       "    </tr>\n",
       "    <tr>\n",
       "      <th>17089</th>\n",
       "      <td>JBL0129</td>\n",
       "      <td>JBL Flip 4 Speaker Bluetooth Black</td>\n",
       "      <td>Portable Bluetooth Speaker submersible in wate...</td>\n",
       "      <td>139.99</td>\n",
       "      <td>114.9901</td>\n",
       "    </tr>\n",
       "    <tr>\n",
       "      <th>18103</th>\n",
       "      <td>PAC2468</td>\n",
       "      <td>DS218play Synology NAS Server | 24TB (2x12TB) ...</td>\n",
       "      <td>2-bay NAS server can accommodate 4K Ultra HD f...</td>\n",
       "      <td>1240.97</td>\n",
       "      <td>987.1785</td>\n",
       "    </tr>\n",
       "    <tr>\n",
       "      <th>1061</th>\n",
       "      <td>KAN0024</td>\n",
       "      <td>Kanex Thunderbolt Cable 1m</td>\n",
       "      <td>1m Thunderbolt Cable.</td>\n",
       "      <td>45.99</td>\n",
       "      <td>45.9921</td>\n",
       "    </tr>\n",
       "    <tr>\n",
       "      <th>11700</th>\n",
       "      <td>WAC0188</td>\n",
       "      <td>Wacom Cintiq Companion 2 DTH-W1310P for Mac an...</td>\n",
       "      <td>multi-touch graphics tablet with pen natural p...</td>\n",
       "      <td>1999.99</td>\n",
       "      <td>1999.9896</td>\n",
       "    </tr>\n",
       "  </tbody>\n",
       "</table>\n",
       "</div>"
      ],
      "text/plain": [
       "               sku                                               name  \\\n",
       "17985      APP2543                   Apple iPhone Gold Lightning Dock   \n",
       "18456      APP2687  Apple iMac Pro 27 \"14-core Intel Xeon W 25GHz ...   \n",
       "14584      SAT0017  Sonic Dual Conical Satechi Mac v2.0 Speakers W...   \n",
       "2297       TRA0025  Transcend JetDrive expansion SSD 720 960GB Mac...   \n",
       "16952  CRU0015-2-A  Open - Crucial Mac Memory 16GB (2x8GB) DDR3 16...   \n",
       "13599    WAC0178-A           (Open) Wacom Bamboo Stylus Black Alpha 2   \n",
       "14938      PAC1889  Kit Crucial MX300 525GB SSD expansion for Mac ...   \n",
       "18098      PAC2463  DS218play Synology NAS Server | 6TB (2x3TB) Se...   \n",
       "16196      PAC2081  Apple iMac 27 \"Core i7 42GHz 5K Retina | 16GB ...   \n",
       "15875      ALL0010  PowerCube Original USB Regleta Allocacoc wall ...   \n",
       "18774    DJI0013-A                             Open - DJI OSMO Mobile   \n",
       "11010      PAC1313     Pack QNAP TS-451 + | 8GB RAM | WD 24TB Network   \n",
       "1468       PAC0573  Samsung SSD 850 expansion kit 1TB PRO + OWC Mo...   \n",
       "19129    HTE0013-A  Open - HyperJuice Battery 80Wh USB-C 4 x QC US...   \n",
       "18814      KOO0010                Smart LED Bulb colors Koogeek Wi-Fi   \n",
       "19091    BEL0264-A  Open - PowerHouse Base Load Belkin Apple Watch...   \n",
       "17089      JBL0129                 JBL Flip 4 Speaker Bluetooth Black   \n",
       "18103      PAC2468  DS218play Synology NAS Server | 24TB (2x12TB) ...   \n",
       "1061       KAN0024                         Kanex Thunderbolt Cable 1m   \n",
       "11700      WAC0188  Wacom Cintiq Companion 2 DTH-W1310P for Mac an...   \n",
       "\n",
       "                                                    desc    price  promo_price  \n",
       "17985    Stand with Lightning Dock Connector and iPhone.    59.00      56.0000  \n",
       "18456  Pro iMac 27 inch screen Retina 5K and Intel Xe...  8379.00     787.6005  \n",
       "14584  Speakers matte finish sleek design and volume ...    39.99      24.9901  \n",
       "2297   960GB SSD expansion for Macbook Pro Retina 13-...   815.00     728.5834  \n",
       "16952  RAM 16GB (2x8GB) 135V MacBook Pro iMac (2012/2...   149.98     148.9897  \n",
       "13599  Intelligent digital pen with rubber tip for iP...    14.90       9.2183  \n",
       "14938  SSD upgrade kit for Mac mini 525GB Mid 2011 to...   213.65     183.5848  \n",
       "18098  2-bay NAS server can accommodate 4K Ultra HD f...   520.97     433.1788  \n",
       "16196  IMac desktop computer 27 inch Retina 5K RAM 16...  3085.59    2825.0045  \n",
       "15875  Wall socket cube-shaped with 4 to 250V electri...    18.95      14.9895  \n",
       "18774  Image Stabilizer refurbished laptop Osmo DJI. ...   339.95     239.0004  \n",
       "11010  Pack QNAP TS-451 + with 8GB of RAM memory + 24...  1619.99    1350.3685  \n",
       "1468   Expansion kit 1TB SSD + Adapter Mount Pro for ...   515.98      44.9584  \n",
       "19129  Reconditioned Adapter 80W charging HyperJuice ...    79.95      58.9079  \n",
       "18814  Smart LED bulb Koogeek 16M Colors HomeKit Appl...    34.99      31.9900  \n",
       "19091  Reconditioned support charger and connection L...    99.99      62.2485  \n",
       "17089  Portable Bluetooth Speaker submersible in wate...   139.99     114.9901  \n",
       "18103  2-bay NAS server can accommodate 4K Ultra HD f...  1240.97     987.1785  \n",
       "1061                               1m Thunderbolt Cable.    45.99      45.9921  \n",
       "11700  multi-touch graphics tablet with pen natural p...  1999.99    1999.9896  "
      ]
     },
     "execution_count": 9,
     "metadata": {},
     "output_type": "execute_result"
    }
   ],
   "source": [
    "p.sample(20)"
   ]
  }
 ],
 "metadata": {
  "kernelspec": {
   "display_name": "Python 3",
   "language": "python",
   "name": "python3"
  },
  "language_info": {
   "codemirror_mode": {
    "name": "ipython",
    "version": 3
   },
   "file_extension": ".py",
   "mimetype": "text/x-python",
   "name": "python",
   "nbconvert_exporter": "python",
   "pygments_lexer": "ipython3",
   "version": "3.8.8"
  }
 },
 "nbformat": 4,
 "nbformat_minor": 5
}
