{
 "cells": [
  {
   "cell_type": "markdown",
   "id": "dfb00a1a-e187-499b-8533-a057e548612a",
   "metadata": {},
   "source": [
    "# Eniac data cleaning"
   ]
  },
  {
   "cell_type": "code",
   "execution_count": 1,
   "id": "83e32e64-2317-4258-ab12-06cd4d874857",
   "metadata": {},
   "outputs": [],
   "source": [
    "import pandas as pd\n",
    "from functools import wraps\n",
    "import datetime as dt"
   ]
  },
  {
   "cell_type": "code",
   "execution_count": 2,
   "id": "d1f0bff5-0a30-4f98-87ae-b59bce9c57a4",
   "metadata": {},
   "outputs": [],
   "source": [
    "orderlines = pd.read_csv('data/eniac/orderlines.csv')\n",
    "products = pd.read_csv('data/eniac/products.csv')\n",
    "orders = pd.read_csv('data/eniac/orders.csv')"
   ]
  },
  {
   "cell_type": "code",
   "execution_count": 3,
   "id": "5b5a36ee-58e5-40e1-8213-48dba3575a57",
   "metadata": {},
   "outputs": [],
   "source": [
    "# Function that makes logs in the pipeline\n",
    "def log_step(func):\n",
    "    @wraps(func)\n",
    "    def wrapper(*args, **kwargs):\n",
    "        tic = dt.datetime.now()\n",
    "        result = func(*args, **kwargs)\n",
    "        time_taken = str(dt.datetime.now() - tic)\n",
    "        print(f\"just ran step {func.__name__} shape={result.shape} took {time_taken}s\")\n",
    "        return result\n",
    "    return wrapper"
   ]
  },
  {
   "cell_type": "code",
   "execution_count": 4,
   "id": "a99545c9-f324-4095-89b6-d66503f006ad",
   "metadata": {},
   "outputs": [],
   "source": [
    "# Function that returns copy of DataFrame\n",
    "@log_step\n",
    "def start_pipeline(df):\n",
    "    return df.copy()"
   ]
  },
  {
   "cell_type": "markdown",
   "id": "34854a2e-e6f9-4da0-bac8-6541410e08f9",
   "metadata": {
    "tags": []
   },
   "source": [
    "## Products info"
   ]
  },
  {
   "cell_type": "code",
   "execution_count": 5,
   "id": "44a17215-9601-4c0c-a14f-ccd1250e9fa3",
   "metadata": {},
   "outputs": [],
   "source": [
    "#Function that returns number of missing values\n",
    "def check_missing_values(data): \n",
    "    print('Missing values:' + '\\n' + str(data.isna().sum()))\n",
    "\n",
    "#Function that returns number of duplicated rows\n",
    "def check_duplicates(data): \n",
    "    print('Duplicated rows: ', data.duplicated().sum())\n",
    "\n",
    "def check_table(df):\n",
    "    check_missing_values(df)\n",
    "    check_duplicates(df)\n",
    "    df.info()"
   ]
  },
  {
   "cell_type": "code",
   "execution_count": 6,
   "id": "c189e065-1cf6-4451-b11f-b6f86c2e1897",
   "metadata": {
    "tags": []
   },
   "outputs": [
    {
     "name": "stdout",
     "output_type": "stream",
     "text": [
      "Missing values:\n",
      "sku             0\n",
      "name            0\n",
      "desc            7\n",
      "price          46\n",
      "promo_price     0\n",
      "in_stock        0\n",
      "type           50\n",
      "dtype: int64\n",
      "Duplicated rows:  8746\n",
      "<class 'pandas.core.frame.DataFrame'>\n",
      "RangeIndex: 19326 entries, 0 to 19325\n",
      "Data columns (total 7 columns):\n",
      " #   Column       Non-Null Count  Dtype \n",
      "---  ------       --------------  ----- \n",
      " 0   sku          19326 non-null  object\n",
      " 1   name         19326 non-null  object\n",
      " 2   desc         19319 non-null  object\n",
      " 3   price        19280 non-null  object\n",
      " 4   promo_price  19326 non-null  object\n",
      " 5   in_stock     19326 non-null  int64 \n",
      " 6   type         19276 non-null  object\n",
      "dtypes: int64(1), object(6)\n",
      "memory usage: 1.0+ MB\n"
     ]
    }
   ],
   "source": [
    "check_table(products)"
   ]
  },
  {
   "cell_type": "markdown",
   "id": "85762f71-4b0a-4422-9ad5-2fcccbadf892",
   "metadata": {},
   "source": [
    "### Dropping columns"
   ]
  },
  {
   "cell_type": "markdown",
   "id": "05a6628b-fd88-4159-8673-b2b357e352eb",
   "metadata": {},
   "source": [
    "I have decided that for my future analisys I don't need columns 'in_stock' and 'type'. I am passing list of colums as an argument"
   ]
  },
  {
   "cell_type": "code",
   "execution_count": 7,
   "id": "ae0d6062-f191-4d0e-8ef4-9829fe18d122",
   "metadata": {},
   "outputs": [],
   "source": [
    "# Function that drops columns from a list of columns\n",
    "@log_step\n",
    "def drop_columns(df, columns):\n",
    "    return df.drop(columns,axis=1)"
   ]
  },
  {
   "cell_type": "code",
   "execution_count": 8,
   "id": "2ac53796-b1fc-46bd-ba72-4e72e65607ea",
   "metadata": {},
   "outputs": [],
   "source": [
    "columns_to_drop = ['in_stock','type']"
   ]
  },
  {
   "cell_type": "markdown",
   "id": "25bfcbf8-ffcd-4c86-9314-aa0ed1d61b6e",
   "metadata": {},
   "source": [
    "### Dealing with NaN values"
   ]
  },
  {
   "cell_type": "markdown",
   "id": "95e373b2-c971-452e-ae29-c1458799a763",
   "metadata": {
    "tags": []
   },
   "source": [
    "I have decided to exclude all rows that have NaN value in 'price' and 'desc' column since there are very few of them. I have forwarded function called select_nonNan_rows to pipeline."
   ]
  },
  {
   "cell_type": "code",
   "execution_count": 9,
   "id": "e6925d77-be5e-414f-b052-96310a374023",
   "metadata": {},
   "outputs": [],
   "source": [
    "@log_step\n",
    "#Function that returns rows with notNaN values in 'column'\n",
    "def select_notNan_rows(df,columns):\n",
    "    for col in columns:\n",
    "        df = df[df[col].notna()]\n",
    "    return df"
   ]
  },
  {
   "cell_type": "code",
   "execution_count": 10,
   "id": "9e1610dc-ff3f-4b79-91e8-9e47d1f09fff",
   "metadata": {},
   "outputs": [],
   "source": [
    "columns_where_NaNs_are = ['price','desc']"
   ]
  },
  {
   "cell_type": "markdown",
   "id": "3129bd15-61a4-4d31-b5aa-63fc8ff008ec",
   "metadata": {},
   "source": [
    "### Losing duplicates"
   ]
  },
  {
   "cell_type": "markdown",
   "id": "8a5ffb69-97ac-4b19-b6c4-336bf36f7ccc",
   "metadata": {},
   "source": [
    "I have decided to lose all rows that have duplicate 'sku' value."
   ]
  },
  {
   "cell_type": "code",
   "execution_count": 11,
   "id": "329c47dc-6acf-408e-8ce0-9518af4fa3e7",
   "metadata": {},
   "outputs": [],
   "source": [
    "@log_step\n",
    "#Function that drops duplicates\n",
    "def drop_duplicates_custom(df,columns=[]):\n",
    "    if(len(columns) > 0):\n",
    "        return df.drop_duplicates(columns)\n",
    "    else:\n",
    "        return df.drop_duplicates()"
   ]
  },
  {
   "cell_type": "code",
   "execution_count": 12,
   "id": "e87b2416-5f15-4d59-ad7a-2a08648403bf",
   "metadata": {},
   "outputs": [],
   "source": [
    "columns_arg_for_duplicates_drop = ['sku']"
   ]
  },
  {
   "cell_type": "markdown",
   "id": "5c265c93-4613-48c0-b713-2257e9c112ca",
   "metadata": {},
   "source": [
    "### Changing types "
   ]
  },
  {
   "cell_type": "markdown",
   "id": "626f95c3-6cb6-4dfa-883c-c4da8f9e667b",
   "metadata": {
    "tags": []
   },
   "source": [
    "I have to change types of 'price' and 'promo_price' from object to float"
   ]
  },
  {
   "cell_type": "markdown",
   "id": "23ac69c3-8ae5-4fea-90f5-44e1f5619399",
   "metadata": {},
   "source": [
    "It seems like price and promo price had some problems with decimals, decimal spaces...so I have created clean_prices function that clean those. After that I was able to change types to float."
   ]
  },
  {
   "cell_type": "code",
   "execution_count": 13,
   "id": "2c9bdfb3-aca7-45f1-b92a-d3a2520a5695",
   "metadata": {},
   "outputs": [],
   "source": [
    "#Function for cleaning price and promo_price columns\n",
    "@log_step\n",
    "def clean_prices(p,columns):\n",
    "    for col in columns:\n",
    "        p[col] = p[col].apply(lambda x : x +'.00' if x.count('.') == 0 else x)\n",
    "        p[col] = p[col].apply(lambda x: x  + '0' if x[-2]=='.' else x)\n",
    "        p[col] = p[col].apply(lambda x: str(float(x.replace('.',''))/1000) if ( (x[-4]=='.') & (x.count('.')==2)) else x)\n",
    "        p[col] = p[col].apply(lambda x: str(float(x.replace('.',''))/10000) if ( (x[-4]=='.') & (x.count('.')==1)) else x)\n",
    "        p[col] = p[col].astype(float)\n",
    "        p[col] = p[col].round(decimals = 2)\n",
    "    return p"
   ]
  },
  {
   "cell_type": "markdown",
   "id": "8ea791d6-9b05-4e7f-90a6-e053ff18941d",
   "metadata": {},
   "source": [
    "## Pipeline"
   ]
  },
  {
   "cell_type": "code",
   "execution_count": 14,
   "id": "e86077ad-192b-41c3-b2ce-29cef1a305d7",
   "metadata": {},
   "outputs": [
    {
     "name": "stdout",
     "output_type": "stream",
     "text": [
      "just ran step start_pipeline shape=(19326, 7) took 0:00:00.001000s\n",
      "just ran step drop_columns shape=(19326, 5) took 0:00:00.002990s\n",
      "just ran step select_notNan_rows shape=(19273, 5) took 0:00:00.010967s\n",
      "just ran step drop_duplicates_custom shape=(10527, 5) took 0:00:00.010493s\n",
      "just ran step clean_prices shape=(10527, 5) took 0:00:00.059844s\n"
     ]
    }
   ],
   "source": [
    "p = (products\n",
    "     .pipe(start_pipeline)\n",
    "     .pipe(drop_columns,columns_to_drop)\n",
    "     .pipe(select_notNan_rows,columns_where_NaNs_are)\n",
    "     .pipe(drop_duplicates_custom,columns_arg_for_duplicates_drop)\n",
    "     .pipe(clean_prices,['price','promo_price'])\n",
    ")"
   ]
  },
  {
   "cell_type": "code",
   "execution_count": 15,
   "id": "9e23c4f8-e553-4777-9f64-a1f1e1ab7099",
   "metadata": {},
   "outputs": [
    {
     "name": "stdout",
     "output_type": "stream",
     "text": [
      "Missing values:\n",
      "sku            0\n",
      "name           0\n",
      "desc           0\n",
      "price          0\n",
      "promo_price    0\n",
      "dtype: int64\n",
      "Duplicated rows:  0\n",
      "<class 'pandas.core.frame.DataFrame'>\n",
      "Int64Index: 10527 entries, 0 to 19325\n",
      "Data columns (total 5 columns):\n",
      " #   Column       Non-Null Count  Dtype  \n",
      "---  ------       --------------  -----  \n",
      " 0   sku          10527 non-null  object \n",
      " 1   name         10527 non-null  object \n",
      " 2   desc         10527 non-null  object \n",
      " 3   price        10527 non-null  float64\n",
      " 4   promo_price  10527 non-null  float64\n",
      "dtypes: float64(2), object(3)\n",
      "memory usage: 493.5+ KB\n"
     ]
    }
   ],
   "source": [
    "check_table(p)"
   ]
  },
  {
   "cell_type": "code",
   "execution_count": 16,
   "id": "f0a27d3e-337a-4f08-b811-bc4f9832e9ee",
   "metadata": {},
   "outputs": [
    {
     "data": {
      "text/html": [
       "<div>\n",
       "<style scoped>\n",
       "    .dataframe tbody tr th:only-of-type {\n",
       "        vertical-align: middle;\n",
       "    }\n",
       "\n",
       "    .dataframe tbody tr th {\n",
       "        vertical-align: top;\n",
       "    }\n",
       "\n",
       "    .dataframe thead th {\n",
       "        text-align: right;\n",
       "    }\n",
       "</style>\n",
       "<table border=\"1\" class=\"dataframe\">\n",
       "  <thead>\n",
       "    <tr style=\"text-align: right;\">\n",
       "      <th></th>\n",
       "      <th>sku</th>\n",
       "      <th>name</th>\n",
       "      <th>desc</th>\n",
       "      <th>price</th>\n",
       "      <th>promo_price</th>\n",
       "    </tr>\n",
       "  </thead>\n",
       "  <tbody>\n",
       "    <tr>\n",
       "      <th>19109</th>\n",
       "      <td>SEA0124</td>\n",
       "      <td>Seagate Backup Plus Hub USB 3.0 Hard Drive 4TB</td>\n",
       "      <td>Seagate desktop hard drive with 4TB compatible...</td>\n",
       "      <td>149.99</td>\n",
       "      <td>125.00</td>\n",
       "    </tr>\n",
       "    <tr>\n",
       "      <th>13324</th>\n",
       "      <td>APP1756</td>\n",
       "      <td>Apple iPad Mini 4 Wi-Fi + Cellular 32GB Gold</td>\n",
       "      <td>Apple iPad Mini 4 Wi-Fi + Cellular 32GB.</td>\n",
       "      <td>549.00</td>\n",
       "      <td>552.81</td>\n",
       "    </tr>\n",
       "    <tr>\n",
       "      <th>14937</th>\n",
       "      <td>PAC1888</td>\n",
       "      <td>Crucial MX300 275GB SSD expansion kit for Mac ...</td>\n",
       "      <td>SSD upgrade kit for Mac mini 275GB Mid 2011 to...</td>\n",
       "      <td>153.38</td>\n",
       "      <td>128.58</td>\n",
       "    </tr>\n",
       "    <tr>\n",
       "      <th>937</th>\n",
       "      <td>LAC0106</td>\n",
       "      <td>LaCie Little Big Disk Thunderbolt SSD 1TB hard...</td>\n",
       "      <td>Portable External Hard Drive 1TB SSD Thunderbo...</td>\n",
       "      <td>1249.00</td>\n",
       "      <td>76.99</td>\n",
       "    </tr>\n",
       "    <tr>\n",
       "      <th>19185</th>\n",
       "      <td>RIN0017</td>\n",
       "      <td>Chime Bell Ring</td>\n",
       "      <td>Chime bell with free Wi-Fi to amplify your not...</td>\n",
       "      <td>35.00</td>\n",
       "      <td>35.00</td>\n",
       "    </tr>\n",
       "    <tr>\n",
       "      <th>17934</th>\n",
       "      <td>PAC2446</td>\n",
       "      <td>Synology DS918 + NAS Server | 16GB RAM</td>\n",
       "      <td>NAS server of the Plus Series for companies se...</td>\n",
       "      <td>772.71</td>\n",
       "      <td>760.99</td>\n",
       "    </tr>\n",
       "    <tr>\n",
       "      <th>18029</th>\n",
       "      <td>SAN0191</td>\n",
       "      <td>SanDisk iXpand Base 32GB flash memory Charger</td>\n",
       "      <td>32GB flash memory with charger function</td>\n",
       "      <td>62.99</td>\n",
       "      <td>59.99</td>\n",
       "    </tr>\n",
       "    <tr>\n",
       "      <th>540</th>\n",
       "      <td>SEV0032</td>\n",
       "      <td>Budget Request repair Apple Mac Pro</td>\n",
       "      <td>Diagnosis to repair Mac Pro.</td>\n",
       "      <td>19.99</td>\n",
       "      <td>19.99</td>\n",
       "    </tr>\n",
       "    <tr>\n",
       "      <th>13342</th>\n",
       "      <td>APP1659</td>\n",
       "      <td>Apple iPhone 6s Plus 32GB Silver</td>\n",
       "      <td>New iPhone 6S Plus 32GB Free.</td>\n",
       "      <td>639.00</td>\n",
       "      <td>626.00</td>\n",
       "    </tr>\n",
       "    <tr>\n",
       "      <th>1407</th>\n",
       "      <td>LEP0016</td>\n",
       "      <td>Lepow USB 6000mAh External Battery Moonstone Red</td>\n",
       "      <td>external battery USB dual mode charge small an...</td>\n",
       "      <td>59.99</td>\n",
       "      <td>30.00</td>\n",
       "    </tr>\n",
       "    <tr>\n",
       "      <th>13454</th>\n",
       "      <td>MOS0203</td>\n",
       "      <td>Moshi iGlaze Armor iPhone Case Rose Gold 7</td>\n",
       "      <td>protective cover two colors with metallic acce...</td>\n",
       "      <td>40.00</td>\n",
       "      <td>32.99</td>\n",
       "    </tr>\n",
       "    <tr>\n",
       "      <th>18445</th>\n",
       "      <td>APP2676</td>\n",
       "      <td>Apple iMac Pro 27 \"18-core Intel Xeon W 23GHz ...</td>\n",
       "      <td>Pro iMac 27 inch screen Retina 5K and Intel Xe...</td>\n",
       "      <td>9099.00</td>\n",
       "      <td>8553.00</td>\n",
       "    </tr>\n",
       "    <tr>\n",
       "      <th>16023</th>\n",
       "      <td>ELA0029</td>\n",
       "      <td>elago M2 Stand Aluminum Stand iPhone Black</td>\n",
       "      <td>Aluminum support with access to cable and non-...</td>\n",
       "      <td>40.00</td>\n",
       "      <td>27.99</td>\n",
       "    </tr>\n",
       "    <tr>\n",
       "      <th>2023</th>\n",
       "      <td>PHI0050</td>\n",
       "      <td>Philips Hue LightStrips independent LED strip</td>\n",
       "      <td>LED strip Hue expansion.</td>\n",
       "      <td>89.99</td>\n",
       "      <td>7.49</td>\n",
       "    </tr>\n",
       "    <tr>\n",
       "      <th>17540</th>\n",
       "      <td>OWC0250</td>\n",
       "      <td>Mac OWC Memory 1GB 400MHz DDR DIMM</td>\n",
       "      <td>1GB memory RAM Xserve G5</td>\n",
       "      <td>26.99</td>\n",
       "      <td>24.99</td>\n",
       "    </tr>\n",
       "    <tr>\n",
       "      <th>11692</th>\n",
       "      <td>KIN0153-2</td>\n",
       "      <td>Mac memory Kingston 16GB (2x8GB) SO-DIMM DDR3å...</td>\n",
       "      <td>RAM 16GB MacBook Pro iMac (2013) and Mac mini ...</td>\n",
       "      <td>149.98</td>\n",
       "      <td>146.99</td>\n",
       "    </tr>\n",
       "    <tr>\n",
       "      <th>10709</th>\n",
       "      <td>APP1433</td>\n",
       "      <td>Apple Smart Cover iPad Mini 4 Charcoal Gray</td>\n",
       "      <td>Polyurethane Smart Cover iPad Mini 4.</td>\n",
       "      <td>45.00</td>\n",
       "      <td>42.00</td>\n",
       "    </tr>\n",
       "    <tr>\n",
       "      <th>651</th>\n",
       "      <td>KAN0013</td>\n",
       "      <td>IAdapt Kanex Mini DisplayPort to HDMI with Aud...</td>\n",
       "      <td>Adapter Cable Display Port to HDMI.</td>\n",
       "      <td>27.99</td>\n",
       "      <td>15.99</td>\n",
       "    </tr>\n",
       "    <tr>\n",
       "      <th>18200</th>\n",
       "      <td>MMW0031</td>\n",
       "      <td>My MW Case MacBook Air 13 \"Shade Red</td>\n",
       "      <td>Avoid shock and damage to your MacBook Air 13-...</td>\n",
       "      <td>29.95</td>\n",
       "      <td>20.99</td>\n",
       "    </tr>\n",
       "    <tr>\n",
       "      <th>382</th>\n",
       "      <td>OWC0036-2</td>\n",
       "      <td>Mac memory OWC 8GB (2x4GB) SO-DIMM DDR3 1333MHZ</td>\n",
       "      <td>RAM 8GB (2x4GB) Mac mini (2011) iMac (2010-201...</td>\n",
       "      <td>93.98</td>\n",
       "      <td>92.99</td>\n",
       "    </tr>\n",
       "  </tbody>\n",
       "</table>\n",
       "</div>"
      ],
      "text/plain": [
       "             sku                                               name  \\\n",
       "19109    SEA0124     Seagate Backup Plus Hub USB 3.0 Hard Drive 4TB   \n",
       "13324    APP1756       Apple iPad Mini 4 Wi-Fi + Cellular 32GB Gold   \n",
       "14937    PAC1888  Crucial MX300 275GB SSD expansion kit for Mac ...   \n",
       "937      LAC0106  LaCie Little Big Disk Thunderbolt SSD 1TB hard...   \n",
       "19185    RIN0017                                    Chime Bell Ring   \n",
       "17934    PAC2446             Synology DS918 + NAS Server | 16GB RAM   \n",
       "18029    SAN0191      SanDisk iXpand Base 32GB flash memory Charger   \n",
       "540      SEV0032                Budget Request repair Apple Mac Pro   \n",
       "13342    APP1659                   Apple iPhone 6s Plus 32GB Silver   \n",
       "1407     LEP0016   Lepow USB 6000mAh External Battery Moonstone Red   \n",
       "13454    MOS0203         Moshi iGlaze Armor iPhone Case Rose Gold 7   \n",
       "18445    APP2676  Apple iMac Pro 27 \"18-core Intel Xeon W 23GHz ...   \n",
       "16023    ELA0029         elago M2 Stand Aluminum Stand iPhone Black   \n",
       "2023     PHI0050      Philips Hue LightStrips independent LED strip   \n",
       "17540    OWC0250                 Mac OWC Memory 1GB 400MHz DDR DIMM   \n",
       "11692  KIN0153-2  Mac memory Kingston 16GB (2x8GB) SO-DIMM DDR3å...   \n",
       "10709    APP1433        Apple Smart Cover iPad Mini 4 Charcoal Gray   \n",
       "651      KAN0013  IAdapt Kanex Mini DisplayPort to HDMI with Aud...   \n",
       "18200    MMW0031               My MW Case MacBook Air 13 \"Shade Red   \n",
       "382    OWC0036-2    Mac memory OWC 8GB (2x4GB) SO-DIMM DDR3 1333MHZ   \n",
       "\n",
       "                                                    desc    price  promo_price  \n",
       "19109  Seagate desktop hard drive with 4TB compatible...   149.99       125.00  \n",
       "13324           Apple iPad Mini 4 Wi-Fi + Cellular 32GB.   549.00       552.81  \n",
       "14937  SSD upgrade kit for Mac mini 275GB Mid 2011 to...   153.38       128.58  \n",
       "937    Portable External Hard Drive 1TB SSD Thunderbo...  1249.00        76.99  \n",
       "19185  Chime bell with free Wi-Fi to amplify your not...    35.00        35.00  \n",
       "17934  NAS server of the Plus Series for companies se...   772.71       760.99  \n",
       "18029            32GB flash memory with charger function    62.99        59.99  \n",
       "540                         Diagnosis to repair Mac Pro.    19.99        19.99  \n",
       "13342                      New iPhone 6S Plus 32GB Free.   639.00       626.00  \n",
       "1407   external battery USB dual mode charge small an...    59.99        30.00  \n",
       "13454  protective cover two colors with metallic acce...    40.00        32.99  \n",
       "18445  Pro iMac 27 inch screen Retina 5K and Intel Xe...  9099.00      8553.00  \n",
       "16023  Aluminum support with access to cable and non-...    40.00        27.99  \n",
       "2023                            LED strip Hue expansion.    89.99         7.49  \n",
       "17540                           1GB memory RAM Xserve G5    26.99        24.99  \n",
       "11692  RAM 16GB MacBook Pro iMac (2013) and Mac mini ...   149.98       146.99  \n",
       "10709              Polyurethane Smart Cover iPad Mini 4.    45.00        42.00  \n",
       "651                  Adapter Cable Display Port to HDMI.    27.99        15.99  \n",
       "18200  Avoid shock and damage to your MacBook Air 13-...    29.95        20.99  \n",
       "382    RAM 8GB (2x4GB) Mac mini (2011) iMac (2010-201...    93.98        92.99  "
      ]
     },
     "execution_count": 16,
     "metadata": {},
     "output_type": "execute_result"
    }
   ],
   "source": [
    "p.sample(20)"
   ]
  }
 ],
 "metadata": {
  "kernelspec": {
   "display_name": "Python 3",
   "language": "python",
   "name": "python3"
  },
  "language_info": {
   "codemirror_mode": {
    "name": "ipython",
    "version": 3
   },
   "file_extension": ".py",
   "mimetype": "text/x-python",
   "name": "python",
   "nbconvert_exporter": "python",
   "pygments_lexer": "ipython3",
   "version": "3.8.8"
  }
 },
 "nbformat": 4,
 "nbformat_minor": 5
}
