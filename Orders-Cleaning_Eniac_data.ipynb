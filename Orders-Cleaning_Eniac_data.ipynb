{
 "cells": [
  {
   "cell_type": "markdown",
   "id": "1d8fbe1c-eb79-48f1-bcf5-e827888210f8",
   "metadata": {},
   "source": [
    "# Cleaning Eniac data - orders"
   ]
  },
  {
   "cell_type": "code",
   "execution_count": 1,
   "id": "21d9f86e-2dad-4ab9-9a8d-c6bfbe412592",
   "metadata": {},
   "outputs": [],
   "source": [
    "import pandas as pd\n",
    "from functools import wraps\n",
    "import datetime as dt"
   ]
  },
  {
   "cell_type": "code",
   "execution_count": 2,
   "id": "b162a3b9-51a7-4fd2-b532-65fd5ff16b6d",
   "metadata": {},
   "outputs": [],
   "source": [
    "orderlines = pd.read_csv('data/eniac/orderlines_clean.csv')\n",
    "products = pd.read_csv('data/eniac/products.csv')\n",
    "orders = pd.read_csv('data/eniac/orders_without_outliers.csv')"
   ]
  },
  {
   "cell_type": "code",
   "execution_count": 3,
   "id": "bfb466d4-eda9-4333-8d18-91752d40f097",
   "metadata": {
    "tags": []
   },
   "outputs": [],
   "source": [
    "# Function that makes logs in the pipeline\n",
    "def log_step(func):\n",
    "    @wraps(func)\n",
    "    def wrapper(*args, **kwargs):\n",
    "        tic = dt.datetime.now()\n",
    "        result = func(*args, **kwargs)\n",
    "        time_taken = str(dt.datetime.now() - tic)\n",
    "        print(f\"just ran step {func.__name__} shape={result.shape} took {time_taken}s\")\n",
    "        return result\n",
    "    return wrapper"
   ]
  },
  {
   "cell_type": "code",
   "execution_count": 4,
   "id": "0fdde1d1-1a0b-4675-b513-9a9e599c9ffa",
   "metadata": {
    "tags": []
   },
   "outputs": [],
   "source": [
    "# Function that returns copy of DataFrame\n",
    "@log_step\n",
    "def start_pipeline(df):\n",
    "    return df.copy()"
   ]
  },
  {
   "cell_type": "markdown",
   "id": "01513e3a-65fd-4943-81e3-2748b35375c5",
   "metadata": {
    "tags": []
   },
   "source": [
    "## Orders info"
   ]
  },
  {
   "cell_type": "code",
   "execution_count": 5,
   "id": "4cb1e1c8-3262-428f-8b1f-f501e129ebe3",
   "metadata": {},
   "outputs": [],
   "source": [
    "#Function that returns number of missing values\n",
    "def check_missing_values(data): \n",
    "    print('Missing values:' + '\\n' + str(data.isna().sum()))\n",
    "\n",
    "#Function that returns number of duplicated rows\n",
    "def check_duplicates(data): \n",
    "    print('Duplicated rows: ', data.duplicated().sum())\n",
    "\n",
    "def check_table(df):\n",
    "    check_missing_values(df)\n",
    "    check_duplicates(df)\n",
    "    df.info()"
   ]
  },
  {
   "cell_type": "code",
   "execution_count": 6,
   "id": "d72ee4ce-b48e-420b-a9ab-1b47d30fed02",
   "metadata": {
    "tags": []
   },
   "outputs": [
    {
     "name": "stdout",
     "output_type": "stream",
     "text": [
      "Missing values:\n",
      "Unnamed: 0      0\n",
      "order_id        0\n",
      "created_date    0\n",
      "total_paid      5\n",
      "state           0\n",
      "dtype: int64\n",
      "Duplicated rows:  0\n",
      "<class 'pandas.core.frame.DataFrame'>\n",
      "RangeIndex: 226429 entries, 0 to 226428\n",
      "Data columns (total 5 columns):\n",
      " #   Column        Non-Null Count   Dtype  \n",
      "---  ------        --------------   -----  \n",
      " 0   Unnamed: 0    226429 non-null  int64  \n",
      " 1   order_id      226429 non-null  int64  \n",
      " 2   created_date  226429 non-null  object \n",
      " 3   total_paid    226424 non-null  float64\n",
      " 4   state         226429 non-null  object \n",
      "dtypes: float64(1), int64(2), object(2)\n",
      "memory usage: 8.6+ MB\n"
     ]
    }
   ],
   "source": [
    "check_table(orders)"
   ]
  },
  {
   "cell_type": "markdown",
   "id": "324235eb-a4d7-4c0a-a40f-3b2474c49d4b",
   "metadata": {},
   "source": [
    "### Changing types "
   ]
  },
  {
   "cell_type": "markdown",
   "id": "3cd2263a-3c45-4879-8f27-25c61ea14ce4",
   "metadata": {
    "tags": []
   },
   "source": [
    "I have to change type of 'created_date' (to DateTime)"
   ]
  },
  {
   "cell_type": "markdown",
   "id": "5d21f43f-f523-4595-93c6-c8e277d3275b",
   "metadata": {},
   "source": [
    "#### change 'created_date' to DateTime"
   ]
  },
  {
   "cell_type": "code",
   "execution_count": 7,
   "id": "b152ab05-f2d5-499b-a145-58be72be1e62",
   "metadata": {},
   "outputs": [],
   "source": [
    "#function that converts DataSeries type to dataFrame\n",
    "@log_step\n",
    "def toDateTime(df,column):\n",
    "    df[column] = pd.to_datetime(df[column])\n",
    "    return df"
   ]
  },
  {
   "cell_type": "code",
   "execution_count": 8,
   "id": "4b2b8d02-c076-4db1-883f-0d1cee3dcada",
   "metadata": {
    "tags": []
   },
   "outputs": [],
   "source": [
    "col_to_datetime = 'created_date'"
   ]
  },
  {
   "cell_type": "markdown",
   "id": "1507a423-0149-42d3-99e8-6cfee90d71c0",
   "metadata": {},
   "source": [
    "### Dealing with NaN values"
   ]
  },
  {
   "cell_type": "code",
   "execution_count": 9,
   "id": "c8d90298-3aa2-4ed5-9f0f-d5ce7888790a",
   "metadata": {},
   "outputs": [
    {
     "data": {
      "text/html": [
       "<div>\n",
       "<style scoped>\n",
       "    .dataframe tbody tr th:only-of-type {\n",
       "        vertical-align: middle;\n",
       "    }\n",
       "\n",
       "    .dataframe tbody tr th {\n",
       "        vertical-align: top;\n",
       "    }\n",
       "\n",
       "    .dataframe thead th {\n",
       "        text-align: right;\n",
       "    }\n",
       "</style>\n",
       "<table border=\"1\" class=\"dataframe\">\n",
       "  <thead>\n",
       "    <tr style=\"text-align: right;\">\n",
       "      <th></th>\n",
       "      <th>Unnamed: 0</th>\n",
       "      <th>order_id</th>\n",
       "      <th>created_date</th>\n",
       "      <th>total_paid</th>\n",
       "      <th>state</th>\n",
       "    </tr>\n",
       "  </thead>\n",
       "  <tbody>\n",
       "    <tr>\n",
       "      <th>127410</th>\n",
       "      <td>127701</td>\n",
       "      <td>427314</td>\n",
       "      <td>2017-11-20 18:54:39</td>\n",
       "      <td>NaN</td>\n",
       "      <td>Pending</td>\n",
       "    </tr>\n",
       "    <tr>\n",
       "      <th>131720</th>\n",
       "      <td>132013</td>\n",
       "      <td>431655</td>\n",
       "      <td>2017-11-22 12:15:24</td>\n",
       "      <td>NaN</td>\n",
       "      <td>Pending</td>\n",
       "    </tr>\n",
       "    <tr>\n",
       "      <th>147014</th>\n",
       "      <td>147316</td>\n",
       "      <td>447411</td>\n",
       "      <td>2017-11-27 10:32:37</td>\n",
       "      <td>NaN</td>\n",
       "      <td>Pending</td>\n",
       "    </tr>\n",
       "    <tr>\n",
       "      <th>148529</th>\n",
       "      <td>148833</td>\n",
       "      <td>448966</td>\n",
       "      <td>2017-11-27 18:54:15</td>\n",
       "      <td>NaN</td>\n",
       "      <td>Pending</td>\n",
       "    </tr>\n",
       "    <tr>\n",
       "      <th>149130</th>\n",
       "      <td>149434</td>\n",
       "      <td>449596</td>\n",
       "      <td>2017-11-27 21:52:08</td>\n",
       "      <td>NaN</td>\n",
       "      <td>Pending</td>\n",
       "    </tr>\n",
       "  </tbody>\n",
       "</table>\n",
       "</div>"
      ],
      "text/plain": [
       "        Unnamed: 0  order_id         created_date  total_paid    state\n",
       "127410      127701    427314  2017-11-20 18:54:39         NaN  Pending\n",
       "131720      132013    431655  2017-11-22 12:15:24         NaN  Pending\n",
       "147014      147316    447411  2017-11-27 10:32:37         NaN  Pending\n",
       "148529      148833    448966  2017-11-27 18:54:15         NaN  Pending\n",
       "149130      149434    449596  2017-11-27 21:52:08         NaN  Pending"
      ]
     },
     "execution_count": 9,
     "metadata": {},
     "output_type": "execute_result"
    }
   ],
   "source": [
    "orders[orders.total_paid.isna()]"
   ]
  },
  {
   "cell_type": "markdown",
   "id": "9d22c015-091c-412f-af25-9bb8e91a91b7",
   "metadata": {},
   "source": [
    "Looks like 5 missing values are for orders that are in state of pending so I have decided to drop them"
   ]
  },
  {
   "cell_type": "code",
   "execution_count": 10,
   "id": "8286eaa4-75b2-48ac-92c0-155b66ea7c22",
   "metadata": {},
   "outputs": [],
   "source": [
    "@log_step\n",
    "#Function that returns rows with notNaN values in 'column'\n",
    "def select_notNan_rows(df,columns):\n",
    "    for col in columns:\n",
    "        df = df[df[col].notna()]\n",
    "    return df"
   ]
  },
  {
   "cell_type": "code",
   "execution_count": 11,
   "id": "cb6e3df0-a752-445b-aa22-8f1b1d822473",
   "metadata": {},
   "outputs": [],
   "source": [
    "columns_where_NaNs_are = ['total_paid']"
   ]
  },
  {
   "cell_type": "markdown",
   "id": "ecd41feb-a794-487d-9a8a-6cefe6736b12",
   "metadata": {},
   "source": [
    "## Dealing with 'ghosts'"
   ]
  },
  {
   "cell_type": "markdown",
   "id": "954696f1-5496-4bcc-9317-2cd86e65f61d",
   "metadata": {},
   "source": [
    "Check how many orders from orders don't exist in orderlines by order_id (22213)"
   ]
  },
  {
   "cell_type": "code",
   "execution_count": 12,
   "id": "774580d6-cd9d-43b6-b20f-6b007bad93f9",
   "metadata": {},
   "outputs": [],
   "source": [
    "# (p.\n",
    "#     assign(check_orders = p.order_id.isin(orders.order_id)).\n",
    "#     query(\"check_orders==False\")\n",
    "# )"
   ]
  },
  {
   "cell_type": "code",
   "execution_count": 13,
   "id": "e00a3d56-e8fa-464d-ae36-29c7dac44eb8",
   "metadata": {},
   "outputs": [],
   "source": [
    "@log_step\n",
    "def delete_orders_not_in_orderlines(df):\n",
    "    df = (df.\n",
    "            assign(check_orders = df.order_id.isin(orders.order_id)).\n",
    "            query(\"check_orders==True\")\n",
    "            )\n",
    "    return df.drop('check_orders',axis=1)"
   ]
  },
  {
   "cell_type": "code",
   "execution_count": 14,
   "id": "4ee7d97b-e92b-4b4d-a06c-70f225095bb2",
   "metadata": {},
   "outputs": [
    {
     "data": {
      "text/plain": [
       "Place Order        12304\n",
       "Shopping Basket     9810\n",
       "Completed             45\n",
       "Cancelled             41\n",
       "Pending               18\n",
       "Name: state, dtype: int64"
      ]
     },
     "execution_count": 14,
     "metadata": {},
     "output_type": "execute_result"
    }
   ],
   "source": [
    "(orders.\n",
    "     assign(check_orders = orders.order_id.isin(orderlines.order_id)).\n",
    "     query(\"check_orders==False\")\n",
    "     .state.value_counts()\n",
    ")"
   ]
  },
  {
   "cell_type": "markdown",
   "id": "427c23b8-3cb0-49bd-a8f1-d23f4ae64d38",
   "metadata": {},
   "source": [
    "There are many of those. Expand with ..."
   ]
  },
  {
   "cell_type": "markdown",
   "id": "0e38de90-4413-4c04-a18e-ba050028c1e9",
   "metadata": {},
   "source": [
    "## Pipeline"
   ]
  },
  {
   "cell_type": "code",
   "execution_count": 16,
   "id": "d6a933a4-4bfd-43fe-b35d-529ee60ec62e",
   "metadata": {},
   "outputs": [
    {
     "name": "stdout",
     "output_type": "stream",
     "text": [
      "just ran step start_pipeline shape=(226429, 5) took 0:00:00.004987s\n",
      "just ran step toDateTime shape=(226429, 5) took 0:00:00.117716s\n",
      "just ran step select_notNan_rows shape=(226424, 5) took 0:00:00.009015s\n"
     ]
    }
   ],
   "source": [
    "p = (orders\n",
    "     .pipe(start_pipeline)\n",
    "     .pipe(toDateTime,col_to_datetime)\n",
    "     .pipe(select_notNan_rows,columns_where_NaNs_are)\n",
    ")"
   ]
  },
  {
   "cell_type": "markdown",
   "id": "078b5452-6518-4754-8824-81dc729f3778",
   "metadata": {},
   "source": [
    "# Creating new clean csv"
   ]
  },
  {
   "cell_type": "code",
   "execution_count": 21,
   "id": "9296ced8-b98f-40ad-98b6-08b52cee72a8",
   "metadata": {},
   "outputs": [],
   "source": [
    "p.to_csv('data/eniac/orders_clean.csv')"
   ]
  },
  {
   "cell_type": "code",
   "execution_count": 17,
   "id": "18df98a8-7c5a-40f4-93df-866a282aade3",
   "metadata": {
    "tags": []
   },
   "outputs": [
    {
     "name": "stdout",
     "output_type": "stream",
     "text": [
      "Missing values:\n",
      "Unnamed: 0      0\n",
      "order_id        0\n",
      "created_date    0\n",
      "total_paid      0\n",
      "state           0\n",
      "dtype: int64\n",
      "Duplicated rows:  0\n",
      "<class 'pandas.core.frame.DataFrame'>\n",
      "Int64Index: 226424 entries, 0 to 226428\n",
      "Data columns (total 5 columns):\n",
      " #   Column        Non-Null Count   Dtype         \n",
      "---  ------        --------------   -----         \n",
      " 0   Unnamed: 0    226424 non-null  int64         \n",
      " 1   order_id      226424 non-null  int64         \n",
      " 2   created_date  226424 non-null  datetime64[ns]\n",
      " 3   total_paid    226424 non-null  float64       \n",
      " 4   state         226424 non-null  object        \n",
      "dtypes: datetime64[ns](1), float64(1), int64(2), object(1)\n",
      "memory usage: 10.4+ MB\n"
     ]
    }
   ],
   "source": [
    "check_table(p)"
   ]
  },
  {
   "cell_type": "code",
   "execution_count": 20,
   "id": "d57e93c8-ff61-4b97-8695-f574d19c0de6",
   "metadata": {},
   "outputs": [
    {
     "data": {
      "text/html": [
       "<div>\n",
       "<style scoped>\n",
       "    .dataframe tbody tr th:only-of-type {\n",
       "        vertical-align: middle;\n",
       "    }\n",
       "\n",
       "    .dataframe tbody tr th {\n",
       "        vertical-align: top;\n",
       "    }\n",
       "\n",
       "    .dataframe thead th {\n",
       "        text-align: right;\n",
       "    }\n",
       "</style>\n",
       "<table border=\"1\" class=\"dataframe\">\n",
       "  <thead>\n",
       "    <tr style=\"text-align: right;\">\n",
       "      <th></th>\n",
       "      <th>Unnamed: 0</th>\n",
       "      <th>order_id</th>\n",
       "      <th>created_date</th>\n",
       "      <th>total_paid</th>\n",
       "      <th>state</th>\n",
       "    </tr>\n",
       "  </thead>\n",
       "  <tbody>\n",
       "    <tr>\n",
       "      <th>0</th>\n",
       "      <td>0</td>\n",
       "      <td>241319</td>\n",
       "      <td>2017-01-02 13:35:40</td>\n",
       "      <td>44.99</td>\n",
       "      <td>Cancelled</td>\n",
       "    </tr>\n",
       "    <tr>\n",
       "      <th>1</th>\n",
       "      <td>1</td>\n",
       "      <td>241423</td>\n",
       "      <td>2017-11-06 13:10:02</td>\n",
       "      <td>136.15</td>\n",
       "      <td>Completed</td>\n",
       "    </tr>\n",
       "    <tr>\n",
       "      <th>2</th>\n",
       "      <td>2</td>\n",
       "      <td>242832</td>\n",
       "      <td>2017-12-31 17:40:03</td>\n",
       "      <td>15.76</td>\n",
       "      <td>Completed</td>\n",
       "    </tr>\n",
       "    <tr>\n",
       "      <th>3</th>\n",
       "      <td>3</td>\n",
       "      <td>243330</td>\n",
       "      <td>2017-02-16 10:59:38</td>\n",
       "      <td>84.98</td>\n",
       "      <td>Completed</td>\n",
       "    </tr>\n",
       "    <tr>\n",
       "      <th>4</th>\n",
       "      <td>4</td>\n",
       "      <td>243784</td>\n",
       "      <td>2017-11-24 13:35:19</td>\n",
       "      <td>157.86</td>\n",
       "      <td>Cancelled</td>\n",
       "    </tr>\n",
       "  </tbody>\n",
       "</table>\n",
       "</div>"
      ],
      "text/plain": [
       "   Unnamed: 0  order_id        created_date  total_paid      state\n",
       "0           0    241319 2017-01-02 13:35:40       44.99  Cancelled\n",
       "1           1    241423 2017-11-06 13:10:02      136.15  Completed\n",
       "2           2    242832 2017-12-31 17:40:03       15.76  Completed\n",
       "3           3    243330 2017-02-16 10:59:38       84.98  Completed\n",
       "4           4    243784 2017-11-24 13:35:19      157.86  Cancelled"
      ]
     },
     "execution_count": 20,
     "metadata": {},
     "output_type": "execute_result"
    }
   ],
   "source": [
    "p.head()"
   ]
  }
 ],
 "metadata": {
  "kernelspec": {
   "display_name": "Python 3",
   "language": "python",
   "name": "python3"
  },
  "language_info": {
   "codemirror_mode": {
    "name": "ipython",
    "version": 3
   },
   "file_extension": ".py",
   "mimetype": "text/x-python",
   "name": "python",
   "nbconvert_exporter": "python",
   "pygments_lexer": "ipython3",
   "version": "3.8.8"
  }
 },
 "nbformat": 4,
 "nbformat_minor": 5
}
