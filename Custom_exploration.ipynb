{
 "cells": [
  {
   "cell_type": "markdown",
   "id": "bfb0bd69-4290-49dc-9f9d-d68cad097b20",
   "metadata": {
    "tags": []
   },
   "source": [
    "# Custom exploration of Eniac's database"
   ]
  },
  {
   "cell_type": "code",
   "execution_count": 1,
   "id": "b48b330d-102e-473a-8aa4-3b7a6db485c6",
   "metadata": {},
   "outputs": [],
   "source": [
    "import pandas as pd"
   ]
  },
  {
   "cell_type": "code",
   "execution_count": 42,
   "id": "5d47c7d4-85ea-494a-a335-a4443644c3dc",
   "metadata": {},
   "outputs": [],
   "source": [
    "orderlines = pd.read_csv('data/eniac/orderlines.csv')\n",
    "products = pd.read_csv('data/eniac/products.csv')\n",
    "orders = pd.read_csv('data/eniac/orders.csv')"
   ]
  },
  {
   "cell_type": "markdown",
   "id": "8527c5d6-9695-48e9-84c6-f9aa6f3dde36",
   "metadata": {},
   "source": [
    "# Orderlines info"
   ]
  },
  {
   "cell_type": "code",
   "execution_count": 4,
   "id": "97732a12-198d-426a-8baf-9dc1cd61abc7",
   "metadata": {},
   "outputs": [
    {
     "name": "stdout",
     "output_type": "stream",
     "text": [
      "<class 'pandas.core.frame.DataFrame'>\n",
      "RangeIndex: 293983 entries, 0 to 293982\n",
      "Data columns (total 7 columns):\n",
      " #   Column            Non-Null Count   Dtype \n",
      "---  ------            --------------   ----- \n",
      " 0   id                293983 non-null  int64 \n",
      " 1   id_order          293983 non-null  int64 \n",
      " 2   product_id        293983 non-null  int64 \n",
      " 3   product_quantity  293983 non-null  int64 \n",
      " 4   sku               293983 non-null  object\n",
      " 5   unit_price        293983 non-null  object\n",
      " 6   date              293983 non-null  object\n",
      "dtypes: int64(4), object(3)\n",
      "memory usage: 15.7+ MB\n"
     ]
    }
   ],
   "source": [
    "orderlines.info()"
   ]
  },
  {
   "cell_type": "code",
   "execution_count": 46,
   "id": "b26fbc84-7338-40d1-8ac2-053282ec1b56",
   "metadata": {},
   "outputs": [
    {
     "data": {
      "text/html": [
       "<div>\n",
       "<style scoped>\n",
       "    .dataframe tbody tr th:only-of-type {\n",
       "        vertical-align: middle;\n",
       "    }\n",
       "\n",
       "    .dataframe tbody tr th {\n",
       "        vertical-align: top;\n",
       "    }\n",
       "\n",
       "    .dataframe thead th {\n",
       "        text-align: right;\n",
       "    }\n",
       "</style>\n",
       "<table border=\"1\" class=\"dataframe\">\n",
       "  <thead>\n",
       "    <tr style=\"text-align: right;\">\n",
       "      <th></th>\n",
       "      <th>id</th>\n",
       "      <th>id_order</th>\n",
       "      <th>product_id</th>\n",
       "      <th>product_quantity</th>\n",
       "      <th>sku</th>\n",
       "      <th>unit_price</th>\n",
       "      <th>date</th>\n",
       "    </tr>\n",
       "  </thead>\n",
       "  <tbody>\n",
       "    <tr>\n",
       "      <th>0</th>\n",
       "      <td>1119109</td>\n",
       "      <td>299539</td>\n",
       "      <td>0</td>\n",
       "      <td>1</td>\n",
       "      <td>OTT0133</td>\n",
       "      <td>18.99</td>\n",
       "      <td>2017-01-01 00:07:19</td>\n",
       "    </tr>\n",
       "    <tr>\n",
       "      <th>1</th>\n",
       "      <td>1119110</td>\n",
       "      <td>299540</td>\n",
       "      <td>0</td>\n",
       "      <td>1</td>\n",
       "      <td>LGE0043</td>\n",
       "      <td>399.00</td>\n",
       "      <td>2017-01-01 00:19:45</td>\n",
       "    </tr>\n",
       "    <tr>\n",
       "      <th>2</th>\n",
       "      <td>1119111</td>\n",
       "      <td>299541</td>\n",
       "      <td>0</td>\n",
       "      <td>1</td>\n",
       "      <td>PAR0071</td>\n",
       "      <td>474.05</td>\n",
       "      <td>2017-01-01 00:20:57</td>\n",
       "    </tr>\n",
       "    <tr>\n",
       "      <th>3</th>\n",
       "      <td>1119112</td>\n",
       "      <td>299542</td>\n",
       "      <td>0</td>\n",
       "      <td>1</td>\n",
       "      <td>WDT0315</td>\n",
       "      <td>68.39</td>\n",
       "      <td>2017-01-01 00:51:40</td>\n",
       "    </tr>\n",
       "    <tr>\n",
       "      <th>4</th>\n",
       "      <td>1119113</td>\n",
       "      <td>299543</td>\n",
       "      <td>0</td>\n",
       "      <td>1</td>\n",
       "      <td>JBL0104</td>\n",
       "      <td>23.74</td>\n",
       "      <td>2017-01-01 01:06:38</td>\n",
       "    </tr>\n",
       "    <tr>\n",
       "      <th>5</th>\n",
       "      <td>1119114</td>\n",
       "      <td>295310</td>\n",
       "      <td>0</td>\n",
       "      <td>10</td>\n",
       "      <td>WDT0249</td>\n",
       "      <td>231.79</td>\n",
       "      <td>2017-01-01 01:14:27</td>\n",
       "    </tr>\n",
       "    <tr>\n",
       "      <th>6</th>\n",
       "      <td>1119115</td>\n",
       "      <td>299544</td>\n",
       "      <td>0</td>\n",
       "      <td>1</td>\n",
       "      <td>APP1582</td>\n",
       "      <td>1137.99</td>\n",
       "      <td>2017-01-01 01:17:21</td>\n",
       "    </tr>\n",
       "    <tr>\n",
       "      <th>7</th>\n",
       "      <td>1119116</td>\n",
       "      <td>299545</td>\n",
       "      <td>0</td>\n",
       "      <td>1</td>\n",
       "      <td>OWC0100</td>\n",
       "      <td>47.49</td>\n",
       "      <td>2017-01-01 01:46:16</td>\n",
       "    </tr>\n",
       "    <tr>\n",
       "      <th>8</th>\n",
       "      <td>1119119</td>\n",
       "      <td>299546</td>\n",
       "      <td>0</td>\n",
       "      <td>1</td>\n",
       "      <td>IOT0014</td>\n",
       "      <td>18.99</td>\n",
       "      <td>2017-01-01 01:50:34</td>\n",
       "    </tr>\n",
       "    <tr>\n",
       "      <th>9</th>\n",
       "      <td>1119120</td>\n",
       "      <td>295347</td>\n",
       "      <td>0</td>\n",
       "      <td>1</td>\n",
       "      <td>APP0700</td>\n",
       "      <td>72.19</td>\n",
       "      <td>2017-01-01 01:54:11</td>\n",
       "    </tr>\n",
       "  </tbody>\n",
       "</table>\n",
       "</div>"
      ],
      "text/plain": [
       "        id  id_order  product_id  product_quantity      sku  unit_price  \\\n",
       "0  1119109    299539           0                 1  OTT0133       18.99   \n",
       "1  1119110    299540           0                 1  LGE0043      399.00   \n",
       "2  1119111    299541           0                 1  PAR0071      474.05   \n",
       "3  1119112    299542           0                 1  WDT0315       68.39   \n",
       "4  1119113    299543           0                 1  JBL0104       23.74   \n",
       "5  1119114    295310           0                10  WDT0249      231.79   \n",
       "6  1119115    299544           0                 1  APP1582     1137.99   \n",
       "7  1119116    299545           0                 1  OWC0100       47.49   \n",
       "8  1119119    299546           0                 1  IOT0014       18.99   \n",
       "9  1119120    295347           0                 1  APP0700       72.19   \n",
       "\n",
       "                  date  \n",
       "0  2017-01-01 00:07:19  \n",
       "1  2017-01-01 00:19:45  \n",
       "2  2017-01-01 00:20:57  \n",
       "3  2017-01-01 00:51:40  \n",
       "4  2017-01-01 01:06:38  \n",
       "5  2017-01-01 01:14:27  \n",
       "6  2017-01-01 01:17:21  \n",
       "7  2017-01-01 01:46:16  \n",
       "8  2017-01-01 01:50:34  \n",
       "9  2017-01-01 01:54:11  "
      ]
     },
     "execution_count": 46,
     "metadata": {},
     "output_type": "execute_result"
    }
   ],
   "source": [
    "orderlines.head(10)"
   ]
  },
  {
   "cell_type": "markdown",
   "id": "198ec26e-78a1-4d43-a3af-f8482e6c5c24",
   "metadata": {
    "tags": []
   },
   "source": [
    "# Products info"
   ]
  },
  {
   "cell_type": "code",
   "execution_count": 10,
   "id": "0d75e8aa-ef3a-49a7-8d48-bbb382af56e7",
   "metadata": {
    "tags": []
   },
   "outputs": [
    {
     "name": "stdout",
     "output_type": "stream",
     "text": [
      "<class 'pandas.core.frame.DataFrame'>\n",
      "RangeIndex: 19326 entries, 0 to 19325\n",
      "Data columns (total 7 columns):\n",
      " #   Column       Non-Null Count  Dtype \n",
      "---  ------       --------------  ----- \n",
      " 0   sku          19326 non-null  object\n",
      " 1   name         19326 non-null  object\n",
      " 2   desc         19319 non-null  object\n",
      " 3   price        19280 non-null  object\n",
      " 4   promo_price  19326 non-null  object\n",
      " 5   in_stock     19326 non-null  int64 \n",
      " 6   type         19276 non-null  object\n",
      "dtypes: int64(1), object(6)\n",
      "memory usage: 1.0+ MB\n"
     ]
    }
   ],
   "source": [
    "products.info()"
   ]
  },
  {
   "cell_type": "markdown",
   "id": "fb771269-cb84-4e2d-9cf4-bc13ba6f1087",
   "metadata": {},
   "source": [
    "## Orders info"
   ]
  },
  {
   "cell_type": "code",
   "execution_count": 13,
   "id": "e02ea159-84b9-40e9-a988-3a5d446974df",
   "metadata": {},
   "outputs": [
    {
     "name": "stdout",
     "output_type": "stream",
     "text": [
      "<class 'pandas.core.frame.DataFrame'>\n",
      "RangeIndex: 226909 entries, 0 to 226908\n",
      "Data columns (total 4 columns):\n",
      " #   Column        Non-Null Count   Dtype  \n",
      "---  ------        --------------   -----  \n",
      " 0   order_id      226909 non-null  int64  \n",
      " 1   created_date  226909 non-null  object \n",
      " 2   total_paid    226904 non-null  float64\n",
      " 3   state         226909 non-null  object \n",
      "dtypes: float64(1), int64(1), object(2)\n",
      "memory usage: 6.9+ MB\n"
     ]
    }
   ],
   "source": [
    "orders.info()"
   ]
  },
  {
   "cell_type": "markdown",
   "id": "6e71ff38-fa0e-4707-80f2-82c19babb331",
   "metadata": {},
   "source": [
    "## How many orders are there?"
   ]
  },
  {
   "cell_type": "code",
   "execution_count": 8,
   "id": "7cc12eab-dcf3-4a05-81cb-442a0d6168ae",
   "metadata": {},
   "outputs": [
    {
     "data": {
      "text/plain": [
       "204855"
      ]
     },
     "execution_count": 8,
     "metadata": {},
     "output_type": "execute_result"
    }
   ],
   "source": [
    "orderlines.id_order.nunique()"
   ]
  },
  {
   "cell_type": "markdown",
   "id": "b3310ddc-c251-4963-90a8-1dc3a9f82a74",
   "metadata": {},
   "source": [
    "## How many products are there?"
   ]
  },
  {
   "cell_type": "code",
   "execution_count": 11,
   "id": "3d0a6661-9f94-4d06-9c7e-ae64d2032f86",
   "metadata": {},
   "outputs": [
    {
     "data": {
      "text/plain": [
       "10579"
      ]
     },
     "execution_count": 11,
     "metadata": {},
     "output_type": "execute_result"
    }
   ],
   "source": [
    "products.sku.nunique()"
   ]
  },
  {
   "cell_type": "markdown",
   "id": "6c77ce50-279c-49c4-9aeb-7030a035b8b5",
   "metadata": {},
   "source": [
    "## What period of time do these orders comprise?"
   ]
  },
  {
   "cell_type": "code",
   "execution_count": 18,
   "id": "7bd1b15d-07ac-4539-b14a-0f54d608a603",
   "metadata": {},
   "outputs": [
    {
     "data": {
      "text/plain": [
       "min    2017-01-01 00:07:19\n",
       "max    2018-03-14 13:58:36\n",
       "Name: created_date, dtype: object"
      ]
     },
     "execution_count": 18,
     "metadata": {},
     "output_type": "execute_result"
    }
   ],
   "source": [
    "orders.created_date.agg(['min', 'max'])"
   ]
  },
  {
   "cell_type": "markdown",
   "id": "e8e335ee-0e5d-42c0-9d15-dc9d1f0858c4",
   "metadata": {},
   "source": [
    "## How many orders are Completed?"
   ]
  },
  {
   "cell_type": "code",
   "execution_count": 19,
   "id": "e9073309-c1df-4811-ab9d-c0ee931ae5bf",
   "metadata": {},
   "outputs": [
    {
     "data": {
      "text/plain": [
       "array(['Cancelled', 'Completed', 'Pending', 'Shopping Basket',\n",
       "       'Place Order'], dtype=object)"
      ]
     },
     "execution_count": 19,
     "metadata": {},
     "output_type": "execute_result"
    }
   ],
   "source": [
    "orders.state.unique()"
   ]
  },
  {
   "cell_type": "code",
   "execution_count": 23,
   "id": "ff668034-f75b-47e6-90ec-b9bc3ce5344b",
   "metadata": {},
   "outputs": [
    {
     "data": {
      "text/plain": [
       "Completed    46605\n",
       "Name: state, dtype: int64"
      ]
     },
     "execution_count": 23,
     "metadata": {},
     "output_type": "execute_result"
    }
   ],
   "source": [
    "orders.loc[orders.state == 'Completed'].state.value_counts()"
   ]
  },
  {
   "cell_type": "markdown",
   "id": "ecf274de-8a7f-4906-9ee6-7adc97a4c6d7",
   "metadata": {},
   "source": [
    "## How should revenue be computed?"
   ]
  },
  {
   "cell_type": "markdown",
   "id": "6b8b4993-59da-40e9-a99d-df9f824acb1d",
   "metadata": {},
   "source": [
    "First, I have to convert 'unit_price' to Float"
   ]
  },
  {
   "cell_type": "code",
   "execution_count": 43,
   "id": "c20e4583-ba72-4646-99ea-4177bbcc4d58",
   "metadata": {},
   "outputs": [],
   "source": [
    "orderlines['unit_price'] = orderlines['unit_price'].str.rsplit('.',1).apply(lambda x : x[0]+ ',' + x[1])\n",
    "orderlines['unit_price'] = orderlines['unit_price'].str.replace('.','',regex=True)\n",
    "orderlines['unit_price'] = orderlines['unit_price'].str.replace(',','.',regex=True)\n",
    "orderlines['unit_price'] = orderlines['unit_price'].astype(float)"
   ]
  },
  {
   "cell_type": "markdown",
   "id": "dcbf3d8b-95ba-487f-8d37-bb50ca5a33dc",
   "metadata": {},
   "source": [
    "Revenue for entire database"
   ]
  },
  {
   "cell_type": "code",
   "execution_count": 44,
   "id": "9386bf1b-8792-460b-aa8e-d1b18987bc64",
   "metadata": {},
   "outputs": [
    {
     "data": {
      "text/plain": [
       "128776222.02999999"
      ]
     },
     "execution_count": 44,
     "metadata": {},
     "output_type": "execute_result"
    }
   ],
   "source": [
    "orderlines.assign(total_price = orderlines.unit_price * orderlines.product_quantity)['total_price'].sum()"
   ]
  },
  {
   "cell_type": "markdown",
   "id": "ddc143df-09e5-423c-adc7-684a31a565b1",
   "metadata": {},
   "source": [
    "To use date column as datetime:"
   ]
  },
  {
   "cell_type": "code",
   "execution_count": 49,
   "id": "ae38658a-d66d-48e4-9ab9-a8f83b2955cf",
   "metadata": {},
   "outputs": [],
   "source": [
    "orderlines['date'] = pd.to_datetime(orderlines['date'])"
   ]
  },
  {
   "cell_type": "markdown",
   "id": "515ce42b-4db0-4161-a5ad-d5076e7b72b2",
   "metadata": {},
   "source": [
    "Revenue for each year:"
   ]
  },
  {
   "cell_type": "code",
   "execution_count": 52,
   "id": "0de5df76-1dd4-4514-b0b8-3bf7978307cc",
   "metadata": {},
   "outputs": [
    {
     "data": {
      "text/html": [
       "<div>\n",
       "<style scoped>\n",
       "    .dataframe tbody tr th:only-of-type {\n",
       "        vertical-align: middle;\n",
       "    }\n",
       "\n",
       "    .dataframe tbody tr th {\n",
       "        vertical-align: top;\n",
       "    }\n",
       "\n",
       "    .dataframe thead th {\n",
       "        text-align: right;\n",
       "    }\n",
       "</style>\n",
       "<table border=\"1\" class=\"dataframe\">\n",
       "  <thead>\n",
       "    <tr style=\"text-align: right;\">\n",
       "      <th></th>\n",
       "      <th>id</th>\n",
       "      <th>id_order</th>\n",
       "      <th>product_id</th>\n",
       "      <th>product_quantity</th>\n",
       "      <th>unit_price</th>\n",
       "      <th>total_price</th>\n",
       "    </tr>\n",
       "    <tr>\n",
       "      <th>year</th>\n",
       "      <th></th>\n",
       "      <th></th>\n",
       "      <th></th>\n",
       "      <th></th>\n",
       "      <th></th>\n",
       "      <th></th>\n",
       "    </tr>\n",
       "  </thead>\n",
       "  <tbody>\n",
       "    <tr>\n",
       "      <th>2017</th>\n",
       "      <td>292571254920</td>\n",
       "      <td>86093077640</td>\n",
       "      <td>0</td>\n",
       "      <td>248816</td>\n",
       "      <td>83522983.71</td>\n",
       "      <td>90144159.46</td>\n",
       "    </tr>\n",
       "    <tr>\n",
       "      <th>2018</th>\n",
       "      <td>118392903252</td>\n",
       "      <td>37379522639</td>\n",
       "      <td>0</td>\n",
       "      <td>80776</td>\n",
       "      <td>36967475.10</td>\n",
       "      <td>38632062.57</td>\n",
       "    </tr>\n",
       "  </tbody>\n",
       "</table>\n",
       "</div>"
      ],
      "text/plain": [
       "                id     id_order  product_id  product_quantity   unit_price  \\\n",
       "year                                                                         \n",
       "2017  292571254920  86093077640           0            248816  83522983.71   \n",
       "2018  118392903252  37379522639           0             80776  36967475.10   \n",
       "\n",
       "      total_price  \n",
       "year               \n",
       "2017  90144159.46  \n",
       "2018  38632062.57  "
      ]
     },
     "execution_count": 52,
     "metadata": {},
     "output_type": "execute_result"
    }
   ],
   "source": [
    "orderlines.assign(total_price = orderlines.unit_price * orderlines.product_quantity, year = orderlines.date.dt.strftime('%Y')).groupby('year').agg('sum')"
   ]
  }
 ],
 "metadata": {
  "kernelspec": {
   "display_name": "Python 3",
   "language": "python",
   "name": "python3"
  },
  "language_info": {
   "codemirror_mode": {
    "name": "ipython",
    "version": 3
   },
   "file_extension": ".py",
   "mimetype": "text/x-python",
   "name": "python",
   "nbconvert_exporter": "python",
   "pygments_lexer": "ipython3",
   "version": "3.8.8"
  }
 },
 "nbformat": 4,
 "nbformat_minor": 5
}
