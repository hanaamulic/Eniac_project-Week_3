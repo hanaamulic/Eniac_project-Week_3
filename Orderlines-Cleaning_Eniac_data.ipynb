{
 "cells": [
  {
   "cell_type": "markdown",
   "id": "4c28e00f-65f4-4f45-be31-ba9281e2a1d4",
   "metadata": {},
   "source": [
    "# Cleaning Eniac data - orderlines"
   ]
  },
  {
   "cell_type": "code",
   "execution_count": 1,
   "id": "7c5f1561-09eb-4f47-a96f-730e94a7301c",
   "metadata": {},
   "outputs": [],
   "source": [
    "import pandas as pd\n",
    "from functools import wraps\n",
    "import datetime as dt"
   ]
  },
  {
   "cell_type": "code",
   "execution_count": 2,
   "id": "29998ea5-2940-4529-a8f2-170bd39bfa05",
   "metadata": {},
   "outputs": [],
   "source": [
    "orderlines = pd.read_csv('data/eniac/orderlines.csv')\n",
    "products = pd.read_csv('data/eniac/products.csv')\n",
    "orders = pd.read_csv('data/eniac/orders.csv')"
   ]
  },
  {
   "cell_type": "code",
   "execution_count": 3,
   "id": "87813558-f075-4fe2-b92d-082eabc22e34",
   "metadata": {},
   "outputs": [],
   "source": [
    "temp = orderlines.copy()"
   ]
  },
  {
   "cell_type": "code",
   "execution_count": 4,
   "id": "140447c8-6473-48c7-89b4-5b14ef59afde",
   "metadata": {
    "tags": []
   },
   "outputs": [],
   "source": [
    "# Function that makes logs in the pipeline\n",
    "def log_step(func):\n",
    "    @wraps(func)\n",
    "    def wrapper(*args, **kwargs):\n",
    "        tic = dt.datetime.now()\n",
    "        result = func(*args, **kwargs)\n",
    "        time_taken = str(dt.datetime.now() - tic)\n",
    "        print(f\"just ran step {func.__name__} shape={result.shape} took {time_taken}s\")\n",
    "        return result\n",
    "    return wrapper"
   ]
  },
  {
   "cell_type": "code",
   "execution_count": 5,
   "id": "3ab3cc10-a508-4782-b4fe-959de372bc48",
   "metadata": {
    "tags": []
   },
   "outputs": [],
   "source": [
    "# Function that returns copy of DataFrame\n",
    "@log_step\n",
    "def start_pipeline(df):\n",
    "    return df.copy()"
   ]
  },
  {
   "cell_type": "markdown",
   "id": "36ae560a-e441-44d8-8cdf-140ca28552e3",
   "metadata": {
    "tags": []
   },
   "source": [
    "## Orderlines info"
   ]
  },
  {
   "cell_type": "code",
   "execution_count": 6,
   "id": "bdcb1d58-3be0-4d19-8113-9c5c43886c4f",
   "metadata": {},
   "outputs": [],
   "source": [
    "#Function that returns number of missing values\n",
    "def check_missing_values(data): \n",
    "    print('Missing values:' + '\\n' + str(data.isna().sum()))\n",
    "\n",
    "#Function that returns number of duplicated rows\n",
    "def check_duplicates(data): \n",
    "    print('Duplicated rows: ', data.duplicated().sum())\n",
    "\n",
    "def check_table(df):\n",
    "    check_missing_values(df)\n",
    "    check_duplicates(df)\n",
    "    df.info()"
   ]
  },
  {
   "cell_type": "code",
   "execution_count": 7,
   "id": "20de4f89-9f7f-4263-9230-9198049ca8a0",
   "metadata": {
    "tags": []
   },
   "outputs": [
    {
     "name": "stdout",
     "output_type": "stream",
     "text": [
      "Missing values:\n",
      "id                  0\n",
      "id_order            0\n",
      "product_id          0\n",
      "product_quantity    0\n",
      "sku                 0\n",
      "unit_price          0\n",
      "date                0\n",
      "dtype: int64\n",
      "Duplicated rows:  0\n",
      "<class 'pandas.core.frame.DataFrame'>\n",
      "RangeIndex: 293983 entries, 0 to 293982\n",
      "Data columns (total 7 columns):\n",
      " #   Column            Non-Null Count   Dtype \n",
      "---  ------            --------------   ----- \n",
      " 0   id                293983 non-null  int64 \n",
      " 1   id_order          293983 non-null  int64 \n",
      " 2   product_id        293983 non-null  int64 \n",
      " 3   product_quantity  293983 non-null  int64 \n",
      " 4   sku               293983 non-null  object\n",
      " 5   unit_price        293983 non-null  object\n",
      " 6   date              293983 non-null  object\n",
      "dtypes: int64(4), object(3)\n",
      "memory usage: 15.7+ MB\n"
     ]
    }
   ],
   "source": [
    "check_table(orderlines)"
   ]
  },
  {
   "cell_type": "markdown",
   "id": "d01b1014-423a-4ac1-af86-77b8084487f8",
   "metadata": {},
   "source": [
    "### Dropping columns"
   ]
  },
  {
   "cell_type": "markdown",
   "id": "7f68df03-fddb-4b8d-97f8-d3cf12c12948",
   "metadata": {},
   "source": [
    "I have decided to drop column product_id because is outdated and real id for products is 'sku' column"
   ]
  },
  {
   "cell_type": "code",
   "execution_count": 8,
   "id": "388d3cc4-0def-44d5-8746-46ae41b93422",
   "metadata": {},
   "outputs": [],
   "source": [
    "# Function that drops columns from a list of columns\n",
    "@log_step\n",
    "def drop_columns(df, columns):\n",
    "    return df.drop(columns,axis=1)"
   ]
  },
  {
   "cell_type": "code",
   "execution_count": 9,
   "id": "c27ff5c3-6453-478d-8102-49892bf65305",
   "metadata": {},
   "outputs": [],
   "source": [
    "columns_to_drop = ['product_id']"
   ]
  },
  {
   "cell_type": "markdown",
   "id": "c729c88a-5fde-4ff3-9a89-c211c200d939",
   "metadata": {},
   "source": [
    "### Changing types "
   ]
  },
  {
   "cell_type": "markdown",
   "id": "6725d8f5-6d68-42cd-a0d2-713a338c9a18",
   "metadata": {
    "tags": []
   },
   "source": [
    "I have to change types of 'date' (to DateTime) and 'unit_price'  (to float)"
   ]
  },
  {
   "cell_type": "markdown",
   "id": "b11869b3-fd2d-4704-bfb2-536f64f685f5",
   "metadata": {},
   "source": [
    "#### change 'date' to DateTime"
   ]
  },
  {
   "cell_type": "code",
   "execution_count": 10,
   "id": "c8c4e01d-88ec-44d6-8639-2b513935302b",
   "metadata": {},
   "outputs": [],
   "source": [
    "#function that converts DataSeries type to dataFrame\n",
    "@log_step\n",
    "def toDateTime(df,column):\n",
    "    df[column] = pd.to_datetime(df[column])\n",
    "    return df"
   ]
  },
  {
   "cell_type": "code",
   "execution_count": 11,
   "id": "d1814b54-976f-464a-b1a6-b0088132ceb9",
   "metadata": {
    "tags": []
   },
   "outputs": [],
   "source": [
    "col_to_datetime = 'date'"
   ]
  },
  {
   "cell_type": "markdown",
   "id": "49a81a71-b213-4cd0-8892-7d82248d49a7",
   "metadata": {
    "tags": []
   },
   "source": [
    "It seems like unit_price had some problems with decimals, decimal spaces...so I have created clean_unit_price function to clean it. After that I was able to change types to float."
   ]
  },
  {
   "cell_type": "markdown",
   "id": "3a745f12-0c90-4f7c-82e3-1c2dc41b521a",
   "metadata": {},
   "source": [
    "#### clean unit_price"
   ]
  },
  {
   "cell_type": "code",
   "execution_count": 12,
   "id": "f7fda5d3-4dc0-4855-adb8-b32b19fd8973",
   "metadata": {
    "tags": []
   },
   "outputs": [],
   "source": [
    "#Function for cleaning price and promo_price columns\n",
    "@log_step\n",
    "def clean_unit_price(df):\n",
    "    df['unit_price'] = df['unit_price'].str.rsplit('.',1).apply(lambda x : x[0]+ ',' + x[1]).str.replace('.','',regex=True).str.replace(',','.',regex=True)\n",
    "    return df"
   ]
  },
  {
   "cell_type": "markdown",
   "id": "1faa6497-139f-4f44-a1e0-e2499cbabd09",
   "metadata": {},
   "source": [
    "#### change unit_price to float"
   ]
  },
  {
   "cell_type": "code",
   "execution_count": 13,
   "id": "03fc898a-5107-49e5-86d0-b670500ab927",
   "metadata": {
    "tags": []
   },
   "outputs": [],
   "source": [
    "#Function that converts DataSeries type to float\n",
    "@log_step\n",
    "def tofloat(df,column):\n",
    "    df['unit_price'] = df['unit_price'].astype(float)\n",
    "    return df"
   ]
  },
  {
   "cell_type": "code",
   "execution_count": 14,
   "id": "fab5e739-fcf8-4496-ac50-826060d0f302",
   "metadata": {},
   "outputs": [],
   "source": [
    "col_to_float = 'unit_price'"
   ]
  },
  {
   "cell_type": "markdown",
   "id": "b71efe27-822b-4095-b18c-811b58c7e446",
   "metadata": {},
   "source": [
    "### Changing names"
   ]
  },
  {
   "cell_type": "markdown",
   "id": "21e4de5a-81e0-4f5f-b39d-4206d1afb95f",
   "metadata": {},
   "source": [
    "I have decided to change name of the column 'id_order' to 'order_id' for easier later merge with orders table"
   ]
  },
  {
   "cell_type": "code",
   "execution_count": 15,
   "id": "c1927227-98c1-4576-a4fb-77eca2d6b04b",
   "metadata": {},
   "outputs": [],
   "source": [
    "#Function that renames column from old to new\n",
    "@log_step\n",
    "def change_col_name(df,old,new):\n",
    "    return df.rename(columns={old : new})"
   ]
  },
  {
   "cell_type": "code",
   "execution_count": 16,
   "id": "381b91d9-f8ad-4240-9d61-d572633f595c",
   "metadata": {
    "tags": []
   },
   "outputs": [],
   "source": [
    "old='id_order'\n",
    "new='order_id'"
   ]
  },
  {
   "cell_type": "markdown",
   "id": "82b7a6bf-9361-489f-b094-af5640555269",
   "metadata": {},
   "source": [
    "### Dealing with 'ghosts'"
   ]
  },
  {
   "cell_type": "markdown",
   "id": "c941c12d-d2f5-413e-bc23-0d06a4e2df35",
   "metadata": {},
   "source": [
    "Check how many orders from orderlines don't exist in orders by order_id (234- delete them)"
   ]
  },
  {
   "cell_type": "code",
   "execution_count": 17,
   "id": "c88686cd-079d-4fbb-a631-60488f7ba6a2",
   "metadata": {},
   "outputs": [],
   "source": [
    "# (p.\n",
    "#     assign(check_orders = p.order_id.isin(orders.order_id)).\n",
    "#     query(\"check_orders==False\")\n",
    "# )"
   ]
  },
  {
   "cell_type": "code",
   "execution_count": 18,
   "id": "c4ac5bb3-66d8-42d4-8bb3-b042356cc632",
   "metadata": {},
   "outputs": [],
   "source": [
    "@log_step\n",
    "def delete_orderlines_not_in_orders(df):\n",
    "    df = (df.\n",
    "            assign(check_orders = df.order_id.isin(orders.order_id)).\n",
    "            query(\"check_orders==True\")\n",
    "            )\n",
    "    return df.drop('check_orders',axis=1)"
   ]
  },
  {
   "cell_type": "markdown",
   "id": "b962817f-08ae-4cfd-9443-aef11c4a095c",
   "metadata": {},
   "source": [
    "### Creating new column 'total_sum' for each orderline (quant*unit_price)"
   ]
  },
  {
   "cell_type": "markdown",
   "id": "969c7e39-1ca7-4b7a-ad4d-2f8002376800",
   "metadata": {},
   "source": [
    "This column could be useful in further exploration so I want it to be permanent column"
   ]
  },
  {
   "cell_type": "code",
   "execution_count": 21,
   "id": "9d44e49e-9582-434f-9f99-f52e43fc02d5",
   "metadata": {},
   "outputs": [],
   "source": [
    "@log_step\n",
    "def create_total_sum(df):\n",
    "    return df.assign(total_sum = df.unit_price * df.product_quantity)"
   ]
  },
  {
   "cell_type": "markdown",
   "id": "9176861a-fda5-431d-af0f-da0785dcb869",
   "metadata": {},
   "source": [
    "### Dealing with outliers based on big difference between total_paid and total_sum"
   ]
  },
  {
   "cell_type": "code",
   "execution_count": 110,
   "id": "3e103c56-04f2-46c4-a4fe-b678cf5a83de",
   "metadata": {},
   "outputs": [],
   "source": [
    "@log_step\n",
    "def deleting_outliers(df,df_orders):\n",
    "    temp = (  df\n",
    "            .groupby('order_id')\n",
    "            .agg({'total_sum':'sum'})\n",
    "            .merge(orders,how='left', left_on='order_id',right_on='order_id')\n",
    "            \n",
    "         )\n",
    "    temp = temp.assign(price_difference = temp.total_paid - temp.total_sum)\n",
    "    not_outliers = temp[(temp.price_difference > -0.1) & (temp.price_difference < 150)]['order_id'].tolist()\n",
    "    outliers = temp[(temp.price_difference <= -0.1) | (temp.price_difference >= 150)]['order_id'].tolist()\n",
    "    df_orders = df_orders[~df_orders.order_id.isin(outliers)]\n",
    "    df_orders.to_csv('data/eniac/orders_without_outliers.csv',index=False)\n",
    "    return df[df.order_id.isin(not_outliers)]    "
   ]
  },
  {
   "cell_type": "code",
   "execution_count": null,
   "id": "7cc499c9-ff83-4188-9f8a-f539a7be028b",
   "metadata": {},
   "outputs": [],
   "source": []
  },
  {
   "cell_type": "markdown",
   "id": "47136a41-e549-46be-8a59-3afe4686e996",
   "metadata": {},
   "source": [
    "## Pipeline"
   ]
  },
  {
   "cell_type": "code",
   "execution_count": 108,
   "id": "ad01dd18-ff64-4c7f-82f5-35942e27f961",
   "metadata": {},
   "outputs": [
    {
     "name": "stdout",
     "output_type": "stream",
     "text": [
      "just ran step start_pipeline shape=(293983, 7) took 0:00:00.013967s\n",
      "just ran step drop_columns shape=(293983, 6) took 0:00:00.015954s\n",
      "just ran step toDateTime shape=(293983, 6) took 0:00:00.134442s\n",
      "just ran step clean_unit_price shape=(293983, 6) took 0:00:00.754899s\n",
      "just ran step tofloat shape=(293983, 6) took 0:00:00.040921s\n",
      "just ran step change_col_name shape=(293983, 6) took 0:00:00.004992s\n",
      "just ran step delete_orderlines_not_in_orders shape=(293749, 6) took 0:00:00.035936s\n",
      "just ran step create_total_sum shape=(293749, 7) took 0:00:00.007015s\n",
      "just ran step deleting_outliers shape=(292854, 7) took 0:00:00.712701s\n"
     ]
    }
   ],
   "source": [
    "p = (orderlines\n",
    "     .pipe(start_pipeline)\n",
    "     .pipe(drop_columns,columns_to_drop)\n",
    "     .pipe(toDateTime,col_to_datetime)\n",
    "     .pipe(clean_unit_price)\n",
    "     .pipe(tofloat,col_to_float)\n",
    "     .pipe(change_col_name,old,new)\n",
    "     .pipe(delete_orderlines_not_in_orders)\n",
    "     .pipe(create_total_sum)\n",
    "     .pipe(deleting_outliers,orders)\n",
    ")"
   ]
  },
  {
   "cell_type": "code",
   "execution_count": null,
   "id": "c52f921c-d503-4fee-be40-fb428aea8685",
   "metadata": {
    "tags": []
   },
   "outputs": [],
   "source": [
    "# check_table(p)"
   ]
  },
  {
   "cell_type": "markdown",
   "id": "e184fe5d-30bf-4c40-a809-7f93ba03e9de",
   "metadata": {},
   "source": [
    "## Creating new clean csv"
   ]
  },
  {
   "cell_type": "code",
   "execution_count": 111,
   "id": "880b8b8c-8b91-4755-9c7f-0b27001624e8",
   "metadata": {},
   "outputs": [],
   "source": [
    "p.to_csv('data/eniac/orderlines_clean.csv',index=False)"
   ]
  },
  {
   "cell_type": "markdown",
   "id": "e2c6a58b-ca03-4992-97a4-585a9f84a087",
   "metadata": {
    "tags": []
   },
   "source": [
    "### Just some exploring code"
   ]
  },
  {
   "cell_type": "markdown",
   "id": "e2f80793-23fa-41f0-9aba-e3a91a1062b1",
   "metadata": {},
   "source": [
    "Merging orderlines with orders and adding column price_difference"
   ]
  },
  {
   "cell_type": "code",
   "execution_count": 104,
   "id": "4b19b74a-dfdd-4efa-a693-d7f25af3cbde",
   "metadata": {},
   "outputs": [],
   "source": [
    "merged = (  p\n",
    "            .groupby('order_id')\n",
    "            .agg({'total_sum':'sum'})\n",
    "            .merge(orders,how='left', left_on='order_id',right_on='order_id')\n",
    "         )"
   ]
  },
  {
   "cell_type": "code",
   "execution_count": 105,
   "id": "e8b26fc9-d038-4be7-a2cc-8407b815f134",
   "metadata": {},
   "outputs": [],
   "source": [
    "merged = merged.assign(price_difference = merged.total_paid - merged.total_sum)"
   ]
  },
  {
   "cell_type": "code",
   "execution_count": 106,
   "id": "9d794901-fd1e-4a6d-bb90-79f29fe25022",
   "metadata": {},
   "outputs": [
    {
     "data": {
      "text/plain": [
       "count    204211.000000\n",
       "mean          1.417331\n",
       "std           3.047138\n",
       "min          -0.090000\n",
       "25%           0.000000\n",
       "50%           0.000000\n",
       "75%           0.010000\n",
       "max         132.210000\n",
       "Name: price_difference, dtype: float64"
      ]
     },
     "execution_count": 106,
     "metadata": {},
     "output_type": "execute_result"
    }
   ],
   "source": [
    "merged.price_difference.describe()"
   ]
  },
  {
   "cell_type": "raw",
   "id": "6b6d1b96-bb77-453d-bb08-da51fdb67c85",
   "metadata": {},
   "source": [
    "Numbers before removing outliers\n",
    "\n",
    "count    204691.000000\n",
    "mean          2.303391\n",
    "std         297.461827\n",
    "min      -36159.900000\n",
    "25%           0.000000\n",
    "50%           0.000000\n",
    "75%           0.010000\n",
    "max       90898.610000\n",
    "Name: price_difference, dtype: float64"
   ]
  },
  {
   "cell_type": "code",
   "execution_count": 90,
   "id": "a9104713-3cb6-42fe-931d-2d7f20400f73",
   "metadata": {},
   "outputs": [
    {
     "data": {
      "text/plain": [
       "order_id            24\n",
       "total_sum           24\n",
       "created_date        24\n",
       "total_paid          24\n",
       "state               24\n",
       "price_difference    24\n",
       "dtype: int64"
      ]
     },
     "execution_count": 90,
     "metadata": {},
     "output_type": "execute_result"
    }
   ],
   "source": [
    "merged[merged.price_difference > 150].count()"
   ]
  },
  {
   "cell_type": "code",
   "execution_count": 91,
   "id": "c97e54a6-47e3-450c-a762-f9d9fc59d0a1",
   "metadata": {},
   "outputs": [
    {
     "data": {
      "text/plain": [
       "order_id            456\n",
       "total_sum           456\n",
       "created_date        456\n",
       "total_paid          456\n",
       "state               456\n",
       "price_difference    456\n",
       "dtype: int64"
      ]
     },
     "execution_count": 91,
     "metadata": {},
     "output_type": "execute_result"
    }
   ],
   "source": [
    "merged[merged.price_difference < -0.1].count()"
   ]
  },
  {
   "cell_type": "markdown",
   "id": "02929047-184e-4dda-8b1d-585c0324df91",
   "metadata": {},
   "source": [
    "Final decision:"
   ]
  },
  {
   "cell_type": "code",
   "execution_count": 92,
   "id": "62d1f686-a7f9-4db9-ac92-7c6ef221a50e",
   "metadata": {},
   "outputs": [],
   "source": [
    "outliers = merged[(merged.price_difference <= -0.1) | (merged.price_difference >= 150)]['order_id'].tolist()"
   ]
  },
  {
   "cell_type": "code",
   "execution_count": 93,
   "id": "099fb2b4-ab50-4495-84b1-1024aa0ba819",
   "metadata": {},
   "outputs": [
    {
     "data": {
      "text/plain": [
       "480"
      ]
     },
     "execution_count": 93,
     "metadata": {},
     "output_type": "execute_result"
    }
   ],
   "source": [
    "len(outliers)"
   ]
  },
  {
   "cell_type": "code",
   "execution_count": 68,
   "id": "9de00ef4-fabb-4141-8391-0966f5df150d",
   "metadata": {},
   "outputs": [
    {
     "data": {
      "text/html": [
       "<div>\n",
       "<style scoped>\n",
       "    .dataframe tbody tr th:only-of-type {\n",
       "        vertical-align: middle;\n",
       "    }\n",
       "\n",
       "    .dataframe tbody tr th {\n",
       "        vertical-align: top;\n",
       "    }\n",
       "\n",
       "    .dataframe thead th {\n",
       "        text-align: right;\n",
       "    }\n",
       "</style>\n",
       "<table border=\"1\" class=\"dataframe\">\n",
       "  <thead>\n",
       "    <tr style=\"text-align: right;\">\n",
       "      <th></th>\n",
       "      <th>id</th>\n",
       "      <th>order_id</th>\n",
       "      <th>product_quantity</th>\n",
       "      <th>sku</th>\n",
       "      <th>unit_price</th>\n",
       "      <th>date</th>\n",
       "      <th>total_sum</th>\n",
       "    </tr>\n",
       "  </thead>\n",
       "  <tbody>\n",
       "    <tr>\n",
       "      <th>0</th>\n",
       "      <td>1119109</td>\n",
       "      <td>299539</td>\n",
       "      <td>1</td>\n",
       "      <td>OTT0133</td>\n",
       "      <td>18.99</td>\n",
       "      <td>2017-01-01 00:07:19</td>\n",
       "      <td>18.99</td>\n",
       "    </tr>\n",
       "    <tr>\n",
       "      <th>1</th>\n",
       "      <td>1119110</td>\n",
       "      <td>299540</td>\n",
       "      <td>1</td>\n",
       "      <td>LGE0043</td>\n",
       "      <td>399.00</td>\n",
       "      <td>2017-01-01 00:19:45</td>\n",
       "      <td>399.00</td>\n",
       "    </tr>\n",
       "    <tr>\n",
       "      <th>2</th>\n",
       "      <td>1119111</td>\n",
       "      <td>299541</td>\n",
       "      <td>1</td>\n",
       "      <td>PAR0071</td>\n",
       "      <td>474.05</td>\n",
       "      <td>2017-01-01 00:20:57</td>\n",
       "      <td>474.05</td>\n",
       "    </tr>\n",
       "    <tr>\n",
       "      <th>3</th>\n",
       "      <td>1119112</td>\n",
       "      <td>299542</td>\n",
       "      <td>1</td>\n",
       "      <td>WDT0315</td>\n",
       "      <td>68.39</td>\n",
       "      <td>2017-01-01 00:51:40</td>\n",
       "      <td>68.39</td>\n",
       "    </tr>\n",
       "    <tr>\n",
       "      <th>4</th>\n",
       "      <td>1119113</td>\n",
       "      <td>299543</td>\n",
       "      <td>1</td>\n",
       "      <td>JBL0104</td>\n",
       "      <td>23.74</td>\n",
       "      <td>2017-01-01 01:06:38</td>\n",
       "      <td>23.74</td>\n",
       "    </tr>\n",
       "    <tr>\n",
       "      <th>...</th>\n",
       "      <td>...</td>\n",
       "      <td>...</td>\n",
       "      <td>...</td>\n",
       "      <td>...</td>\n",
       "      <td>...</td>\n",
       "      <td>...</td>\n",
       "      <td>...</td>\n",
       "    </tr>\n",
       "    <tr>\n",
       "      <th>293978</th>\n",
       "      <td>1650199</td>\n",
       "      <td>527398</td>\n",
       "      <td>1</td>\n",
       "      <td>JBL0122</td>\n",
       "      <td>42.99</td>\n",
       "      <td>2018-03-14 13:57:25</td>\n",
       "      <td>42.99</td>\n",
       "    </tr>\n",
       "    <tr>\n",
       "      <th>293979</th>\n",
       "      <td>1650200</td>\n",
       "      <td>527399</td>\n",
       "      <td>1</td>\n",
       "      <td>PAC0653</td>\n",
       "      <td>141.58</td>\n",
       "      <td>2018-03-14 13:57:34</td>\n",
       "      <td>141.58</td>\n",
       "    </tr>\n",
       "    <tr>\n",
       "      <th>293980</th>\n",
       "      <td>1650201</td>\n",
       "      <td>527400</td>\n",
       "      <td>2</td>\n",
       "      <td>APP0698</td>\n",
       "      <td>9.99</td>\n",
       "      <td>2018-03-14 13:57:41</td>\n",
       "      <td>19.98</td>\n",
       "    </tr>\n",
       "    <tr>\n",
       "      <th>293981</th>\n",
       "      <td>1650202</td>\n",
       "      <td>527388</td>\n",
       "      <td>1</td>\n",
       "      <td>BEZ0204</td>\n",
       "      <td>19.99</td>\n",
       "      <td>2018-03-14 13:58:01</td>\n",
       "      <td>19.99</td>\n",
       "    </tr>\n",
       "    <tr>\n",
       "      <th>293982</th>\n",
       "      <td>1650203</td>\n",
       "      <td>527401</td>\n",
       "      <td>1</td>\n",
       "      <td>APP0927</td>\n",
       "      <td>13.99</td>\n",
       "      <td>2018-03-14 13:58:36</td>\n",
       "      <td>13.99</td>\n",
       "    </tr>\n",
       "  </tbody>\n",
       "</table>\n",
       "<p>292854 rows × 7 columns</p>\n",
       "</div>"
      ],
      "text/plain": [
       "             id  order_id  product_quantity      sku  unit_price  \\\n",
       "0       1119109    299539                 1  OTT0133       18.99   \n",
       "1       1119110    299540                 1  LGE0043      399.00   \n",
       "2       1119111    299541                 1  PAR0071      474.05   \n",
       "3       1119112    299542                 1  WDT0315       68.39   \n",
       "4       1119113    299543                 1  JBL0104       23.74   \n",
       "...         ...       ...               ...      ...         ...   \n",
       "293978  1650199    527398                 1  JBL0122       42.99   \n",
       "293979  1650200    527399                 1  PAC0653      141.58   \n",
       "293980  1650201    527400                 2  APP0698        9.99   \n",
       "293981  1650202    527388                 1  BEZ0204       19.99   \n",
       "293982  1650203    527401                 1  APP0927       13.99   \n",
       "\n",
       "                      date  total_sum  \n",
       "0      2017-01-01 00:07:19      18.99  \n",
       "1      2017-01-01 00:19:45     399.00  \n",
       "2      2017-01-01 00:20:57     474.05  \n",
       "3      2017-01-01 00:51:40      68.39  \n",
       "4      2017-01-01 01:06:38      23.74  \n",
       "...                    ...        ...  \n",
       "293978 2018-03-14 13:57:25      42.99  \n",
       "293979 2018-03-14 13:57:34     141.58  \n",
       "293980 2018-03-14 13:57:41      19.98  \n",
       "293981 2018-03-14 13:58:01      19.99  \n",
       "293982 2018-03-14 13:58:36      13.99  \n",
       "\n",
       "[292854 rows x 7 columns]"
      ]
     },
     "execution_count": 68,
     "metadata": {},
     "output_type": "execute_result"
    }
   ],
   "source": [
    "p[p.order_id.isin(non_outliers)]"
   ]
  }
 ],
 "metadata": {
  "kernelspec": {
   "display_name": "Python 3",
   "language": "python",
   "name": "python3"
  },
  "language_info": {
   "codemirror_mode": {
    "name": "ipython",
    "version": 3
   },
   "file_extension": ".py",
   "mimetype": "text/x-python",
   "name": "python",
   "nbconvert_exporter": "python",
   "pygments_lexer": "ipython3",
   "version": "3.8.8"
  }
 },
 "nbformat": 4,
 "nbformat_minor": 5
}
